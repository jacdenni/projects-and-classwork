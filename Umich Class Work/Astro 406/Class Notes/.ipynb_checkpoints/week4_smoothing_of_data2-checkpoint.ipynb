{
 "cells": [
  {
   "cell_type": "markdown",
   "metadata": {},
   "source": [
    "## Astronomy 406 \"Computational Astrophysics\" (Fall 2016)"
   ]
  },
  {
   "cell_type": "markdown",
   "metadata": {},
   "source": [
    "### Week 4: Smoothing of data, Root finding"
   ]
  },
  {
   "cell_type": "markdown",
   "metadata": {},
   "source": [
    "<b>Reading:</b> notes below, as well as $\\S$[14.9](https://umich.instructure.com/files/2392532/download?download_frd=1) and $\\S$[9.0-9.4](https://umich.instructure.com/files/2392534/download?download_frd=1) of [Numerical Recipes](http://numerical.recipes)."
   ]
  },
  {
   "cell_type": "code",
   "execution_count": null,
   "metadata": {
    "collapsed": true
   },
   "outputs": [],
   "source": [
    "%matplotlib inline\n",
    "from matplotlib import rcParams\n",
    "rcParams[\"savefig.dpi\"] = 90\n",
    "import numpy as np\n",
    "import matplotlib.pyplot as plt"
   ]
  },
  {
   "cell_type": "markdown",
   "metadata": {},
   "source": [
    "### Smoothing of data"
   ]
  },
  {
   "cell_type": "markdown",
   "metadata": {},
   "source": [
    "Often we have data with significant measurement errors.  In case of a repeated measurement taken over a period of time (or space), we obtain a <i>time series</i>.  A very useful tool in the analysis of a noisy time series is low-pass filtering, or simply, smoothing of data.  It applies to many situations in signal processing, including for example, improving sound in noise-cancelling headphones or sharpening digital images.\n",
    "\n",
    "NR $\\S$14.9 describes one of the most flexible and efficient filters, the Savitzky-Golay filter.  It works best in case of a measured variable that is varying slowly over at least 10 measurement points.\n",
    "\n",
    "$y_{i,\\mathrm{corr}} = \\sum_{j=-n}^{n} c_j \\, y_{i+j}$.\n",
    "\n",
    "In the case of all equal $c_j = {1 \\over 2n+1}$, it is called <i>moving window averaging</i>.  Although simple, it ignores the second derivative of the data and always reduces the maximum value of a peak.  For example, narrow spectroscopic lines would be artificially reduced and broadened.  The Savitzky-Golay preserves higher moments of the data, by fitting a polynomial of order $n$ around point $x_i$ and using it only to correct the central value $y_i$.  (Incidentally, it means that it can also evaluate the derivative of the data; see NR page 769).  The filter can also be used when the data points are not equally spaced.  It is useful when the signal is recorded with a random delay of the measuring device.\n",
    "\n",
    "Another frequently used filter is Wiener (or, optimal) filter.\n",
    "\n",
    "Example below shows how the 4th-order Savitzky-Golay filter cleans up the noise, but also reduces narrow peaks described by few data points.  I also add a small positive shift to $x_i$ to mimic recording delay."
   ]
  },
  {
   "cell_type": "code",
   "execution_count": null,
   "metadata": {
    "collapsed": false
   },
   "outputs": [],
   "source": [
    "xe = np.arange(0, 25, 0.05)\n",
    "ye = np.exp(-(xe-5.)**2) + np.exp(-(xe-10.)**2/0.5) + \\\n",
    "     np.exp(-(xe-15.)**2/0.1) + np.exp(-(xe-20.)**2/0.05)\n",
    "\n",
    "np.random.seed(10)\n",
    "x = xe + 0.25*np.random.random(size=len(xe))\n",
    "y = ye + np.random.normal(0, 0.4, size=len(ye))"
   ]
  },
  {
   "cell_type": "code",
   "execution_count": null,
   "metadata": {
    "collapsed": true
   },
   "outputs": [],
   "source": [
    "# read in the Savitzky-Golay filter coefficients\n",
    "# they have a particular wrapping order used in NR\n",
    "c = np.loadtxt(\"savgol_m4_nlr16.dat\", usecols=(0,), unpack=True)\n",
    "nlr = 16\n",
    "\n",
    "# smooth data\n",
    "yf = np.zeros(len(y))\n",
    "for i in range(nlr,len(y)-nlr):\n",
    "    yf[i] = y[i]*c[0]\n",
    "    for j in range(1,nlr+1):\n",
    "        yf[i] += (y[i+j]+y[i-j])*c[j]"
   ]
  },
  {
   "cell_type": "markdown",
   "metadata": {},
   "source": [
    "Here is the noisy data:"
   ]
  },
  {
   "cell_type": "code",
   "execution_count": null,
   "metadata": {
    "collapsed": false
   },
   "outputs": [],
   "source": [
    "plt.xlim(0, 25)\n",
    "plt.ylim(-0.7, 1.7)\n",
    "plt.xlabel('x')\n",
    "plt.ylabel('y')\n",
    "plt.plot(x, y, 'b-', label='data', lw=0.3)\n",
    "plt.legend(frameon=False)\n",
    "plt.show()"
   ]
  },
  {
   "cell_type": "markdown",
   "metadata": {},
   "source": [
    "Here is the data with overplotted original model:"
   ]
  },
  {
   "cell_type": "code",
   "execution_count": null,
   "metadata": {
    "collapsed": false
   },
   "outputs": [],
   "source": [
    "plt.xlim(0, 25)\n",
    "plt.ylim(-0.7, 1.7)\n",
    "plt.xlabel('x')\n",
    "plt.ylabel('y')\n",
    "plt.plot(x, y, 'b-', label='data', lw=0.3)\n",
    "plt.plot(xe, ye, 'r-', label='exact')\n",
    "plt.legend(frameon=False)\n",
    "plt.show()"
   ]
  },
  {
   "cell_type": "markdown",
   "metadata": {},
   "source": [
    "Here is the smoothed data vs. the original:"
   ]
  },
  {
   "cell_type": "code",
   "execution_count": null,
   "metadata": {
    "collapsed": false
   },
   "outputs": [],
   "source": [
    "plt.xlim(0, 25)\n",
    "plt.ylim(-0.7, 1.7)\n",
    "plt.xlabel('x')\n",
    "plt.ylabel('y')\n",
    "plt.plot(xe, ye, 'r-', label='exact')\n",
    "plt.plot(x, yf, 'b-', label='smooth', lw=0.6)\n",
    "plt.legend(frameon=False)\n",
    "plt.show()"
   ]
  },
  {
   "cell_type": "markdown",
   "metadata": {},
   "source": [
    "You can also use [Scipy's implementation](http://docs.scipy.org/doc/scipy/reference/generated/scipy.signal.savgol_filter.html) of this filter for different choice of $n$.\n",
    "\n",
    "Below is an example of using the Wiener filter, with a [SciPy routine](http://docs.scipy.org/doc/scipy/reference/generated/scipy.signal.wiener.html).  Parameter <b>mysize</b> specifies the filter window."
   ]
  },
  {
   "cell_type": "code",
   "execution_count": null,
   "metadata": {
    "collapsed": false
   },
   "outputs": [],
   "source": [
    "from scipy import signal\n",
    "yw = signal.wiener(y, mysize=32)\n",
    "\n",
    "plt.xlim(0, 25)\n",
    "plt.ylim(-0.7, 1.7)\n",
    "plt.xlabel('x')\n",
    "plt.ylabel('y')\n",
    "plt.plot(xe, ye, 'r-', label='exact')\n",
    "plt.plot(x, yw, 'b-', label='Wiener', lw=0.6)\n",
    "plt.legend(frameon=False)\n",
    "plt.show()"
   ]
  },
  {
   "cell_type": "markdown",
   "metadata": {},
   "source": [
    "<b>Exercise:</b> Find the value of <i>mysize</i> for the Weiner filter that approximates the result of S-G filter, and plot them together."
   ]
  },
  {
   "cell_type": "code",
   "execution_count": null,
   "metadata": {
    "collapsed": false
   },
   "outputs": [],
   "source": [
    "yw = signal.wiener(y, mysize=16)\n",
    "ysg = signal.savgol_filter(y, window_length=33, polyorder=4)\n",
    "\n",
    "plt.xlim(0, 25)\n",
    "plt.ylim(-0.7, 1.7)\n",
    "plt.xlabel('x')\n",
    "plt.ylabel('y')\n",
    "plt.plot(x, ysg, 'r-', label='S-G scipy')\n",
    "plt.plot(x, yf, 'g-', label='S-G')\n",
    "plt.plot(x, yw, 'b-', label='Wiener', lw=0.6)\n",
    "plt.legend(frameon=False)\n",
    "plt.show()"
   ]
  },
  {
   "cell_type": "markdown",
   "metadata": {
    "collapsed": true
   },
   "source": [
    "### Root finding of nonlinear equations"
   ]
  },
  {
   "cell_type": "code",
   "execution_count": null,
   "metadata": {
    "collapsed": true
   },
   "outputs": [],
   "source": [
    "from scipy import special, optimize"
   ]
  },
  {
   "cell_type": "markdown",
   "metadata": {},
   "source": [
    "One of the most basic numerical tasks you will be facing in your research is solving nonlinear equations, $f(x)=0$, where $f$ is a complicated function.  The problem is <b>much simpler</b> in one dimension (when $x$ is a scalar) than in multiple dimensions (when $\\vec{x}$ is a vector).  In one dimension you can bracket the root to lie within an interval, $a < x < b$, and then narrow down the interval until you reach desired precision.  In multiple dimensions it is impossible to do.\n",
    "\n",
    "The condition for bracketing a root is $f(a) \\times f(b) < 0$.  This guarantees that there is at least one root (function changes sign) between $a$ and $b$.  The simplest method for narrowing down the root value is <i>bisection</i>, where you calculate $f({a+b \\over 2})$ and then reassign this midpoint as either new $a$ or new $b$ that satisfy $f(a) f(b) < 0$.\n",
    "\n",
    "Scipy's routines <b>scipy.optimize.brentq</b> and <b>scipy.optimize.newton</b> implement the most commonly used methods."
   ]
  },
  {
   "cell_type": "code",
   "execution_count": null,
   "metadata": {
    "collapsed": true
   },
   "outputs": [],
   "source": [
    "def f(x, lev):\n",
    "    return special.erf(x/np.sqrt(2.))-lev\n",
    "\n",
    "def fprime(x, lev):\n",
    "    return np.exp(-x**2/2.)/np.sqrt(np.pi)"
   ]
  },
  {
   "cell_type": "code",
   "execution_count": null,
   "metadata": {
    "collapsed": false
   },
   "outputs": [],
   "source": [
    "llev = [0.6827, 0.9545, 0.9973]\n",
    "\n",
    "r1 = [optimize.brentq(f, 0., 4., args=(lev)) for lev in llev]\n",
    "print r1\n",
    "\n",
    "r2 = [optimize.newton(f, 0., args=(lev,), fprime=fprime) for lev in llev]\n",
    "print r2"
   ]
  },
  {
   "cell_type": "markdown",
   "metadata": {},
   "source": [
    "<b>Exercise:</b> Write your own routines for Brent's method and Newton's method that replicate the result of the Scipy's routines.  Evaluate them for levels = 0.6827, 0.9545, 0.9973."
   ]
  }
 ],
 "metadata": {
  "kernelspec": {
   "display_name": "Python 2",
   "language": "python",
   "name": "python2"
  },
  "language_info": {
   "codemirror_mode": {
    "name": "ipython",
    "version": 2
   },
   "file_extension": ".py",
   "mimetype": "text/x-python",
   "name": "python",
   "nbconvert_exporter": "python",
   "pygments_lexer": "ipython2",
   "version": "2.7.12"
  }
 },
 "nbformat": 4,
 "nbformat_minor": 0
}
