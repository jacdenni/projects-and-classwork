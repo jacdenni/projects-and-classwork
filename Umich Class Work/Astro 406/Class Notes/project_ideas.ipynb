{
 "cells": [
  {
   "cell_type": "markdown",
   "metadata": {},
   "source": [
    "## Astronomy 406 \"Computational Astrophysics\" (Fall 2016)"
   ]
  },
  {
   "cell_type": "markdown",
   "metadata": {},
   "source": [
    "### Suggested Term Project: Classification of an observed dataset"
   ]
  },
  {
   "cell_type": "markdown",
   "metadata": {
    "collapsed": true
   },
   "source": [
    "Explore the dataset of sizes and luminosities of stellar object in <b>galaxies.dat</b> and identify distinct classes of objects using several classification methods. The three columns are $\\log_{10}$(Luminosity <i>in solar units</i>), $\\log_{10}$(Half-mass radius <i>in parsecs</i>), object name.\n",
    "\n",
    "Techniques for classification (\"machine learning\") include:\n",
    "\n",
    "[Gaussian Mixture Modeling](http://scikit-learn.org/stable/modules/mixture.html)\n",
    "\n",
    "[Nearest Neighbors](http://scikit-learn.org/stable/modules/neighbors.html)\n",
    "\n",
    "[Support Vector Machines](http://scikit-learn.org/stable/modules/svm.html)\n",
    "\n",
    "[Random Forest](http://scikit-learn.org/stable/modules/ensemble.html#forest)\n",
    "\n",
    "Read carefully their description on the <tt>sklearn</tt> site.  Investigate how the results change when you vary various parameters of the methods.  Compare the results of all these methods for the assignment of objects to a particular class, and discuss why some points are classified differently by the different methods.  Make plots illustrating the methods and results.\n",
    "\n",
    "All these methods require a training set with known classification, except Gaussian Mixture.  One possible way to start is to run GMM with a large number of modes (determine how many by trial) and then combine the modes into only two groups, as you see most logical. You can't use all data points in these modes as a training set because there would be no other data left to run the classification algorithms. What you can do instead is to choose a fraction of points near the centers of the GMM modes, and let the other points to be classified. This can be done using GMM's method [predict_proba](http://scikit-learn.org/stable/modules/generated/sklearn.mixture.GaussianMixture.html#sklearn.mixture.GaussianMixture.predict_proba), which tells you the probability of each data point being associated with each mode - high probability means near the center of the mode."
   ]
  }
 ],
 "metadata": {
  "anaconda-cloud": {},
  "kernelspec": {
   "display_name": "Python 2",
   "language": "python",
   "name": "python2"
  },
  "language_info": {
   "codemirror_mode": {
    "name": "ipython",
    "version": 2
   },
   "file_extension": ".py",
   "mimetype": "text/x-python",
   "name": "python",
   "nbconvert_exporter": "python",
   "pygments_lexer": "ipython2",
   "version": "2.7.12"
  }
 },
 "nbformat": 4,
 "nbformat_minor": 0
}
