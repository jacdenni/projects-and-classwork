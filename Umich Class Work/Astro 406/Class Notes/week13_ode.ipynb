{
 "cells": [
  {
   "cell_type": "markdown",
   "metadata": {},
   "source": [
    "## Astronomy 406 \"Computational Astrophysics\" (Fall 2016)"
   ]
  },
  {
   "cell_type": "markdown",
   "metadata": {},
   "source": [
    "### Week 13: Ordinary Differential Equations"
   ]
  },
  {
   "cell_type": "markdown",
   "metadata": {},
   "source": [
    "<b>Reading:</b> notes below, as well as [$\\S$17.0-17.3](https://umich.instructure.com/files/3258738/download?download_frd=1) of [Numerical Recipes](http://numerical.recipes/)."
   ]
  },
  {
   "cell_type": "markdown",
   "metadata": {},
   "source": [
    "A single ordinary differential equation can sometimes be solved analytically, but when we have systems of ODEs the only way to solve them is using numerical methods.  Second-order differential equations are most common in physical applications (for examples, accelerations, waves, diffusion). (This is often because the second derivative of a field is often the potential - e.g., with the electric field, with the gravitational field, etc.) Higher-order ODEs can always be re-written as a system of coupled first-order ODEs:\n",
    "\n",
    "$$\n",
    "    {d^2\\mathbf{x} \\over dt^2} = f(\\mathbf{x}) \\quad \\longrightarrow \\quad\n",
    "    \\left\\{ {d\\mathbf{x} \\over dt} = \\mathbf{v}, \\quad\n",
    "            {d\\mathbf{v} \\over dt} = f(\\mathbf{x})\n",
    "    \\right\\}.\n",
    "$$\n",
    "\n",
    "Therefore, without loss of generality, we will consider a system of first-order ODEs:\n",
    "\n",
    "$$\n",
    "    {d\\mathbf{x} \\over dt} = F(t,\\mathbf{x}).\n",
    "$$\n",
    "\n",
    "ODEs require boundary conditions, which are very important for the solution.  There are two types:\n",
    "\n",
    "<b>initial value problem</b>: such as $x(t=0)=x_0$, $v(t=0)=v_0$\n",
    "\n",
    "<b>two-point boundary value problem</b>: such as $x(t=0)=x_0$, $v(t=t_f)=0$.\n",
    "\n",
    "We will consider the initial value problem for ODEs. Numerical solution of differential equations involves replacing derivatives (over $dt$) with finite differences (over finite interval $h$), so let's start with the Taylor expansion:\n",
    "\n",
    "$$\n",
    "   \\mathbf{x}(t+h) = \\mathbf{x}(t) + h {d\\mathbf{x} \\over dt} + {1\\over 2}h^2 {d^2\\mathbf{x} \\over dt^2} + ... = \\mathbf{x}(t) + h\\, F(t,\\mathbf{x}) + O(h^2).\n",
    "$$\n",
    "\n",
    "The simplest scheme is Euler's, where we take simply the first term:\n",
    "\n",
    "<b>Euler scheme:</b> \n",
    "$\\mathbf{x}(t+h) = \\mathbf{x}(t) + h\\, F(t,\\mathbf{x}).$\n",
    "\n",
    "A more accurate scheme is Runge-Kutta, where we calculate derivatives at mid-point:\n",
    "\n",
    "<b>Runge-Kutta scheme RK2:</b>\n",
    "$\\mathbf{x}(t+h) = \\mathbf{x}(t) + h\\, F(t+{h\\over 2},\\mathbf{x}(t+{h\\over 2})).$ (accuracy of $O(h^2)$)\n",
    "\n",
    "It is accurate to second order in $h$.  In order to calculate the mid-point derivative, we need to do two steps:\n",
    "\n",
    "$$\n",
    "  \\begin{cases}\n",
    "    \\mathbf{k}_1 = h\\, F(t,\\mathbf{x}(t)) \\\\\n",
    "    \\mathbf{k}_2 = h\\, F(t+{h\\over 2},\\mathbf{x}(t)+{1\\over 2}\\mathbf{k}_1) \\\\\n",
    "    \\mathbf{x}(t+h) = \\mathbf{x}(t) + \\mathbf{k}_2\n",
    "  \\end{cases}\n",
    "$$\n",
    "\n",
    "The 4th-order method is even more accurate. ($O(h^5)$)\n",
    "\n",
    "<b>Runge-Kutta scheme RK4:</b>\n",
    "\n",
    "$$\n",
    "  \\begin{cases}\n",
    "    \\mathbf{k}_1 = h\\, F(t,\\mathbf{x}(t)) \\\\\n",
    "    \\mathbf{k}_2 = h\\, F(t+{h\\over 2},\\mathbf{x}(t)+{1\\over 2}\\mathbf{k}_1) \\\\\n",
    "    \\mathbf{k}_3 = h\\, F(t+{h\\over 2},\\mathbf{x}(t)+{1\\over 2}\\mathbf{k}_2) \\\\\n",
    "    \\mathbf{k}_4 = h\\, F(t+h,\\mathbf{x}(t)+\\mathbf{k}_3) \\\\\n",
    "    \\mathbf{x}(t+h) = \\mathbf{x}(t) + \\frac{1}{6}(\\mathbf{k}_1 + 2\\mathbf{k}_2 + 2\\mathbf{k}_3 + \\mathbf{k}_4)\n",
    "  \\end{cases}\n",
    "$$\n",
    "<p>"
   ]
  },
  {
   "cell_type": "markdown",
   "metadata": {},
   "source": [
    "Let's consider an example of integrating Earth's orbit around the Sun.  The equations are simple:\n",
    "\n",
    "$$\n",
    "    {d^2 \\mathbf{r} \\over dt^2} = -{G M_\\odot \\mathbf{r}\\over r^3}\n",
    "$$\n",
    "\n",
    "and we know the correct answer - a circle in a plane.\n",
    "\n",
    "We need to write a function $F$ that evaluates the first derivative derivative for an array of 6 variables $\\{\\mathbf{r},\\mathbf{v}\\}$. Then we need to set initial conditions: $x = 1$ AU, $v_y = \\sqrt{GM_\\odot/\\mathrm{AU}}$. A convenient choice of units is the unit of length of 1 astronomical unit (AU, distance to the Sun), unit of velocity is km/s, and mas of the Sun $M_\\odot = 1$. We also need to set the time step.  Let's take it to be 0.01 year, and integrate for 10 years.\n",
    "\n",
    "To control accuracy of the orbit integration, we will check conservation of energy (per unit mass):\n",
    "\n",
    "$$\n",
    "    E = {v^2 \\over 2} - {G M_\\odot \\over r}.\n",
    "$$"
   ]
  },
  {
   "cell_type": "code",
   "execution_count": 1,
   "metadata": {
    "collapsed": false
   },
   "outputs": [],
   "source": [
    "%matplotlib inline\n",
    "from matplotlib import rcParams\n",
    "rcParams[\"savefig.dpi\"] = 80\n",
    "import numpy as np\n",
    "import matplotlib.pyplot as plt\n",
    "import time"
   ]
  },
  {
   "cell_type": "code",
   "execution_count": 2,
   "metadata": {
    "collapsed": false
   },
   "outputs": [],
   "source": [
    "def f(t, y):\n",
    "    # distance of Earth from Sun\n",
    "    r = np.sqrt(y[0]**2 + y[1]**2 + y[2]**2)\n",
    "    # acceleration of Earth from Sun\n",
    "    fse = -G*Msun/r**3\n",
    "    # derivates of the phase-space coordinates\n",
    "    dy = np.zeros_like(y)\n",
    "    #components of x\n",
    "    dy[0] = y[3]\n",
    "    dy[1] = y[4]\n",
    "    dy[2] = y[5]\n",
    "    #components of v\n",
    "    dy[3] = fse*y[0]\n",
    "    dy[4] = fse*y[1]\n",
    "    dy[5] = fse*y[2]\n",
    "    return dy\n",
    "    \n",
    "def Energy(y):\n",
    "    r = np.sqrt(y[0]**2 + y[1]**2 + y[2]**2)\n",
    "    E = 0.5*(y[3]**2 + y[4]**2 + y[5]**2) - G*Msun/r\n",
    "    return E"
   ]
  },
  {
   "cell_type": "markdown",
   "metadata": {},
   "source": [
    "Set initial conditions and units."
   ]
  },
  {
   "cell_type": "code",
   "execution_count": 3,
   "metadata": {
    "collapsed": true
   },
   "outputs": [],
   "source": [
    "G = 8.89e2   # Gravitational constant in units of AU, km/s, and Msun\n",
    "Msun = 1.    # mass of Sun\n",
    "yr = 4.75    # unit of time in years\n",
    "tf = 10./yr  # finish time\n",
    "\n",
    "# initial positions and velocities\n",
    "vE = np.sqrt(G*Msun/1.) # circular velocity of Earth\n",
    "y0 = [ 1., 0., 0., 0., vE, 0. ] #As we're starting out in the x-direction, our velocity should be in the y-direction. We also expect no change in the z direction\n",
    "\n",
    "# initial energy of the orbit\n",
    "E0 = Energy(y0)\n",
    "\n",
    "# time step\n",
    "dt = 0.01/yr"
   ]
  },
  {
   "cell_type": "markdown",
   "metadata": {},
   "source": [
    "Of course, there is a [routine](https://docs.scipy.org/doc/scipy-0.18.1/reference/generated/scipy.integrate.ode.html) in SciPy that does ODE integration.  Let's use it first and check our setup."
   ]
  },
  {
   "cell_type": "code",
   "execution_count": 5,
   "metadata": {
    "collapsed": false
   },
   "outputs": [
    {
     "name": "stdout",
     "output_type": "stream",
     "text": [
      "dE = -2.96e-08\n",
      "execution time = 0.120 seconds\n"
     ]
    },
    {
     "data": {
      "image/png": "[encoded data removed]",
      "text/plain": [
       "<matplotlib.figure.Figure at 0x10a303310>"
      ]
     },
     "metadata": {},
     "output_type": "display_data"
    },
    {
     "data": {
      "image/png": "[encoded data removed]",
      "text/plain": [
       "<matplotlib.figure.Figure at 0x10d877e90>"
      ]
     },
     "metadata": {},
     "output_type": "display_data"
    }
   ],
   "source": [
    "from scipy.integrate import ode\n",
    "\n",
    "t = 0.\n",
    "rt, rx, ry, re = [], [], [], []\n",
    "start_time = time.time()\n",
    "\n",
    "r = ode(f).set_integrator('dopri5')\n",
    "r.set_initial_value(y0, t)\n",
    "\n",
    "while t < tf:\n",
    "    r.integrate(r.t + dt)\n",
    "    t = r.t\n",
    "    y = r.y\n",
    "    dE = (Energy(y)-E0)/E0\n",
    "    rt.append(t*yr); rx.append(y[0]); ry.append(y[1]); re.append(dE)\n",
    "\n",
    "print 'dE = %.2e'%( dE )\n",
    "print 'execution time = %.3f seconds'%( time.time() - start_time )\n",
    "    \n",
    "plt.figure(figsize=(5,5))\n",
    "plt.xlim(-1.5, 1.5)\n",
    "plt.ylim(-1.5, 1.5)\n",
    "plt.xlabel('X (AU)')\n",
    "plt.ylabel('Y (AU)')\n",
    "plt.plot(rx, ry, '-')\n",
    "plt.show()\n",
    "\n",
    "plt.xlabel('t (yr)')\n",
    "plt.ylabel('dE/E')\n",
    "plt.plot(rt, re, '-')\n",
    "plt.show()"
   ]
  },
  {
   "cell_type": "markdown",
   "metadata": {},
   "source": [
    "Now try the Euler and Runge-Kutta schemes. The first-order Euler scheme is inaccurate in this case, as you can see by the spiraling orbit."
   ]
  },
  {
   "cell_type": "code",
   "execution_count": 6,
   "metadata": {
    "collapsed": false
   },
   "outputs": [
    {
     "name": "stdout",
     "output_type": "stream",
     "text": [
      "dE = -6.68e-01\n",
      "execution time = 0.038 seconds\n"
     ]
    },
    {
     "data": {
      "image/png": "[encoded data removed]",
      "text/plain": [
       "<matplotlib.figure.Figure at 0x103dbbd90>"
      ]
     },
     "metadata": {},
     "output_type": "display_data"
    },
    {
     "data": {
      "image/png": "[encoded data removed]",
      "text/plain": [
       "<matplotlib.figure.Figure at 0x10de24e90>"
      ]
     },
     "metadata": {},
     "output_type": "display_data"
    }
   ],
   "source": [
    "def euler(t, y, h):\n",
    "    y += f(t,y)*h\n",
    "    return y\n",
    "\n",
    "y = y0\n",
    "t = 0.\n",
    "rt, rx, ry, re = [], [], [], []\n",
    "start_time = time.time()\n",
    "\n",
    "while t < tf:\n",
    "    y = euler(t, y, dt)\n",
    "    t += dt\n",
    "    dE = (Energy(y)-E0)/E0\n",
    "    rt.append(t*yr); rx.append(y[0]); ry.append(y[1]); re.append(dE)\n",
    "    \n",
    "print 'dE = %.2e'%( dE )\n",
    "print 'execution time = %.3f seconds'%( time.time() - start_time )\n",
    "\n",
    "plt.figure(figsize=(5,5))\n",
    "plt.xlim(-1.5, 1.5)\n",
    "plt.ylim(-1.5, 1.5)\n",
    "plt.xlabel('X (AU)')\n",
    "plt.ylabel('Y (AU)')\n",
    "plt.plot(rx, ry, '-')\n",
    "plt.show()\n",
    "\n",
    "plt.xlabel('t (yr)')\n",
    "plt.ylabel('dE/E')\n",
    "plt.plot(rt, re, '-')\n",
    "plt.show()"
   ]
  },
  {
   "cell_type": "markdown",
   "metadata": {},
   "source": [
    "The Runge-Kutta scheme is better:"
   ]
  },
  {
   "cell_type": "code",
   "execution_count": 7,
   "metadata": {
    "collapsed": false
   },
   "outputs": [
    {
     "name": "stdout",
     "output_type": "stream",
     "text": [
      "dE = 1.70e-06\n",
      "execution time = 0.110 seconds\n"
     ]
    },
    {
     "data": {
      "image/png": "[encoded data removed]",
      "text/plain": [
       "<matplotlib.figure.Figure at 0x10a2da210>"
      ]
     },
     "metadata": {},
     "output_type": "display_data"
    },
    {
     "data": {
      "image/png": "[encoded data removed]",
      "text/plain": [
       "<matplotlib.figure.Figure at 0x10e0ac610>"
      ]
     },
     "metadata": {},
     "output_type": "display_data"
    }
   ],
   "source": [
    "def rungekutta(t, y, h):\n",
    "    k1 = f(t, y)*h\n",
    "    k2 = f(t+0.5*h, y+0.5*k1)*h\n",
    "    k3 = f(t+0.5*h, y+0.5*k2)*h\n",
    "    k4 = f(t+h, y+k3)*h\n",
    "    y += (k1+2*k2+2*k3+k4)/6.\n",
    "    return y\n",
    "\n",
    "y = y0\n",
    "t = 0.\n",
    "rt, rx, ry, re = [], [], [], []\n",
    "start_time = time.time()\n",
    "\n",
    "while t < tf:\n",
    "    y = rungekutta(t, y, dt)\n",
    "    t += dt\n",
    "    dE = (Energy(y)-E0)/E0\n",
    "    rt.append(t*yr); rx.append(y[0]); ry.append(y[1]); re.append(dE)\n",
    "    \n",
    "print 'dE = %.2e'%( dE )\n",
    "print 'execution time = %.3f seconds'%( time.time() - start_time )\n",
    "    \n",
    "plt.figure(figsize=(5,5))\n",
    "plt.xlim(-1.5, 1.5)\n",
    "plt.ylim(-1.5, 1.5)\n",
    "plt.xlabel('X (AU)')\n",
    "plt.ylabel('Y (AU)')\n",
    "plt.plot(rx, ry, '-')\n",
    "plt.show()\n",
    "\n",
    "plt.xlabel('t (yr)')\n",
    "plt.ylabel('dE/E')\n",
    "plt.plot(rt, re, '-')\n",
    "plt.show()"
   ]
  },
  {
   "cell_type": "markdown",
   "metadata": {},
   "source": [
    "Calculation of orbits, in particular, is very efficient and accurate with an ingeneous method called <b>leap-frog</b>.  It alternates advancing positions and velocities.  Its important property is being time-reversible - we can integrate the equations backward in time and arrive (roughly) at the initial condition.  Other algorithms cannot do that, they accumulate error over time.  For leap-frog, the error is not steadily increasing but fluctuating.\n",
    "\n",
    "<b>Leap-frog scheme:</b>\n",
    "$$\n",
    "  \\begin{cases}\n",
    "    \\mathbf{v}_{n+\\frac{1}{2}} = \\mathbf{v}_{n} + f(\\mathbf{x}_{n}) {h\\over 2} \n",
    "      \\quad \\mathrm{(kick~step)}\\\\\n",
    "    \\mathbf{x}_{n+1} = \\mathbf{x}_{n} + \\mathbf{v}_{n+\\frac{1}{2}} h\n",
    "      \\quad \\mathrm{(drift~step)}\\\\\n",
    "    \\mathbf{v}_{n+1} = \\mathbf{v}_{n+\\frac{1}{2}} + f(\\mathbf{x}_{n+1}) {h\\over 2}\n",
    "      \\quad \\mathrm{(kick~step)}\n",
    "  \\end{cases}\n",
    "$$"
   ]
  },
  {
   "cell_type": "code",
   "execution_count": 8,
   "metadata": {
    "collapsed": false
   },
   "outputs": [
    {
     "name": "stdout",
     "output_type": "stream",
     "text": [
      "dE = -6.34e-09\n",
      "execution time = 0.032 seconds\n"
     ]
    },
    {
     "data": {
      "image/png": "[encoded data removed]",
      "text/plain": [
       "<matplotlib.figure.Figure at 0x10a36e250>"
      ]
     },
     "metadata": {},
     "output_type": "display_data"
    },
    {
     "data": {
      "image/png": "[encoded data removed]",
      "text/plain": [
       "<matplotlib.figure.Figure at 0x10a3023d0>"
      ]
     },
     "metadata": {},
     "output_type": "display_data"
    }
   ],
   "source": [
    "def leapfrog(t, y, h):\n",
    "    # kick\n",
    "    dy = f(t,y)\n",
    "    for i in range(3,6):\n",
    "        y[i] += dy[i]*h/2.\n",
    "    # drift\n",
    "    for i in range(0,3):\n",
    "        y[i] += y[i+3]*h\n",
    "    # kick\n",
    "    dy = f(t,y)\n",
    "    for i in range(3,6):\n",
    "        y[i] += dy[i]*h/2.\n",
    "    return y\n",
    "\n",
    "dt = .01 / yr\n",
    "y = y0\n",
    "t = 0.\n",
    "rt, rx, ry, re = [], [], [], []\n",
    "start_time = time.time()\n",
    "\n",
    "dt *= 2\n",
    "\n",
    "while t < tf:    \n",
    "    y = leapfrog(t, y, dt)\n",
    "    t += dt\n",
    "    dE = (Energy(y)-E0)/E0\n",
    "    rt.append(t*yr); rx.append(y[0]); ry.append(y[1]); re.append(dE)\n",
    "\n",
    "print 'dE = %.2e'%( dE )\n",
    "print 'execution time = %.3f seconds'%( time.time() - start_time )\n",
    "    \n",
    "plt.figure(figsize=(5,5))\n",
    "plt.xlim(-1.5, 1.5)\n",
    "plt.ylim(-1.5, 1.5)\n",
    "plt.xlabel('X (AU)')\n",
    "plt.ylabel('Y (AU)')\n",
    "plt.plot(rx, ry, '-')\n",
    "plt.show()\n",
    "\n",
    "plt.xlabel('t (yr)')\n",
    "plt.ylabel('dE/E')\n",
    "plt.plot(rt, re, '-')\n",
    "plt.show()"
   ]
  },
  {
   "cell_type": "markdown",
   "metadata": {},
   "source": [
    "<b>Exercise 1:</b> This was not a completely fair comparison of the accuracy of the various methods. At the same step $h$, the Euler method made the one step, the Runge-Kutta made 4 steps, and the SciPy routine made an unknown (likely, significantly larger) number of steps.  \n",
    "(a)\n",
    "Find the values of the step <tt>dt</tt> that match the accuracy of the SciPy routine for each of the Euler, Runge-Kutta, and leap-frog methods. Compare the execution times.<br>\n",
    "(b)\n",
    "Find the values of the step <tt>dt</tt> that match the execution time of the SciPy routine for each of the Euler, Runge-Kutta, and leap-frog methods. Compare the accuracy.<p>"
   ]
  },
  {
   "cell_type": "code",
   "execution_count": 4,
   "metadata": {
    "collapsed": false
   },
   "outputs": [
    {
     "name": "stdout",
     "output_type": "stream",
     "text": [
      "dE = -6.68e-01\n",
      "execution time = 0.029 seconds\n"
     ]
    }
   ],
   "source": [
    "def euler(t, y, h):\n",
    "    y += f(t,y)*h\n",
    "    return y\n",
    "\n",
    "dt = 0.01/yr\n",
    "y = y0\n",
    "t = 0.\n",
    "rt, rx, ry, re = [], [], [], []\n",
    "start_time = time.time()\n",
    "dE_scipy = -2.96e-08\n",
    "dE = 1.\n",
    "loops = 0\n",
    "\n",
    "while t < tf:\n",
    "    y = euler(t, y, dt)\n",
    "    t += dt\n",
    "    dE = (Energy(y)-E0)/E0\n",
    "    rt.append(t*yr); rx.append(y[0]); ry.append(y[1]); re.append(dE)\n",
    "    \n",
    "print 'dE = %.2e'%( dE )\n",
    "print 'execution time = %.3f seconds'%( time.time() - start_time )\n"
   ]
  },
  {
   "cell_type": "code",
   "execution_count": 5,
   "metadata": {
    "collapsed": false
   },
   "outputs": [
    {
     "name": "stdout",
     "output_type": "stream",
     "text": [
      "dE = 1.70e-11\n",
      "execution time = 0.796 seconds\n",
      "0.001\n"
     ]
    }
   ],
   "source": [
    "def rungekutta(t, y, h):\n",
    "    k1 = f(t, y)*h\n",
    "    k2 = f(t+0.5*h, y+0.5*k1)*h\n",
    "    k3 = f(t+0.5*h, y+0.5*k2)*h\n",
    "    k4 = f(t+h, y+k3)*h\n",
    "    y += (k1+2*k2+2*k3+k4)/6.\n",
    "    return y\n",
    "\n",
    "dt = 0.01/yr\n",
    "y = y0\n",
    "t = 0.\n",
    "rt, rx, ry, re = [], [], [], []\n",
    "start_time = time.time()\n",
    "dE = 1.\n",
    "loops = 0\n",
    "while (np.fabs(dE) >= np.fabs(dE_scipy)) and (loops <= 100):\n",
    "    dt /= 10.\n",
    "    while t < tf:\n",
    "        y = rungekutta(t, y, dt)\n",
    "        t += dt\n",
    "        dE = (Energy(y)-E0)/E0\n",
    "        rt.append(t*yr); rx.append(y[0]); ry.append(y[1]); re.append(dE)\n",
    "    \n",
    "    print 'dE = %.2e'%( dE )\n",
    "    print 'execution time = %.3f seconds'%( time.time() - start_time )\n",
    "    loops += 1\n",
    "print dt * yr"
   ]
  },
  {
   "cell_type": "code",
   "execution_count": 6,
   "metadata": {
    "collapsed": false
   },
   "outputs": [
    {
     "name": "stdout",
     "output_type": "stream",
     "text": [
      "dE = -2.93e-13\n",
      "execution time = 0.435 seconds\n"
     ]
    }
   ],
   "source": [
    "def leapfrog(t, y, h):\n",
    "    # kick\n",
    "    dy = f(t,y)\n",
    "    for i in range(3,6):\n",
    "        y[i] += dy[i]*h/2.\n",
    "    # drift\n",
    "    for i in range(0,3):\n",
    "        y[i] += y[i+3]*h\n",
    "    # kick\n",
    "    dy = f(t,y)\n",
    "    for i in range(3,6):\n",
    "        y[i] += dy[i]*h/2.\n",
    "    return y\n",
    "\n",
    "y = y0\n",
    "t = 0.\n",
    "rt, rx, ry, re = [], [], [], []\n",
    "start_time = time.time()\n",
    "\n",
    "while t < tf:    \n",
    "    y = leapfrog(t, y, dt)\n",
    "    t += dt\n",
    "    dE = (Energy(y)-E0)/E0\n",
    "    rt.append(t*yr); rx.append(y[0]); ry.append(y[1]); re.append(dE)\n",
    "\n",
    "print 'dE = %.2e'%( dE )\n",
    "print 'execution time = %.3f seconds'%( time.time() - start_time )"
   ]
  },
  {
   "cell_type": "markdown",
   "metadata": {},
   "source": [
    "Now let's do a more interesting problem. If we want to send a spacecraft to the outer reaches of the Solar System and beyond, we need large enough launch velocity to overcome not just Earth gravity, but also Sun's gravity. The escape speed from the Earth surface is $\\sqrt{2G M_E\\, /\\, R_E} = 11.2$ km/s, but the escape speed from the Sun is $\\sqrt{2G M_\\odot\\, /\\, \\mathrm{AU}} = 42.2$ km/s.  Fuel cost scales at $v^2$, and currently with the three-stage rockets we are barely able to lift a small spacecraft to near-Earth orbit.  So launching rockets with the speed of 42 km/s is impractical.  \n",
    "\n",
    "Luckily, there is a wonderful technique called <i>gravity assist</i>, where the spacecraft has a close encounter with another massive body (for example, a planet) and gains additional speed from it.  We will consider a gravity assist from Jupiter, the most massive body after the Sun, and try to fly out of the Solar System.\n",
    "\n",
    "Now we will need to integrate simultaneously the orbits of Earth, Jupiter, and spacecraft.  We will therefore have $3\\times 6 = 18$ variables in array $y$.\n",
    "\n",
    "Also, the characteristic timescales (orbital periods) of the three objects are different, so we will need to use adaptive timestep.  There are many suggestions for managing the size of the timestep in Numerical Recipes [$\\S$17.2-17.3](https://umich.instructure.com/files/3258738/download?download_frd=1), including comparison with a higher-order Runge-Kutta scheme RK5, and our familiar Richardson extrapolation.  We will take an approach best suitable for orbit calculation, where the timestep is set to be a multiple of $\\sqrt{|\\mathbf{r}| \\,/\\, |\\ddot{\\mathbf{r}}|}$.  To retain the nice symplectic (time-reversible) property of the leap-frog method, a new timestep must be commensurate with the old timestep.  That is, we increase or decrease $h$ only by a factor 2 (or other integer number)."
   ]
  },
  {
   "cell_type": "code",
   "execution_count": null,
   "metadata": {
    "collapsed": false
   },
   "outputs": [],
   "source": [
    "def f(t, y):\n",
    "    # position of spacecraft\n",
    "    xs = y[0]; ys = y[1]; zs = y[2]\n",
    "    # position of Earth\n",
    "    xe = y[6]; ye = y[7]; ze = y[8]\n",
    "    # position of Jupiter\n",
    "    xj = y[12]; yj = y[13]; zj = y[14]\n",
    "\n",
    "    # relative distances of spacecraft from Earth and Jupiter\n",
    "    rs = np.sqrt(xs**2 + ys**2 + zs**2)\n",
    "    rse = np.sqrt((xs-xe)**2 + (ys-ye)**2 + (zs-ze)**2)\n",
    "    rsj = np.sqrt((xs-xj)**2 + (ys-yj)**2 + (zs-zj)**2)\n",
    "\n",
    "    # acceleration of spacecraft from Sun, Earth, and Jupiter\n",
    "    fs = -G*Msun/rs**3\n",
    "    fse = -G*ME/rse**3\n",
    "    fsj = -G*MJ/rsj**3\n",
    "\n",
    "    # derivates of the phase-space coordinates of the spacecraft\n",
    "    dy = np.zeros_like(y)\n",
    "    dy[0] = y[3]; dy[1] = y[4]; dy[2] = y[5]\n",
    "    dy[3] = fs*xs + fse*(xs-xe) + fsj*(xs-xj)\n",
    "    dy[4] = fs*ys + fse*(ys-ye) + fsj*(ys-yj)\n",
    "    dy[5] = fs*zs + fse*(zs-ze) + fsj*(zs-zj)\n",
    "      \n",
    "    # derivates of the phase-space coordinates of Earth\n",
    "    dy[6] = y[9]; dy[7] = y[10]; dy[8] = y[11]\n",
    "    re = np.sqrt(xe**2 + ye**2 + ze**2)\n",
    "    rej = np.sqrt((xe-xj)**2 + (ye-yj)**2 + (ze-zj)**2)    \n",
    "    fe = -G*Msun/re**3\n",
    "    fej = -G*MJ/rej**3\n",
    "    dy[9]  = fe*xe + fej*(xe-xj)\n",
    "    dy[10] = fe*ye + fej*(ye-yj)\n",
    "    dy[11] = fe*ze + fej*(ze-zj)\n",
    "\n",
    "    # derivates of the phase-space coordinates of Jupiter\n",
    "    dy[12] = y[15]; dy[13] = y[16]; dy[14] = y[17]\n",
    "    rj = np.sqrt(xj**2 + yj**2 + zj**2)\n",
    "    fj = -G*Msun/rj**3\n",
    "    fje = -G*ME/rej**3\n",
    "    dy[15] = fj*xj + fje*(xj-xe)\n",
    "    dy[16] = fj*yj + fje*(yj-ye)\n",
    "    dy[17] = fj*zj + fje*(zj-ze)\n",
    "    return dy\n",
    "\n",
    "def Energy(y):\n",
    "    satellite_energy = False\n",
    "    xs = y[0]; ys = y[1]; zs = y[2]\n",
    "    xe = y[6]; ye = y[7]; ze = y[8]\n",
    "    xj = y[12]; yj = y[13]; zj = y[14]\n",
    "    if satellite_energy:\n",
    "        rs = np.sqrt(xs**2 + ys**2 + zs**2)\n",
    "        rse = np.sqrt((xs-xe)**2 + (ys-ye)**2 + (zs-ze)**2)\n",
    "        rsj = np.sqrt((xs-xj)**2 + (ys-yj)**2 + (zs-zj)**2)\n",
    "        E = 0.5*(y[3]**2 + y[4]**2 + y[5]**2) - G*Msun/rs - G*ME/rse - G*MJ/rsj\n",
    "    else:\n",
    "        re = np.sqrt(xe**2 + ye**2 + ze**2)\n",
    "        rej = np.sqrt((xe-xj)**2 + (ye-yj)**2 + (ze-zj)**2)\n",
    "        E = 0.5*(y[9]**2 + y[10]**2 + y[11]**2) - G*Msun/re - G*MJ/rej\n",
    "    return E\n",
    "\n",
    "def timestep(y, dy, h):\n",
    "    pos = np.sqrt(y[0]**2 + y[1]**2 + y[2]**2)\n",
    "    acc = np.sqrt(dy[3]**2 + dy[4]**2 + dy[5]**2)\n",
    "    hh = 1.e-4*np.sqrt(pos/acc)\n",
    "    hmin = 1.e-9/yr\n",
    "    if hh < h/2. and h > hmin:\n",
    "        print \"hh=%.2e < h=%.2e r=%.6f\"% (hh*yr, h*yr, pos)\n",
    "        h /= 2.\n",
    "    if hh > 2.*h:\n",
    "        print \"hh=%.2e > h=%.2e r=%.6f\"% (hh*yr, h*yr, pos)\n",
    "        h *= 2.\n",
    "    if(h < hmin):\n",
    "        h = hmin\n",
    "    return h\n",
    "    \n",
    "def leapfrog(t, y, h):\n",
    "    poslist = [ 0, 1, 2, 6, 7, 8, 12, 13, 14 ]\n",
    "    vellist = [ 3, 4, 5, 9, 10, 11, 15, 16, 17 ]\n",
    "    # kick\n",
    "    dy = f(t,y)\n",
    "    for i in vellist:\n",
    "        y[i] += dy[i]*h/2.\n",
    "    # drift\n",
    "    for i in poslist:\n",
    "        y[i] += y[i+3]*h\n",
    "    # kick\n",
    "    dy = f(t,y)\n",
    "    for i in vellist:\n",
    "        y[i] += dy[i]*h/2.\n",
    "    # estimate next timestep\n",
    "    return y, timestep(y, dy, h)\n",
    "\n",
    "def rungekutta(t, y, h):\n",
    "    k1 = f(t, y)*h\n",
    "    k2 = f(t+0.5*h, y+0.5*k1)*h\n",
    "    k3 = f(t+0.5*h, y+0.5*k2)*h\n",
    "    k4 = f(t+h, y+k3)*h\n",
    "    y += (k1+2*k2+2*k3+k4)/6.\n",
    "    return y, timestep(y, dy, h)"
   ]
  },
  {
   "cell_type": "code",
   "execution_count": null,
   "metadata": {
    "collapsed": false
   },
   "outputs": [],
   "source": [
    "G = 8.89e2   # Gravitational constant in units of AU, km/s, and Msun\n",
    "Msun = 1.    # mass of Sun\n",
    "ME = 3.0e-6  # mass of Earth\n",
    "RE = 4.25e-5 # radius of Earth\n",
    "MJ = 9.5e-4  # mass of Jupiter\n",
    "rJ = 5.2     # radius of Jupiter orbit\n",
    "yr = 4.75    # unit of time in years\n",
    "tf = 10./yr  # finish time\n",
    "\n",
    "# initial positions and velocities\n",
    "vx = 10.5\n",
    "vy = 11.0338\n",
    "cosa = 0.52\n",
    "sina = np.sqrt(1.-cosa**2)\n",
    "vE = np.sqrt(G*Msun/1.)\n",
    "vJ = np.sqrt(G*Msun/rJ)\n",
    "y = [ 1.+RE,   0.,      0., vx,       vy+vE,   0.,\\\n",
    "      1.,      0.,      0., 0.,       vE,      0.,\\\n",
    "      rJ*cosa, rJ*sina, 0., -vJ*sina, vJ*cosa, 0. ]\n",
    "E0 = Energy(y)\n",
    "t = 0.\n",
    "rt, re, rxs, rys, rxe, rye, rxj, ryj = [], [], [], [], [], [], [], []\n",
    "start_time = time.time()\n",
    "\n",
    "use_scipy_integrator = False\n",
    "\n",
    "if use_scipy_integrator:\n",
    "    r = ode(f).set_integrator('dopri5', atol=1e-6, rtol=1e-6)\n",
    "    r.set_initial_value(y, t)\n",
    "    dt = 1.e-2/yr\n",
    "else:\n",
    "    dt = 1.e-7/yr\n",
    "\n",
    "while t < tf:\n",
    "    if use_scipy_integrator:\n",
    "        r.integrate(r.t + dt)\n",
    "        t = r.t\n",
    "        y = r.y\n",
    "    else:\n",
    "        y, h = leapfrog(t, y, dt)\n",
    "        #y, h = rungekutta(t, y, dt)\n",
    "        t += dt\n",
    "        dt = h\n",
    "    dE = (Energy(y)-E0)/E0\n",
    "    rt.append(t*yr); re.append(dE)\n",
    "    rxs.append(y[0]); rys.append(y[1])\n",
    "    rxe.append(y[6]); rye.append(y[7])\n",
    "    rxj.append(y[12]); ryj.append(y[13])\n",
    "\n",
    "print 'dE = %.2e'%( dE )\n",
    "print 'execution time = %.3f seconds'%( time.time() - start_time )\n",
    "    \n",
    "plt.figure(figsize=(5,5))\n",
    "plt.xlim(-10, 10)\n",
    "plt.ylim(-15, 10)\n",
    "plt.xlabel('X (AU)')\n",
    "plt.ylabel('Y (AU)')\n",
    "plt.plot(rxs, rys, '-')\n",
    "plt.plot(rxe, rye, 'b--')\n",
    "plt.plot(rxj, ryj, 'r-')\n",
    "plt.show()\n",
    "\n",
    "plt.xlabel('t (yr)')\n",
    "plt.ylabel('dE/E')\n",
    "plt.plot(rt, re, '-')\n",
    "plt.show()"
   ]
  },
  {
   "cell_type": "markdown",
   "metadata": {},
   "source": [
    "<b>Exercise 2:</b> Find the timestep for the leapfrog and Runge-Kutta schemes that correctly captures gravity assist. Calculate the maximum energy change of the orbit. Check the excursion of the orbit into Z direction outside the plane."
   ]
  }
 ],
 "metadata": {
  "anaconda-cloud": {},
  "kernelspec": {
   "display_name": "Python 2",
   "language": "python",
   "name": "python2"
  },
  "language_info": {
   "codemirror_mode": {
    "name": "ipython",
    "version": 2
   },
   "file_extension": ".py",
   "mimetype": "text/x-python",
   "name": "python",
   "nbconvert_exporter": "python",
   "pygments_lexer": "ipython2",
   "version": "2.7.12"
  }
 },
 "nbformat": 4,
 "nbformat_minor": 0
}
