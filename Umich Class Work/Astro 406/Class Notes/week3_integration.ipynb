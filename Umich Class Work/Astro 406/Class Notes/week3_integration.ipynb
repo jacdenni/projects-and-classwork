{
 "cells": [
  {
   "cell_type": "markdown",
   "metadata": {},
   "source": [
    "## Astronomy 406 \"Computational Astrophysics\" (Fall 2015)"
   ]
  },
  {
   "cell_type": "markdown",
   "metadata": {},
   "source": [
    "### Week 3: Numerical Integration"
   ]
  },
  {
   "cell_type": "markdown",
   "metadata": {},
   "source": [
    "<b>Reading:</b> notes below, as well as [$\\S$4.0-4.5](https://umich.instructure.com/files/2392519/download?download_frd=1) of <i>Numerical Recipes</i>."
   ]
  },
  {
   "cell_type": "code",
   "execution_count": 1,
   "metadata": {
    "collapsed": true
   },
   "outputs": [],
   "source": [
    "%matplotlib inline\n",
    "from matplotlib import rcParams\n",
    "rcParams[\"savefig.dpi\"] = 90\n",
    "import numpy as np\n",
    "import matplotlib.pyplot as plt\n",
    "from scipy import integrate"
   ]
  },
  {
   "cell_type": "markdown",
   "metadata": {},
   "source": [
    "The concept of numerical integration is simple: evaluate the area under the curve traced by the input function $f(x)$.  The simplest approach is to divide the range of integration $a < x < b$ into equal intervals $x_i = a + i*h$ (with $x_{n-1} = b$) and approximate the function by a constant value within the interval:\n",
    "$\\int_a^b f(x) dx \\approx \\sum_i \\int_{x_i}^{x_{i+1}} f(x_i) dx = h \\sum_i f(x_i)$.\n",
    "\n",
    "A more accurate formula is to approximate $f(x)$ by a linear function, going from $f(x_i)$ at $x_i$ to $f(x_{i+1})$ at $x_{i+1}$:\n",
    "$\\int_a^b f(x) dx \\approx \\sum_i \\int_{x_i}^{x_{i+1}} \\left[ f(x_i) + (f(x_{i+1})-f(x_i)) {x-x_i \\over x_{i+1}-x_i} \\right] dx = h \\sum_i {1\\over 2} [f(x_i) + f(x_{i+1})]$.\n",
    "\n",
    "It is called a trapeziodal rule and is the most basic acceptable way to evaluate an integral numerically.\n",
    "\n",
    "An even better, higher-order scheme is called Simpson's rule.  It is described in $\\S$4.1.1 of NR, which you can read in the Reference files on Canvas.\n",
    "\n",
    "The most important question is how to choose the step $h$.  In order to achieve particular accuracy, which is specified by the user, we need to employ some form of accuracy control.  One of the best is again Richardson's method!  We can take it almost as it is written above.  A specific implementation for integration is given in $\\S$4.3 of NR.\n",
    "\n",
    "Scipy has a general integration routine <b>scipy.integrate.quad</b>, where you can specify different integration methods."
   ]
  },
  {
   "cell_type": "markdown",
   "metadata": {},
   "source": [
    "Let's look at a simple example."
   ]
  },
  {
   "cell_type": "code",
   "execution_count": 2,
   "metadata": {
    "collapsed": true
   },
   "outputs": [],
   "source": [
    "mu = 3.\n",
    "sig2 = 1.\n",
    "\n",
    "# Gaussian function\n",
    "def fg(x):    \n",
    "    return np.exp(-(x-mu)**2 / sig2/2.)/np.sqrt(2.*np.pi*sig2)"
   ]
  },
  {
   "cell_type": "code",
   "execution_count": 3,
   "metadata": {
    "collapsed": true
   },
   "outputs": [],
   "source": [
    "def simple_int(f, a, b, n): #Rectangular\n",
    "    y = 0.\n",
    "    h = (b-a)/n\n",
    "    for i in range(n):\n",
    "        y += h*f(a+i*h)\n",
    "    return y\n",
    "\n",
    "def trap_int(f, a, b, n): #Trapezoidal\n",
    "    y = 0.\n",
    "    h = (b - a) / n\n",
    "    for i in range(n - 1):\n",
    "        y += h/2 * (f(a + i*h) + f(a + (i + 1) * h))\n",
    "    return y"
   ]
  },
  {
   "cell_type": "code",
   "execution_count": 8,
   "metadata": {
    "collapsed": false
   },
   "outputs": [
    {
     "data": {
      "text/plain": [
       "<matplotlib.legend.Legend at 0x10d9bbcd0>"
      ]
     },
     "execution_count": 8,
     "metadata": {},
     "output_type": "execute_result"
    },
    {
     "data": {
      "image/png": "[encoded data removed]",
      "text/plain": [
       "<matplotlib.figure.Figure at 0x10d594ad0>"
      ]
     },
     "metadata": {},
     "output_type": "display_data"
    }
   ],
   "source": [
    "a = 0.0\n",
    "x = np.linspace(0,6,20)\n",
    "yint = simple_int(fg, a, x, 1000)\n",
    "ytrap = trap_int(fg, a, x, 1000)\n",
    "\n",
    "from scipy import special\n",
    "yexa = (1.+special.erf((x-mu)/np.sqrt(2.*sig2)))/2.\n",
    "\n",
    "plt.xlabel('x')\n",
    "plt.ylabel('Integral of f(x)')\n",
    "plt.xlim(0, 6)\n",
    "plt.ylim(-0.05, 1.05)\n",
    "plt.plot(x, yint, 'b.', label='numerical')\n",
    "plt.plot(x, yexa, 'r-', label='exact')\n",
    "plt.legend(frameon=False, loc=4)"
   ]
  },
  {
   "cell_type": "code",
   "execution_count": 10,
   "metadata": {
    "collapsed": false
   },
   "outputs": [
    {
     "data": {
      "text/plain": [
       "[<matplotlib.lines.Line2D at 0x10db5bbd0>]"
      ]
     },
     "execution_count": 10,
     "metadata": {},
     "output_type": "execute_result"
    },
    {
     "data": {
      "image/png": "[encoded data removed]",
      "text/plain": [
       "<matplotlib.figure.Figure at 0x10d5b9710>"
      ]
     },
     "metadata": {},
     "output_type": "display_data"
    }
   ],
   "source": [
    "plt.xlabel('x')\n",
    "plt.ylabel('error of Integral of f(x)')\n",
    "plt.xlim(0, 6)\n",
    "plt.ylim(-0.02, .02)\n",
    "plt.plot(x, yint-yexa, '.')\n",
    "plt.plot(x, ytrap - yexa, 'r.')"
   ]
  },
  {
   "cell_type": "markdown",
   "metadata": {},
   "source": [
    "#### Improper integrals"
   ]
  },
  {
   "cell_type": "markdown",
   "metadata": {},
   "source": [
    "So far we have discussed numerical integration of a well-behaved function in a finite interval [a,b].  Often we have to deal with more complex situations.  For example, the integrand may reach infinity at the integration bounds, and therefore cannot be evaluated there, even though the integral itself may be finite.  Another example is when one or both integration bounds themselves are infinite, and therefore, choosing an integration step $h$ is difficult.  Such cases are called <i>improper integrals</i> and require special treatment.\n",
    "\n",
    "In the first case, if the integrand cannot be evaluated at the integration boundary, we can switch from a closed interval to an open interval.  NR $\\S$4.4 gives an example of the Second Euler-Maclaurin summation formula:\n",
    "$\\int_{x_0}^{x_{n-1}} f(x) dx \\approx h \\sum_{i=0}^{n-2} f(x_{i+1/2})$.\n",
    "Here we evaluate the function in the middle of each step, at $x_0 + h/2, x_0 + 3h/2$, etc.\n",
    "  \n",
    "A better way is to implement Richardson's method, similarly to the closed scheme in HW2. \n",
    "  \n",
    "Below is a simple example, for $f(x) = {1 \\over \\pi \\sqrt{x} (1+x)}$.  The integral from 0 to infinity exists and equals unity.  However, the function $f(x)$ diverges at $x=0$ and falls off slowly at $x \\gg 1$.  Let's first look at the function, and then integrate it from 0 to 5 with a thousand steps."
   ]
  },
  {
   "cell_type": "code",
   "execution_count": 11,
   "metadata": {
    "collapsed": false
   },
   "outputs": [
    {
     "data": {
      "text/plain": [
       "[<matplotlib.lines.Line2D at 0x10dcdda90>]"
      ]
     },
     "execution_count": 11,
     "metadata": {},
     "output_type": "execute_result"
    },
    {
     "data": {
      "image/png": "[encoded data removed]",
      "text/plain": [
       "<matplotlib.figure.Figure at 0x10db9b310>"
      ]
     },
     "metadata": {},
     "output_type": "display_data"
    }
   ],
   "source": [
    "def f1(x):\n",
    "    return 1./np.pi/np.sqrt(x)/(1+x)\n",
    "\n",
    "x = np.linspace(0.02, 5, 100)\n",
    "plt.xlabel('x')\n",
    "plt.ylabel('f(x)')\n",
    "plt.plot(x, f1(x), '-')"
   ]
  },
  {
   "cell_type": "code",
   "execution_count": null,
   "metadata": {
    "collapsed": false
   },
   "outputs": [],
   "source": [
    "def open_int(f, a, b, n): #Euler-Maclaurin technique\n",
    "    y = 0.\n",
    "    h = (b-a)/n\n",
    "    for i in range(n-1):\n",
    "        y += h*f(a+(i+0.5)*h)\n",
    "    return y\n",
    "\n",
    "print open_int(f1, 0., 1000., 100000)"
   ]
  },
  {
   "cell_type": "markdown",
   "metadata": {},
   "source": [
    "Scipy's general integration routine <b>scipy.integrate.quad</b> can deal with such cases, although all details are hidden inside their \"black box\"."
   ]
  },
  {
   "cell_type": "code",
   "execution_count": null,
   "metadata": {
    "collapsed": false
   },
   "outputs": [],
   "source": [
    "s = integrate.quad(f1, 0., 100.)\n",
    "print 'quad =', s[0], 'estimated error =', s[1]"
   ]
  },
  {
   "cell_type": "markdown",
   "metadata": {},
   "source": [
    "As we can see, the value of the integral is different from that calculated by our simple routine above, by a much larger amount than the estimated error.  Adaptive control of accuracy, such as that provided by Richardson's method, is really important here!"
   ]
  },
  {
   "cell_type": "markdown",
   "metadata": {},
   "source": [
    "#### Variable transformation"
   ]
  },
  {
   "cell_type": "markdown",
   "metadata": {},
   "source": [
    "Let's now consider the case of infinite integration range, $\\int_{0}^{\\infty} f(x) dx$.  A simple routine would do poorly here, also necessarily requires a fixed upper integration limit:"
   ]
  },
  {
   "cell_type": "code",
   "execution_count": null,
   "metadata": {
    "collapsed": false
   },
   "outputs": [],
   "source": [
    "int = open_int(f1, 0., 100., 1000)\n",
    "print 'simple routine =', int\n",
    "\n",
    "s = integrate.quad(f1, 0, np.inf)\n",
    "print 'quad =', s[0], 'estimated error =', s[1]"
   ]
  },
  {
   "cell_type": "markdown",
   "metadata": {},
   "source": [
    "The analytical answer is indeed 1, so our <b>open_int</b> underestimates by 10-15%.\n",
    "\n",
    "A very useful trick in this case is to transform the integration variable, from $x$ to $t(x)$, such that the new variable $t$ has a finite range:\n",
    "$\\int f(x) dx = \\int f(x(t)) {dx \\over dt} dt$.\n",
    "\n",
    "One possible transformation is $t = (x-1)/(x+1)$.  The inverse is $x(t) = (1+t)/(1-t)$.  It converts the range $x \\in [0,\\infty)$ to $t \\in [-1,1)$.  <i>Numerical Recipes</i> provides other examples of efficient variable transformations that speed up convergence of the integral.  See their $\\S$4.5.\n",
    "\n",
    "Even our simple routine performs better with a transformed variable:"
   ]
  },
  {
   "cell_type": "code",
   "execution_count": null,
   "metadata": {
    "collapsed": false
   },
   "outputs": [],
   "source": [
    "def f2(t):\n",
    "    x = (1.+t)/(1.-t)\n",
    "    return f1(x)*2./(1-t)**2\n",
    "\n",
    "int = open_int(f2, -1., 1., 1000)\n",
    "print 'simple routine transformed =', int\n",
    "\n",
    "s = integrate.quad(f2, -1., 1.)\n",
    "print 'quad transformed =', s[0], 'estimated error =', s[1]"
   ]
  },
  {
   "cell_type": "markdown",
   "metadata": {},
   "source": [
    "If the integration limits go from negative to positive ($a<0, b>0$), including infinities, it is often useful to break the integral into two pieces:\n",
    "$\\int_a^b f(x) dx = \\int_a^0 f(x) dx + \\int_0^b f(x) dx$,\n",
    "and then do variable transformation on each interval separately.\n",
    "\n",
    "If you have a symmetric function, $f(x) = f(-x)$, then you can simplify integrals like this:\n",
    "$\\int_{-a}^a f(x) dx = 2 \\int_0^a f(x) dx$.\n",
    "\n",
    "In practice, you can use SciPy's sophisticated <b>quad</b> routine for all your needs.  What you need to know is how to transform your function or the integration variable, so that the routine can do a good job. The more you simplify your integral analytically, the more accurate will be the numerical result."
   ]
  },
  {
   "cell_type": "markdown",
   "metadata": {},
   "source": [
    "<b>Exercise 1:</b> Use the transformation $x = e^t$ to evaluate the integral $\\int_0^\\infty f_1(x) dx$, using the simple trapezoidal rule.  Integrate over the range $t \\in (-90,90)$.  Output the value of the integral as a function of number of steps 10, 20, 40, 80, ..., until the answer converges to machine precision.  Make appropriate plots.\n",
    "\n",
    "<b>Exercise 2:</b> If you succeed with Exercise 1, try another transformation $x = \\exp{(\\pi \\sinh(t))}$ and integrate over $t \\in (-4,4)$.  Compare the number of steps required to reach the same accuracy with Exercise 1.  \n",
    "[Hyperbolic function $\\sinh(t) \\equiv (e^t - e^{-t})/2$.]"
   ]
  },
  {
   "cell_type": "code",
   "execution_count": 9,
   "metadata": {
    "collapsed": false
   },
   "outputs": [
    {
     "name": "stdout",
     "output_type": "stream",
     "text": [
      "7\n"
     ]
    },
    {
     "data": {
      "text/plain": [
       "<matplotlib.collections.PathCollection at 0x10cf2ba50>"
      ]
     },
     "execution_count": 9,
     "metadata": {},
     "output_type": "execute_result"
    },
    {
     "data": {
      "image/png": "[encoded data removed]",
      "text/plain": [
       "<matplotlib.figure.Figure at 0x10cc6a550>"
      ]
     },
     "metadata": {},
     "output_type": "display_data"
    }
   ],
   "source": [
    "#Exercise 1\n",
    "import numpy as np\n",
    "%matplotlib inline\n",
    "import matplotlib.pyplot as plt\n",
    "\n",
    "def trapezoidal(f, a, b, n):\n",
    "    h = (b - a) / n\n",
    "    xRange = np.arange(a, b, h)\n",
    "    mySum = f(a) + f(b)\n",
    "    for x in xRange[1:]:\n",
    "        mySum += f(x) * 2. * h\n",
    "    return 0.5 * mySum\n",
    "\n",
    "def f1(x):\n",
    "    return 1./np.pi/np.sqrt(x)/(1+x)\n",
    "\n",
    "def f2(t):\n",
    "    x = np.exp(t)\n",
    "    return f1(x) * x\n",
    "\n",
    "n = 10\n",
    "nList = [n]\n",
    "diff = 1.\n",
    "counter = 0\n",
    "intList = [trapezoidal(f2, -90., 90., n)]\n",
    "while (diff >= 1e-15) & (counter < 500):\n",
    "    n *= 2.\n",
    "    nList.append(n)\n",
    "    intList.append(trapezoidal(f2, -90., 90., n))\n",
    "    diff = np.fabs(intList[-1] - intList[-2])\n",
    "    counter += 1\n",
    "\n",
    "print counter\n",
    "plt.scatter(nList, intList)"
   ]
  },
  {
   "cell_type": "markdown",
   "metadata": {},
   "source": [
    "### Homework 2 (due Tuesday, Sep 27, 9am)"
   ]
  },
  {
   "cell_type": "markdown",
   "metadata": {},
   "source": [
    "Write a routine for numerical integration of an input function $f(x)$ to a user-specified accuracy $\\epsilon$ using trapeziodal rule with Richardson's method.  Calculate the integral of the Gaussian function $fg(x)$ above on a grid of values $x = 0, 0.1, 0.2, ..., 6$, with $\\epsilon = 10^{-10}$, and plot them as points.  Overplot the exact solution and check your accuracy.  Then calculate and plot the error $Int(numerical)-Int(exact)$.  Does it agree with the specified $\\epsilon$?"
   ]
  },
  {
   "cell_type": "markdown",
   "metadata": {},
   "source": [
    "Int(exact) = np.special.erf()"
   ]
  },
  {
   "cell_type": "code",
   "execution_count": null,
   "metadata": {
    "collapsed": true
   },
   "outputs": [],
   "source": []
  }
 ],
 "metadata": {
  "anaconda-cloud": {},
  "kernelspec": {
   "display_name": "Python 2",
   "language": "python",
   "name": "python2"
  },
  "language_info": {
   "codemirror_mode": {
    "name": "ipython",
    "version": 2
   },
   "file_extension": ".py",
   "mimetype": "text/x-python",
   "name": "python",
   "nbconvert_exporter": "python",
   "pygments_lexer": "ipython2",
   "version": "2.7.12"
  }
 },
 "nbformat": 4,
 "nbformat_minor": 0
}
