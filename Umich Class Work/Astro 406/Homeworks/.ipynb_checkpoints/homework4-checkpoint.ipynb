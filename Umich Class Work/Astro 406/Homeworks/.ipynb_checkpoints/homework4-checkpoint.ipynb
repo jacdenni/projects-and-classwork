{
 "cells": [
  {
   "cell_type": "markdown",
   "metadata": {},
   "source": [
    "## Astronomy 406 \"Computational Astrophysics\" (Fall 2016)"
   ]
  },
  {
   "cell_type": "markdown",
   "metadata": {},
   "source": [
    "### Homework 4 (due Thursday, Oct 27)"
   ]
  },
  {
   "cell_type": "markdown",
   "metadata": {},
   "source": [
    "Read data from the file <b>gc_galaxy.dat</b> and limit it again to $\\log_{10}{L} > 9$.\n",
    "\n",
    "Maximize the log-likelihood:\n",
    "\n",
    "$2\\ln{\\cal L} = -\\sum_i \\ln{\\sigma_i^2} - \\sum_i {(y_i - a - b x_i)^2 \\over \\sigma_i^2}$.\n",
    "\n",
    "with $\\sigma_i^2 \\equiv \\sigma_{y,i}^2 + b^2 \\sigma_{x,i}^2 + \\sigma^2$.\n",
    "\n",
    "The intercept value $a$ can still be calculated analytically as \n",
    "$a = {\\sum_i w_i (y_i - b x_i) / \\sum_i w_i}$, with\n",
    "$w_i \\equiv \\sigma_{i}^{-2}$.\n",
    "\n",
    "1. Run bootstrap realizations of the sample until the estimation of all model parameters converges.  Specifically, accumulate large enough bootstrap distribution that the standard deviation of model parameters $a$, $b$, $\\sigma$ <b>each</b> converges to (that is, varies with repeated bootstraps by less than) 0.001.  Note how many realizations each of the parameters required to converge.  Which required the largest number? <i>(Note that it is not the same criterion as I used in the class notebook.)</i><p>\n",
    "\n",
    "2. Plot a histogram of the bootstrap values of each of the three parameters, using Knuth's rule for the number of bins. Do their distributions obey Gaussian statistics?  Overplot a normal distribution density with the mean and standard deviation estimated from the bootstrap sample.<p>\n",
    "\n",
    "3. Compare the bootstrap means with the best-fit parameters derived for the original sample. What is the probability of the two means being consistent, according to Student's $t$ test? (Assume that the original result has zero variance.)<p>\n",
    "\n",
    "4. Evaluate the Kolmogorov-Smirnov test whether the bootstrap samples are consistent with the Gaussian distributions with the same mean and standard deviation.  What conclusion can you draw from the values of the KS probabilities?<p>\n",
    "\n",
    "5. Calculate confidence limits for each model parameter $p = \\{a,b,\\sigma\\}$, that is, the range $p_{mean} \\pm dp$ containing a given percentage (confidence level CL) of the bootstrap distribution.  Write a routine where CL is an argument. Calculate $dp$ for the 68.3% and 90% confidence levels. <b>Extra points</b> if you base the routine on the distance of points to the mean along the covariance ellipse, that is, taking into account the difference in standard deviations of the parameters and their correlation."
   ]
  }
 ],
 "metadata": {
  "anaconda-cloud": {},
  "kernelspec": {
   "display_name": "Python 2",
   "language": "python",
   "name": "python2"
  },
  "language_info": {
   "codemirror_mode": {
    "name": "ipython",
    "version": 2
   },
   "file_extension": ".py",
   "mimetype": "text/x-python",
   "name": "python",
   "nbconvert_exporter": "python",
   "pygments_lexer": "ipython2",
   "version": "2.7.12"
  }
 },
 "nbformat": 4,
 "nbformat_minor": 0
}
