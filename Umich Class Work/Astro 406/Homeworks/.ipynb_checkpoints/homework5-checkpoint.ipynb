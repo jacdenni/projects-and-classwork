{
 "cells": [
  {
   "cell_type": "markdown",
   "metadata": {},
   "source": [
    "## Astronomy 406 \"Computational Astrophysics\" (Fall 2016)"
   ]
  },
  {
   "cell_type": "markdown",
   "metadata": {},
   "source": [
    "### Homework 5 (due Thursday, Nov 3)"
   ]
  },
  {
   "cell_type": "markdown",
   "metadata": {},
   "source": [
    "In this homework we explore different ways to represent and visualize univariable data. For a given data set $x_i$ of N points, the exact distribution function is \n",
    "$f(x) = {1\\over N} \\sum_i \\delta(x-x_i)$. It is properly normalized such that $\\int f(x) dx = 1$. However, $\\delta$-functions are hard to visualize. Instead, we are going to substitute them with a Kerner Density Estimator (KDE):\n",
    "\n",
    "$f(x) = {1\\over N \\, h} \\sum_i K{\\left({|x-x_i| \\over h}\\right)}$,\n",
    "\n",
    "where $K(u)$ is the kernel function, and $h$ is the bandwidth.  $\\int K(u) du = 1$.  In the limit $h \\rightarrow 0$, the kernel becomes a $\\delta$-function. We will use two simple kernels: Gaussian\n",
    "\n",
    "$K_G(u) = {1\\over \\sqrt{2\\pi}} e^{-u^2/2}$\n",
    "\n",
    "and top-hat \n",
    "\n",
    "$K_h(u) = \\frac{1}{2}$, if $u \\le 1$\n",
    "\n",
    "$K_h(u) = 0$, if $u > 1$.\n",
    "\n",
    "1. Read the first column (feh) from file <b>gc.dat</b>.  Plot a sequence of histograms of [Fe/H] with bin size increasing by a factor of 2 each time from 0.05 to 0.8.  Take x-axis range from -3 to 1.  Comment on how the visual appearance of the distribution changes as you vary the bin size (how many peaks you see, how distinct they appear, how many groupings of points would you identify?).<p>\n",
    "\n",
    "2. We can do a little more sophisticated way of constructing a histogram, called <i>adaptive histogram</i> (you may consult the code for [Figure 6.1](http://www.astroml.org/book_figures/chapter6/fig_hist_to_kernel.html) in astroML).  Represent each data point by a top-hat filter with $h=0.2$, and calculate the KDE function $f(x)$.  Plot it vs. finely spaced range of $-3 < x < 1$.  Experiment with the number of points to use in np.linspace to produce a good-looking distribution (spacing should be much smaller than $h$).<p>\n",
    "\n",
    "3. Now substitute the Gaussian kernel instead of top-hat, with the same $h$.  Make a corresponding plot.  Experiment with varying $h$ by a factor of several, larger and smaller, and see how it affects the appearance of the plot."
   ]
  }
 ],
 "metadata": {
  "anaconda-cloud": {},
  "kernelspec": {
   "display_name": "Python 2",
   "language": "python",
   "name": "python2"
  },
  "language_info": {
   "codemirror_mode": {
    "name": "ipython",
    "version": 2
   },
   "file_extension": ".py",
   "mimetype": "text/x-python",
   "name": "python",
   "nbconvert_exporter": "python",
   "pygments_lexer": "ipython2",
   "version": "2.7.12"
  }
 },
 "nbformat": 4,
 "nbformat_minor": 0
}
