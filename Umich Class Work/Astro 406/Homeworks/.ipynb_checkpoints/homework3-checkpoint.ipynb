{
 "cells": [
  {
   "cell_type": "markdown",
   "metadata": {},
   "source": [
    "## Astronomy 406 \"Computational Astrophysics\" (Fall 2016)"
   ]
  },
  {
   "cell_type": "markdown",
   "metadata": {},
   "source": [
    "### Homework 3 (due Tuesday, Oct 11)"
   ]
  },
  {
   "cell_type": "markdown",
   "metadata": {},
   "source": [
    "The distribution of matter in the universe can be approximated by a network of denser spherical <i>halos</i> separated by large <i>voids</i>. Press & Schechter (1974, Astrophysical Journal, 187, 425) postulated that if the initial density fluctuations were Gaussian random field, then the fraction of the matter condensed at present time into objects with mass above some $M$ is given by\n",
    "\n",
    "$F(>M) = 1 - {\\rm erf}{\\left({\\delta_c \\over \\sqrt{2} \\sigma(M)}\\right)},$\n",
    "\n",
    "where erf$(x)$ is the error function, $\\delta_c \\approx 1.68$ is the threshold linear overdensity for collapse, and $\\sigma(M)$ is the rms mass fluctuation on scale $r$ corresponding to the mass $M$.  The relation between $r(M)$ and $M$ is\n",
    "\n",
    "$M = \\frac{4\\pi}{3} r^3 \\bar{\\rho},$\n",
    "\n",
    "where $\\bar{\\rho} = 2.78 \\times 10^{11} \\Omega_0 \\; (h^{-1} M_\\odot) (h^{-1} {\\rm Mpc})^{-3}$ is the average density of the universe. Assume $\\Omega_0 = 0.3$.  If you choose the unit for $M$ as $h^{-1} M_\\odot$ and the unit for $r$ as $h^{-1} {\\rm Mpc}$, then you do not need to worry about the factor of $h$ or even its value.  The rms mass fluctuation $\\sigma(r(M))$ is obtained by integrating the power spectrum of cosmological fluctuations $P(k)$:\n",
    "\n",
    "$\\sigma(r)^2 = {1 \\over 2\\pi^2} \\int_0^\\infty W^2(kr) \\, P(k) \\, k^2 dk,$\n",
    "\n",
    "where $W(x) = {3 (\\sin{x} - x \\cos{x}) \\over x^3}$.  The product $kr$ is dimensionless, and therefore, a good unit for $k$ is $(h^{-1} {\\rm Mpc})^{-1}$.  \n",
    "\n",
    "The number density of dark matter halos is obtained by differentiating $F(>M)$ with respect to $M$ and multiplying by the average density $\\bar{\\rho}/M$:\n",
    "\n",
    "${dn \\over dM} \\, dM = -\\sqrt{2\\over \\pi} \\, {\\bar{\\rho} \\over M} \\,\n",
    "       {\\delta_c \\over \\sigma(M)} \\, {d\\ln{\\sigma(M)} \\over d\\ln{M}} \\,\n",
    "       \\exp{\\left[-{\\delta_c^2 \\over 2\\sigma^2(M)}\\right]} \\, {dM \\over M}.$\n",
    "\n",
    "Evaluate numerically and plot $\\log_{10}{(M \\times {dn \\over dM})}$ in the range $10^{10} \\, h^{-1} M_\\odot < M < 10^{15} \\, h^{-1} M_\\odot$, by using the log-log axes.  Integrate the cumulative mass function\n",
    "\n",
    "$n(>M) = \\int_M^\\infty {dn \\over dM} \\, dM$\n",
    "   \n",
    "for the same mass grid and plot on the same figure.  Also, integrate the cumulative mass density\n",
    "\n",
    "$\\rho(>M) = \\int_M^\\infty {dn \\over dM} \\, M \\, dM$\n",
    "\n",
    "and compare it with the theoretical expectation:\n",
    "\n",
    "$\\rho_{\\rm th}(>M) = \\bar{\\rho} \n",
    "   \\left[ 1 - {\\rm erf}{\\left({\\delta_c \\over \\sqrt{2} \\sigma(M)}\\right)}\\right].$ \n",
    "   \n",
    "If they do not match, check your algorithms.  Calculate and plot the relative difference (ratio) between $\\rho(>M)$ and $\\rho_{\\rm th}(>M)$.\n",
    "\n",
    "The properly normalized fluctuation power spectrum $P(k)$ is given in the file <b>pk2.dat</b>, where the first column is $\\log_{10}{k}$ in $(h^{-1} {\\rm Mpc})^{-1}$, and the second column is $\\log_{10}{P(k)}$. You will need to interpolate $\\log_{10}{P(k)}$ vs. $\\log_{10}{k}$ for numerical integration.  \n",
    "\n",
    "Include proper labels and legend on all the plots.\n",
    "\n",
    "<i>Please try to use your own routines for interpolation, integration, and differentiation, which you have developed for previous homeworks.</i>  You will receive a small extra credit bonus for writing your routines.\n",
    "\n",
    "If you have problems with one or several of those routines, then you can use SciPy's versions.  It is more important to get the final result here, even if with SciPy."
   ]
  },
  {
   "cell_type": "markdown",
   "metadata": {},
   "source": [
    "#### Here are some suggestions for how to proceed:\n",
    "\n",
    "1. It is very important to keep track of the units of various variables. Doing the calculations in $h^{-1}$ Mpc, as I give it, simplifies many units conversions.  It is also important to do numerical integration accurately.<p>\n",
    "\n",
    "2. Interpolate $\\log{P(k)}$ vs. $\\log{k}$ and integrate numerically $\\sigma^2(R)$ for a grid of radii $R$ (in $h^{-1}$ Mpc) corresponding to masses $M = {4\\pi \\over 3} R^3 \\bar{\\rho}_{m0}$.  Use the range $10^{10}\\, M_\\odot < M < 10^{16}\\, M_\\odot$ (the upper limit must be larger than the maximum mass of interest, which is $10^{15}\\, M_\\odot$, for the calculation of $n(>M)$).  The values of $k$ provided in the table should be adequate for the mass range of interest, so you can set the extrapolated values to zero.<p>\n",
    "\n",
    "3. Make a plot of $\\sigma(M)$ vs. $\\log{M}$ in the mass range given above.  Check that the numbers are not crazy (they should be between 0.1 and 10).<p>\n",
    "\n",
    "4. Create an interpolating function $\\sigma$ vs. $\\log{M}$.<p>\n",
    "\n",
    "5. After you have $\\sigma(M)$, differentiate it numerically (with respect to $\\log{M}$, not $M$) and store as another array.  I would use a logarithmic grid of masses and their corresponding radii.  I use 10 points per each power of 10 in mass, 51 total in the range $10^{10}\\, M_\\odot < M < 10^{15}\\, M_\\odot$.  Using 10 or 20 points per decade usually suffices to produce smooth plots.<p>\n",
    "\n",
    "6. Using interpolating function $\\sigma(\\log{M})$, write a routine for $dn/dM$ as a function of $\\log{M}$.<p>\n",
    "\n",
    "7. Calculate $n(>M)$ by integrating $dn/dM$.  Plot the resulting mass functions, cumulative $n(>M)$ and differential $M {dn \\over dM}$ vs. $M$, on a log-log scale {\\it on the same graph}.  Divide or multiple by $h$, as needed, only in this final step.<p>\n",
    "\n",
    "8. Integrate the cumulative mass density $\\rho(>M)$.  Make a log-log plot of $\\rho(>M)$ vs. $M$,  and add to this plot the theoretical expression. Calculate the relative difference between the two. Do they agree exactly? If they do not, check your integration."
   ]
  }
 ],
 "metadata": {
  "anaconda-cloud": {},
  "kernelspec": {
   "display_name": "Python 2",
   "language": "python",
   "name": "python2"
  },
  "language_info": {
   "codemirror_mode": {
    "name": "ipython",
    "version": 2
   },
   "file_extension": ".py",
   "mimetype": "text/x-python",
   "name": "python",
   "nbconvert_exporter": "python",
   "pygments_lexer": "ipython2",
   "version": "2.7.12"
  }
 },
 "nbformat": 4,
 "nbformat_minor": 0
}
