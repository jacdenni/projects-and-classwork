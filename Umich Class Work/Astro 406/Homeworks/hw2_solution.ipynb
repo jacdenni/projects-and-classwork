{
 "cells": [
  {
   "cell_type": "markdown",
   "metadata": {},
   "source": [
    "## Astronomy 406 \"Computational Astrophysics\" (Fall 2016)"
   ]
  },
  {
   "cell_type": "markdown",
   "metadata": {},
   "source": [
    "### Homework 2 solution"
   ]
  },
  {
   "cell_type": "markdown",
   "metadata": {},
   "source": [
    "Write a routine for numerical integration of an input function $f(x)$ to a user-specified accuracy $\\epsilon$ using trapeziodal rule with Richardson's method.  Calculate the integral of the Gaussian function $fg(x)$ above on a grid of values $x = 0, 0.1, 0.2, ..., 6$, with $\\epsilon = 10^{-10}$, and plot them as points.  Overplot the exact solution and check your accuracy.  Then calculate and plot the error $Int(numerical)-Int(exact)$.  Does it agree with the specified $\\epsilon$?"
   ]
  },
  {
   "cell_type": "code",
   "execution_count": 8,
   "metadata": {
    "collapsed": true
   },
   "outputs": [],
   "source": [
    "%matplotlib inline\n",
    "from matplotlib import rcParams\n",
    "rcParams[\"savefig.dpi\"] = 100\n",
    "import numpy as np\n",
    "import matplotlib.pyplot as plt\n",
    "from scipy import special"
   ]
  },
  {
   "cell_type": "markdown",
   "metadata": {},
   "source": [
    "Define the function."
   ]
  },
  {
   "cell_type": "code",
   "execution_count": 9,
   "metadata": {
    "collapsed": true
   },
   "outputs": [],
   "source": [
    "mu = 3.\n",
    "sig2 = 1.\n",
    "\n",
    "def fg(x):    \n",
    "    return np.exp(-(x-mu)**2/sig2/2.)/np.sqrt(2.*np.pi*sig2)"
   ]
  },
  {
   "cell_type": "markdown",
   "metadata": {},
   "source": [
    "A simple trapezoidal routine that adds twice as many integration points as was already used in a previous iteration (a version of the routine on page 163 of NR):"
   ]
  },
  {
   "cell_type": "code",
   "execution_count": 10,
   "metadata": {
    "collapsed": true
   },
   "outputs": [],
   "source": [
    "def trapezoid(f, a, b, n, yprior):\n",
    "    if n<=1:\n",
    "        y = 0.5*(b-a)*(f(a)+f(b))\n",
    "    else:\n",
    "        it = 2**(n-2)\n",
    "        h = (b-a)/it\n",
    "        s = 0.\n",
    "        for i in range(it):\n",
    "            s += f(a+(i+0.5)*h)\n",
    "        y = 0.5*(yprior+s*h)\n",
    "    return y"
   ]
  },
  {
   "cell_type": "markdown",
   "metadata": {},
   "source": [
    "Driver for the trapezoidal scheme that adds integration points until the answer varies by less than the specified accuracy:"
   ]
  },
  {
   "cell_type": "code",
   "execution_count": 11,
   "metadata": {
    "collapsed": false
   },
   "outputs": [],
   "source": [
    "def int_trap(f, a, b, eps):\n",
    "    ntab = 25\n",
    "    sprior = 0.\n",
    "    for n in range(1,ntab):\n",
    "        s = trapezoid(f, a, b, n, sprior)\n",
    "        ds = abs(s-sprior)\n",
    "        if n>4 and (ds < eps*abs(s) or s==0):\n",
    "            return s, ds, n\n",
    "        sprior = s\n",
    "    print 'Too many steps in routine int_trap'\n",
    "    return 0, 0, 0"
   ]
  },
  {
   "cell_type": "markdown",
   "metadata": {},
   "source": [
    "Alternatively, we can write a driver routine for Richardson's method with linear extrapolation using last two points:"
   ]
  },
  {
   "cell_type": "code",
   "execution_count": 12,
   "metadata": {
    "collapsed": false
   },
   "outputs": [],
   "source": [
    "def int_richardson(f, a, b, eps):\n",
    "    ntab = 25\n",
    "    sprior = 0.\n",
    "    yprior = 0.\n",
    "    h = 1.\n",
    "    hh = []\n",
    "    ss = []\n",
    "    for n in range(1,ntab):\n",
    "        s = trapezoid(f, a, b, n, sprior)\n",
    "        ss.append(s)\n",
    "        hh.append(h)\n",
    "        if n>4:\n",
    "            y = ss[n-1] - hh[n-1]/(hh[n-2]-hh[n-1])*(ss[n-2]-ss[n-1])\n",
    "            ds = abs(y-yprior)\n",
    "            yprior = y\n",
    "            if ds < eps*abs(s) or s==0:\n",
    "                return s, ds, n\n",
    "        h *= 0.5\n",
    "        sprior = s\n",
    "    print 'Too many steps in routine int_richardson'\n",
    "    return 0, 0, 0"
   ]
  },
  {
   "cell_type": "markdown",
   "metadata": {},
   "source": [
    "Now we are ready to evaluate the integral using both routines and plot the errors.  Note, that in the class notes I gave the analytical function corresponsing to the integral of the Gaussian from -infinity to a given x > 0.  To make it an integral over a finite range [0,x] we need to subtract the value of this function at x=0.  I should have mentioned it in class.  I know that some of you struggled with the residual error, which was yexa(0). My apologies! Of course, I will not subtract any points for that."
   ]
  },
  {
   "cell_type": "code",
   "execution_count": 14,
   "metadata": {
    "collapsed": false
   },
   "outputs": [
    {
     "name": "stdout",
     "output_type": "stream",
     "text": [
      "Adaptive Trapezoidal Method\n",
      "iterations: min= 5 max= 18\n",
      "estimated error: min= 0.0 max= 8.87359075108e-11\n",
      "actual error: min= 0.0 max= 2.95767854652e-11\n",
      "Richardson Method\n",
      "iterations: min= 5 max= 19\n",
      "estimated error: min= 0.0 max= 9.64028856743e-11\n",
      "actual error: min= 0.0 max= 1.60643720548e-11\n"
     ]
    },
    {
     "data": {
      "text/plain": [
       "<matplotlib.legend.Legend at 0x14f0f8d0>"
      ]
     },
     "execution_count": 14,
     "metadata": {},
     "output_type": "execute_result"
    },
    {
     "data": {
      "image/png": "[encoded data removed]",
      "text/plain": [
       "<matplotlib.figure.Figure at 0x72c32e8>"
      ]
     },
     "metadata": {},
     "output_type": "display_data"
    }
   ],
   "source": [
    "xx = np.arange(0,6.5,0.1)\n",
    "yy1 = np.array([int_trap(fg, 0., x, 1.e-10) for x in xx])\n",
    "yy2 = np.array([int_richardson(fg, 0., x, 1.e-10) for x in xx])\n",
    "\n",
    "# exact analytical integral from 0 to x\n",
    "yexa0 = special.erf(-mu/np.sqrt(2.*sig2))/2.\n",
    "yexa = special.erf((xx-mu)/np.sqrt(2.*sig2))/2. - yexa0\n",
    "error1 = abs(yy1[:,0]-yexa)\n",
    "error2 = abs(yy2[:,0]-yexa)\n",
    "\n",
    "print 'Adaptive Trapezoidal Method'\n",
    "print 'iterations: min=', int(np.min(yy1[:,2])), 'max=', int(np.max(yy1[:,2]))\n",
    "print 'estimated error: min=', np.min(yy1[:,1]), 'max=', np.max(yy1[:,1])\n",
    "print 'actual error: min=', np.min(error1), 'max=', np.max(error1)\n",
    "\n",
    "print 'Richardson Method'\n",
    "print 'iterations: min=', int(np.min(yy2[:,2])), 'max=', int(np.max(yy2[:,2]))\n",
    "print 'estimated error: min=', np.min(yy2[:,1]), 'max=', np.max(yy2[:,1])\n",
    "print 'actual error: min=', np.min(error2), 'max=', np.max(error2)\n",
    "\n",
    "plt.xlabel('x')\n",
    "plt.ylabel('Integral of f(x)')\n",
    "plt.xlim(0, 6)\n",
    "plt.ylim(0, 1)\n",
    "plt.plot(xx, yy1[:,0], 'b-', label='Trapezoidal')\n",
    "plt.plot(xx, yy2[:,0], 'r-', label='Richardson')\n",
    "plt.plot(xx, yexa, 'y--', label='exact')\n",
    "plt.legend(frameon=False, loc=2)\n",
    "plt.show()"
   ]
  },
  {
   "cell_type": "code",
   "execution_count": 15,
   "metadata": {
    "collapsed": false,
    "scrolled": true
   },
   "outputs": [
    {
     "name": "stderr",
     "output_type": "stream",
     "text": [
      "C:\\Anaconda2\\lib\\site-packages\\ipykernel\\__main__.py:5: RuntimeWarning: divide by zero encountered in log10\n",
      "C:\\Anaconda2\\lib\\site-packages\\ipykernel\\__main__.py:6: RuntimeWarning: divide by zero encountered in log10\n"
     ]
    },
    {
     "data": {
      "image/png": "[encoded data removed]",
      "text/plain": [
       "<matplotlib.figure.Figure at 0x3f68438>"
      ]
     },
     "metadata": {},
     "output_type": "display_data"
    }
   ],
   "source": [
    "plt.xlabel('x')\n",
    "plt.ylabel('Log error of Integral of f(x)')\n",
    "plt.xlim(0, 6)\n",
    "plt.ylim(-14, -10)\n",
    "plt.plot(xx, np.log10(error1), 'b-', label='Trapezoidal')\n",
    "plt.plot(xx, np.log10(error2), 'r-', label='Richardson')\n",
    "plt.legend(frameon=False, loc=4)\n",
    "plt.show()"
   ]
  },
  {
   "cell_type": "markdown",
   "metadata": {
    "collapsed": true
   },
   "source": [
    "And for future use, an open-interval routine and its driver from NR $\\S$4.4, which will be useful for next homework."
   ]
  },
  {
   "cell_type": "code",
   "execution_count": 16,
   "metadata": {
    "collapsed": true
   },
   "outputs": [],
   "source": [
    "def midpoint(f, a, b, n, yprior):\n",
    "    if n<=1:\n",
    "        y = (b-a)*f((a+b)/2.)\n",
    "    else:\n",
    "        it = 3**(n-2)\n",
    "        h = (b-a)/it/3.\n",
    "        s = 0.\n",
    "        for i in range(it):\n",
    "            s += f(a+(3*i+0.5)*h)\n",
    "            s += f(a+(3*i+2.5)*h)\n",
    "        y = (yprior+s*3*h)/3.\n",
    "    return y"
   ]
  },
  {
   "cell_type": "code",
   "execution_count": 17,
   "metadata": {
    "collapsed": true
   },
   "outputs": [],
   "source": [
    "def int_open(f, a, b, eps):\n",
    "    ntab = 25\n",
    "    sprior = 0.\n",
    "    for n in range(1,ntab):\n",
    "        s = midpoint(f, a, b, n, sprior)\n",
    "        ds = abs(s-sprior)\n",
    "        if n>4 and (ds < eps*abs(s) or s==0):\n",
    "            return s, ds, n\n",
    "        sprior = s\n",
    "    print 'Too many steps in routine int_open'\n",
    "    return 0, 0, 0"
   ]
  },
  {
   "cell_type": "markdown",
   "metadata": {},
   "source": [
    "Compare the result with the trapezoidal scheme:"
   ]
  },
  {
   "cell_type": "code",
   "execution_count": 18,
   "metadata": {
    "collapsed": false
   },
   "outputs": [
    {
     "data": {
      "text/plain": [
       "(0.99999942666731811, 8.8611451509734707e-11, 12)"
      ]
     },
     "execution_count": 18,
     "metadata": {},
     "output_type": "execute_result"
    }
   ],
   "source": [
    "int_trap(fg, -2., 8., 1.e-10)"
   ]
  },
  {
   "cell_type": "code",
   "execution_count": 19,
   "metadata": {
    "collapsed": false
   },
   "outputs": [
    {
     "data": {
      "text/plain": [
       "(0.99999942669829578, 1.1511236408523473e-11, 9)"
      ]
     },
     "execution_count": 19,
     "metadata": {},
     "output_type": "execute_result"
    }
   ],
   "source": [
    "int_open(fg, -2., 8., 1.e-10)"
   ]
  },
  {
   "cell_type": "code",
   "execution_count": null,
   "metadata": {
    "collapsed": true
   },
   "outputs": [],
   "source": []
  }
 ],
 "metadata": {
  "anaconda-cloud": {},
  "kernelspec": {
   "display_name": "Python 2",
   "language": "python",
   "name": "python2"
  },
  "language_info": {
   "codemirror_mode": {
    "name": "ipython",
    "version": 2
   },
   "file_extension": ".py",
   "mimetype": "text/x-python",
   "name": "python",
   "nbconvert_exporter": "python",
   "pygments_lexer": "ipython2",
   "version": "2.7.12"
  }
 },
 "nbformat": 4,
 "nbformat_minor": 0
}
