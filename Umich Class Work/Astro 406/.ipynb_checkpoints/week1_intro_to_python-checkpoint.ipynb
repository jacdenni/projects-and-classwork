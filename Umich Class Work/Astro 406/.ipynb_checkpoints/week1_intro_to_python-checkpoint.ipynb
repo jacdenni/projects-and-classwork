{
 "cells": [
  {
   "cell_type": "markdown",
   "metadata": {},
   "source": [
    "## Astronomy 406 \"Computational Astrophysics\" (Fall 2015)"
   ]
  },
  {
   "cell_type": "markdown",
   "metadata": {},
   "source": [
    "### Week 1: Principles of numerical modeling and data analysis. Introduction to Python. Interpolation"
   ]
  },
  {
   "cell_type": "markdown",
   "metadata": {},
   "source": [
    "<b>Reading:</b> notes below, as well as $\\S$[1.1](https://umich.instructure.com/files/2316659/download?download_frd=1) of [Numerical Recipes](http://numerical.recipes), and $\\S$[1.4](https://umich.instructure.com/files/2316615/download?download_frd=1), 2.5, Appendix A of [Statistics, Data Mining, and Machine Learning in Astronomy](http://press.princeton.edu/titles/10159.html)."
   ]
  },
  {
   "cell_type": "markdown",
   "metadata": {},
   "source": [
    "#### Why Python?"
   ]
  },
  {
   "cell_type": "markdown",
   "metadata": {},
   "source": [
    "<b>Python.</b> Python is an open-source (which means, free) programming language with a large number of supporting packages for data analysis and numerical statistics. It is well suited for this course, and I recommend learning it.  \n",
    "\n",
    "<b>Install.</b> You need to install Python (LSA provides Anaconda distributions) with standard libraries (matplotlib, numpy, scipy, sklearn).  See our [Syllabus Google Doc](https://docs.google.com/document/d/1pgZhudmqgLXIW-zFRn5O9BlZh9vF2JT8kIkczL3dPBw/view) for details.\n",
    "\n",
    "<b>AstroML.</b> You should also install [AstroML python library](https://pypi.python.org/pypi/astroML/). (It is already included in the LSA Anaconda distribution.) We will use it in many examples of data analysis. This library was developed to support the book on [Statistics, Data Mining, and Machine Learning in Astronomy](http://press.princeton.edu/titles/10159.html) by Ivezic et al."
   ]
  },
  {
   "cell_type": "markdown",
   "metadata": {},
   "source": [
    "#### How to use IPython Notebook\n",
    "\n",
    "We will be using IPython Notebooks for lecture materials and code examples. They simplify work flow and connect plots of the results with the code that produces them. You can use these codes as a starting point for your own experimentation.\n",
    "\n",
    "IPython Notebooks work by running a fully functional Python server behind the scenes.  Inside the Notebook, the content is divided into cells containing code or text.  This cell you are reading is a text cell.  The one below it, starting with \"In [ ]:\" is a code cell.\n",
    "\n",
    "You can edit cells below to add your own code. To do this, click on the cell to start editing and then type as you normally would. To execute the code contained in the cell, press Shift-Enter. Even for existing cells that you do not need to edit, you should select them and type Shift-Enter when you get there because the cells below generally depend on the previous cells being executed first.\n",
    "\n",
    "To get started, edit the cell below to assign your name to the variable name and then press Shift-Enter to execute the cell."
   ]
  },
  {
   "cell_type": "code",
   "execution_count": null,
   "metadata": {
    "collapsed": false
   },
   "outputs": [],
   "source": [
    "name = \"your name\"\n",
    "print \"Hello\", name"
   ]
  },
  {
   "cell_type": "markdown",
   "metadata": {},
   "source": [
    "#### Numerical Calculation vs. Analytical Calculation\n",
    "\n",
    "In some ways, a numerical solution of an equation is simply an alternative to an analytical solution.  For many equations we encounter in real world problems, numerical solution is the only option.  However, it is important to realize, and always keep in mind, that in other ways a numerical solution is fundamentally different from an analytical one.  A numerical answer is never exact.\n",
    "\n",
    "#### Sources of Error\n",
    "\n",
    "With any algorithm, there are always two sources of error: <i>roundoff error</i> and <i>truncation error</i>.\n",
    "\n",
    "<i>Roundoff error</i> arises from the error inherent in representing a floating point number\n",
    "with a finite number of bits in the computer memory.  Look at the example below that demonstrates roundoff error."
   ]
  },
  {
   "cell_type": "markdown",
   "metadata": {},
   "source": [
    "##### Example: Roundoff Error and Machine Precision"
   ]
  },
  {
   "cell_type": "markdown",
   "metadata": {},
   "source": [
    "Find $\\epsilon$ that satisfies the equation $$1 + \\epsilon = 1.$$ You would think (in the analytical world) that it simply means $\\epsilon = 0$.  However, in the numerical world we find that this equation is satisfied when the value of $\\epsilon > 0$.  What is that strange value?  It is the limit of machine precision.  \n",
    "\n",
    "Let's start with $\\epsilon = 1$ and iterate, halving $\\epsilon$ each time until in the computer representation $1 + \\epsilon = 1$.  Try it (Shift-Enter to execute the cell below)."
   ]
  },
  {
   "cell_type": "code",
   "execution_count": null,
   "metadata": {
    "collapsed": false
   },
   "outputs": [],
   "source": [
    "eps = 1.0\n",
    "\n",
    "while 1.0+eps != 1.0:\n",
    "    eps = eps/2.\n",
    "\n",
    "print 'eps = %.2e' %( eps )"
   ]
  },
  {
   "cell_type": "markdown",
   "metadata": {},
   "source": [
    "This value of $\\epsilon \\sim 10^{-16}$ corresponds to \"double floating point\" accuracy.  It is a traditional name for the real number represented by 8 bytes in the computer memory.\n",
    "\n",
    "Note our first piece of code in Python.  It is fairly self-explanatory and, unlike some other programming languages, straighforward to read.  First, we assign a value to our variable <i>eps</i>, and then run a loop that keeps halving <i>eps</i> while $1 + \\epsilon \\neq 1$.  After the loop exits, we print the value of <i>eps</i>.  Note the print statement allows formatted output.  It will become very handy when we have several numbers to output. \n",
    "\n",
    "Now let's consider <i>truncation error</i>. Truncation error is a feature of an algorithm: we approximate an equation or function by expanding about some small quantity. By throwing away\n",
    "higher-order terms, we are truncating that expression and introducing an error in\n",
    "the representation. If the quantity we expand about is small, then the error is\n",
    "small. But it is not always the case and we should be careful.  \n",
    "\n",
    "Look at the example below, to approximate the cosine function by the Taylor series:\n",
    "$$\\cos(x) = \\sum_{k=0}^\\infty (-1)^k {x^{2k} \\over (2k)!}$$"
   ]
  },
  {
   "cell_type": "markdown",
   "metadata": {},
   "source": [
    "##### Example: Truncation Error\n",
    "\n",
    "First, we define a function that calculates the first ten terms of the expansion.  Look at the Python syntax.  It is quite readable.  The thing to notice is the indentation to the right after the \"def\" line.  Also, the first line imports a standard <i>math</i> library, which contains standard functions such as the factorial."
   ]
  },
  {
   "cell_type": "code",
   "execution_count": 34,
   "metadata": {
    "collapsed": false
   },
   "outputs": [],
   "source": [
    "import math\n",
    "def fn(x):\n",
    "    f = 1.0\n",
    "    for k in range(1, 10):\n",
    "        f += (-1)**k*x**(2*k)/math.factorial(2.*k)\n",
    "    return f"
   ]
  },
  {
   "cell_type": "markdown",
   "metadata": {},
   "source": [
    "Now we can evaluate it at several values of x.  Let's choose $\\pi/2$, $5\\pi/2$, and $9\\pi/2$, <i> for all of which the analytical answer is 0 </i>.  Try it."
   ]
  },
  {
   "cell_type": "code",
   "execution_count": 35,
   "metadata": {
    "collapsed": false
   },
   "outputs": [
    {
     "name": "stdout",
     "output_type": "stream",
     "text": [
      "2.94893069629e-10 -0.288537643744 -28678.7205531\n"
     ]
    }
   ],
   "source": [
    "pi = 3.141592653\n",
    "print fn(pi/2.), fn(pi*5./2.), fn(pi*9./2.)"
   ]
  },
  {
   "cell_type": "markdown",
   "metadata": {},
   "source": [
    "The result may seem strange at first, but it should not surprise us.  All three arguments are greater than unity, and therefore convergence of the series is slow.  Especially, for $x = 9\\pi/2 \\approx 14$.\n",
    "\n",
    "This is also a good place to think about the efficiency of our calculation.  Each new term in the series is based on the previous term, times an additional factor.  Since we know this property before making the calculation, we can utilize it to reduce the number of multiplications and speed up the code. Look at the function below.  We can use an internal Python routine to time our calculations and compare the speed of evaluation of the two functions."
   ]
  },
  {
   "cell_type": "code",
   "execution_count": null,
   "metadata": {
    "collapsed": false
   },
   "outputs": [],
   "source": [
    "print fn(pi*9./2.)\n",
    "%timeit -n 5000 fn(pi*9./2.)"
   ]
  },
  {
   "cell_type": "code",
   "execution_count": null,
   "metadata": {
    "collapsed": false
   },
   "outputs": [],
   "source": [
    "def fn2(x):\n",
    "    f = 1.\n",
    "    fk = 1.\n",
    "    for k in range(1, 10):\n",
    "        fk *= -x**2/(2.*k*(2*k-1))\n",
    "        f += fk\n",
    "    return f"
   ]
  },
  {
   "cell_type": "code",
   "execution_count": null,
   "metadata": {
    "collapsed": false
   },
   "outputs": [],
   "source": [
    "print fn2(pi*9./2.)\n",
    "%timeit -n 5000 fn2(pi*9./2.)"
   ]
  },
  {
   "cell_type": "markdown",
   "metadata": {},
   "source": [
    "We get a factor of 2 reduction in compute time with the second routine.  It may not seem like much in the absolute sense, as either calculation is very fast.  But imagine using more terms in the series and repeating the calculation a billion times, as may be the case for large codes. Then it does make a difference."
   ]
  },
  {
   "cell_type": "markdown",
   "metadata": {},
   "source": [
    "An alternative to a new algorithm, one can mine through Python's vast libraries to find one that better suits your needs. For instance, in the Scientific Python package (called scipy), there is a factorial function that allows you to input an array of numbers. Try this:"
   ]
  },
  {
   "cell_type": "code",
   "execution_count": null,
   "metadata": {
    "collapsed": false
   },
   "outputs": [],
   "source": [
    "from scipy import misc\n",
    "import numpy as np\n",
    "def fn3(x):\n",
    "    k = np.arange(10.)\n",
    "    f = np.sum((-1)**k*x**(2*k)/misc.factorial(2.*k))\n",
    "    return f"
   ]
  },
  {
   "cell_type": "code",
   "execution_count": null,
   "metadata": {
    "collapsed": false
   },
   "outputs": [],
   "source": [
    "print fn3(pi*9./2.)\n",
    "%timeit -n 5000 fn3(pi*9./2.)"
   ]
  },
  {
   "cell_type": "markdown",
   "metadata": {},
   "source": [
    "What is <b>k</b> in the above block of code? How does it differ from the previous two functions? What happens if you try to use a vector for <b>k</b> in fn(x)? in fn2(x)?"
   ]
  },
  {
   "cell_type": "markdown",
   "metadata": {},
   "source": [
    "#### Principles of Numerical Calculation"
   ]
  },
  {
   "cell_type": "markdown",
   "metadata": {},
   "source": [
    "Think about the following principles and discuss them with a student next to you.  What do they mean?  Why are they useful?  We will come back to them throughout this course.\n",
    "\n",
    "$\\bullet$ Choosing dimensionless units<br>\n",
    "$\\bullet$ Being careful when differencing large numbers or checking equality of two floating point variables<br>\n",
    "$\\bullet$ Controling accumulated round-off errors<br>\n",
    "$\\bullet$ Knowing the limits of applicability of a numerical technique<br>\n",
    "$\\bullet$ Validating a numerical answer, convergence tests<br>\n",
    "$\\bullet$ Understanding the error distribution of best-fit parameters"
   ]
  },
  {
   "cell_type": "markdown",
   "metadata": {},
   "source": [
    "#### Testing Numerical Convergence\n",
    "\n",
    "Numerical convergence is one of the most important concepts in searching for a numerical solution.  It applies to calculating an expansion series, or an iterative solution to an integral or a derivative, as well as more sophisticated problems of numerical simulation.\n",
    "\n",
    "We will consider the order-of-accuracy of several methods in this course, and a good way to test whether our method is behaving properly is to perform a convergence test. \n",
    "\n",
    "<b>Exercise 1:</b>Consider a 6th-order accurate approximation to cos(x), corresponding to the first three terms in the Taylor series. For any of the three values of x used before, compute the error in our approximation as $|cos(x)-f6(x)|$, and show that as you cut x in half, the error reduces by $2^6$, thus demonstrating 6th-order accuracy."
   ]
  },
  {
   "cell_type": "code",
   "execution_count": 20,
   "metadata": {
    "collapsed": false
   },
   "outputs": [
    {
     "name": "stdout",
     "output_type": "stream",
     "text": [
      "x: 1.0\n",
      "Error: 0.00136436079853\n",
      "x: 0.5\n",
      "Error: 2.16047762939e-05\n",
      "x: 0.25\n",
      "Error: 3.38706021896e-07\n",
      "log2 of error ratio: 5.99517284552\n",
      "x: 0.125\n",
      "Error: 5.29671262406e-09\n",
      "log2 of error ratio: 5.99879259011\n",
      "x: 0.0625\n",
      "Error: 8.27784507607e-11\n",
      "log2 of error ratio: 5.99969817828\n"
     ]
    }
   ],
   "source": [
    "import numpy as np\n",
    "\n",
    "def f6(x):\n",
    "    return 1.-x**2/2.+x**4/24.\n",
    "\n",
    "x = 1.\n",
    "prevError = 1.\n",
    "for i in np.arange(5):\n",
    "    tempError = np.fabs(np.cos(x) - f6(x))\n",
    "    print 'x:', x\n",
    "    print 'Error:', tempError\n",
    "    if (i > 1) & (tempError - 0. > 0.):\n",
    "        print 'log2 of error ratio:', np.log2(prevError / tempError)\n",
    "    prevError = tempError\n",
    "    x = x / 2.\n"
   ]
  },
  {
   "cell_type": "code",
   "execution_count": 33,
   "metadata": {
    "collapsed": false
   },
   "outputs": [
    {
     "name": "stdout",
     "output_type": "stream",
     "text": [
      "[ 1.      0.5     0.25    0.125   0.0625] [  1.36436080e-03   2.16047763e-05   3.38706022e-07   5.29671262e-09\n",
      "   8.27784508e-11]\n",
      "[ 5.98073111  5.98795198  5.99156551  5.99359868]\n"
     ]
    }
   ],
   "source": [
    "#Alternatively:\n",
    "\n",
    "import numpy as np\n",
    "\n",
    "def f6(x):\n",
    "    return 1. - x**2 /2. + x**4 / 24.\n",
    "\n",
    "def err(xstart, n):\n",
    "    diff = np.zeros(n)\n",
    "    x = np.zeros(n)\n",
    "    for i in range(n):\n",
    "        x[i] = (xstart / 2.) ** i\n",
    "        diff[i] = np.fabs(np.cos(x[i]) - f6(x[i]))\n",
    "    return x, diff\n",
    "\n",
    "y, ydiff = err(1., 5)\n",
    "print y, ydiff\n",
    "\n",
    "ydiff2 = np.log2(ydiff / ydiff[0])\n",
    "y2 = np.log2(y / y[0]) # need to normalize arrays\n",
    "\n",
    "print ydiff2 [1:] / y2[1:]"
   ]
  },
  {
   "cell_type": "markdown",
   "metadata": {},
   "source": [
    "<b>Exercise 2:</b> Rewrite the routines above for fn(x), fn2(x), and fn3(x) to pass the number of terms as an additional parameter, $n$.  Find $n$ for each of the three values of $x$ such that the returned value is below numerical machine precision (i.e., convergence such that you can do no better). Note any interesting outcomes (or failure modes)."
   ]
  },
  {
   "cell_type": "code",
   "execution_count": 38,
   "metadata": {
    "collapsed": false
   },
   "outputs": [
    {
     "name": "stdout",
     "output_type": "stream",
     "text": [
      "-3.37692155225e-15\n",
      "-3.37692155225e-15\n"
     ]
    }
   ],
   "source": [
    "import math\n",
    "\n",
    "def Newfn(x, n):\n",
    "    f = 1.0\n",
    "    for k in range(1, n):\n",
    "        f += (-1)**k*x**(2*k)/math.factorial(2.*k)\n",
    "    return f\n",
    "\n",
    "print fn(np.pi / 2.)\n",
    "print Newfn(np.pi / 2., 10)"
   ]
  },
  {
   "cell_type": "markdown",
   "metadata": {},
   "source": [
    "### Basic Programming with Python\n",
    "\n",
    "Let's look at some basic functions of Python for data analysis and programming.  Many useful routines are included in the packages NumPy and SciPy.  These packages need to be loaded to the memory before we can use them.  You can load the whole package, as"
   ]
  },
  {
   "cell_type": "code",
   "execution_count": 39,
   "metadata": {
    "collapsed": true
   },
   "outputs": [],
   "source": [
    "import numpy as np"
   ]
  },
  {
   "cell_type": "markdown",
   "metadata": {},
   "source": [
    "or specific routines from a package, as"
   ]
  },
  {
   "cell_type": "code",
   "execution_count": 40,
   "metadata": {
    "collapsed": true
   },
   "outputs": [],
   "source": [
    "from scipy import interpolate, integrate"
   ]
  },
  {
   "cell_type": "markdown",
   "metadata": {},
   "source": [
    "The latter is preferred for large packages such as SciPy.  We will use a lot of useful functions of NumPy, so it is convenient to load it fully.\n",
    "\n",
    "Below are useful examples of manipulating data.  Execute all of them and check the output.  You can also edit the cells and play with your own data."
   ]
  },
  {
   "cell_type": "code",
   "execution_count": 42,
   "metadata": {
    "collapsed": false
   },
   "outputs": [
    {
     "name": "stdout",
     "output_type": "stream",
     "text": [
      "5.85 -0.43 8.5094 0.863057324841 22.8835591933\n",
      "c = 4.14773432129\n",
      "b = 3.14\n"
     ]
    }
   ],
   "source": [
    "# assign value to variables a and b, then print various arithmetic combinations\n",
    "a = 2.71\n",
    "b = 3.14\n",
    "print a+b, a-b, a*b, a/b, a**b\n",
    "\n",
    "# create new variable\n",
    "c = a**2 + b**2\n",
    "print 'c =', c**(1./2.)\n",
    "\n",
    "# conditional statement\n",
    "if a < 3 and b >=a :\n",
    "    print 'b =', b\n",
    "else:\n",
    "    print 'a =', a"
   ]
  },
  {
   "cell_type": "markdown",
   "metadata": {},
   "source": [
    "Some simple NumPy functionality:"
   ]
  },
  {
   "cell_type": "code",
   "execution_count": 43,
   "metadata": {
    "collapsed": false
   },
   "outputs": [
    {
     "name": "stdout",
     "output_type": "stream",
     "text": [
      "[1, 2, 3] [2.71, 3.14, 17.2037]\n",
      "2.71 17.2037 7.68456666667\n",
      "2.71\n",
      "3.14\n",
      "17.2037\n",
      "[-2.  -1.5 -1.  -0.5  0.   0.5  1.   1.5]\n"
     ]
    }
   ],
   "source": [
    "# create a list\n",
    "l1 = [1, 2, 3]\n",
    "l2 = [a, b, c]\n",
    "print l1, l2\n",
    "\n",
    "# operations with lists\n",
    "lmin = min(l2)\n",
    "lmax = max(l2)\n",
    "lmean = sum(l2)/len(l2)\n",
    "print lmin, lmax, lmean\n",
    "\n",
    "# access elements of a list\n",
    "for n in range(len(l2)):\n",
    "    print l2[n]\n",
    "\n",
    "# create a regular NumPy array\n",
    "a1 = np.arange(-2, 2, 0.5)\n",
    "print a1"
   ]
  },
  {
   "cell_type": "markdown",
   "metadata": {},
   "source": [
    "Read in the data file, and split two columns into 1D arrays this data file is located in 'Canvas/Files/Data files' download it and place in the same folder as this Notebook"
   ]
  },
  {
   "cell_type": "code",
   "execution_count": 44,
   "metadata": {
    "collapsed": false
   },
   "outputs": [
    {
     "name": "stdout",
     "output_type": "stream",
     "text": [
      "[-2.   -1.99 -1.98 -1.97 -1.96 -1.95 -1.94 -1.93 -1.92 -1.91 -1.9  -1.89\n",
      " -1.88 -1.87 -1.86 -1.85 -1.84 -1.83 -1.82 -1.81 -1.8  -1.79 -1.78 -1.77\n",
      " -1.76 -1.75 -1.74 -1.73 -1.72 -1.71 -1.7  -1.69 -1.68 -1.67 -1.66 -1.65\n",
      " -1.64 -1.63 -1.62 -1.61 -1.6  -1.59 -1.58 -1.57 -1.56 -1.55 -1.54 -1.53\n",
      " -1.52 -1.51 -1.5  -1.49 -1.48 -1.47 -1.46 -1.45 -1.44 -1.43 -1.42 -1.41\n",
      " -1.4  -1.39 -1.38 -1.37 -1.36 -1.35 -1.34 -1.33 -1.32 -1.31 -1.3  -1.29\n",
      " -1.28 -1.27 -1.26 -1.25 -1.24 -1.23 -1.22 -1.21 -1.2  -1.19 -1.18 -1.17\n",
      " -1.16 -1.15 -1.14 -1.13 -1.12 -1.11 -1.1  -1.09 -1.08 -1.07 -1.06 -1.05\n",
      " -1.04 -1.03 -1.02 -1.01 -1.   -0.99 -0.98 -0.97 -0.96 -0.95 -0.94 -0.93\n",
      " -0.92 -0.91 -0.9  -0.89 -0.88 -0.87 -0.86 -0.85 -0.84 -0.83 -0.82 -0.81\n",
      " -0.8  -0.79 -0.78 -0.77 -0.76 -0.75 -0.74 -0.73 -0.72 -0.71 -0.7  -0.69\n",
      " -0.68 -0.67 -0.66 -0.65 -0.64 -0.63 -0.62 -0.61 -0.6  -0.59 -0.58 -0.57\n",
      " -0.56 -0.55 -0.54 -0.53 -0.52 -0.51 -0.5  -0.49 -0.48 -0.47 -0.46 -0.45\n",
      " -0.44 -0.43 -0.42 -0.41 -0.4  -0.39 -0.38 -0.37 -0.36 -0.35 -0.34 -0.33\n",
      " -0.32 -0.31 -0.3  -0.29 -0.28 -0.27 -0.26 -0.25 -0.24 -0.23 -0.22 -0.21\n",
      " -0.2  -0.19 -0.18 -0.17 -0.16 -0.15 -0.14 -0.13 -0.12 -0.11 -0.1  -0.09\n",
      " -0.08 -0.07 -0.06 -0.05 -0.04 -0.03 -0.02 -0.01  0.    0.01  0.02  0.03\n",
      "  0.04  0.05  0.06  0.07  0.08  0.09  0.1   0.11  0.12  0.13  0.14  0.15\n",
      "  0.16  0.17  0.18  0.19  0.2   0.21  0.22  0.23  0.24  0.25  0.26  0.27\n",
      "  0.28  0.29  0.3   0.31  0.32  0.33  0.34  0.35  0.36  0.37  0.38  0.39\n",
      "  0.4   0.41  0.42  0.43  0.44  0.45  0.46  0.47  0.48  0.49  0.5   0.51\n",
      "  0.52  0.53  0.54  0.55  0.56  0.57  0.58  0.59  0.6   0.61  0.62  0.63\n",
      "  0.64  0.65  0.66  0.67  0.68  0.69  0.7   0.71  0.72  0.73  0.74  0.75\n",
      "  0.76  0.77  0.78  0.79  0.8   0.81  0.82  0.83  0.84  0.85  0.86  0.87\n",
      "  0.88  0.89  0.9   0.91  0.92  0.93  0.94  0.95  0.96  0.97  0.98  0.99\n",
      "  1.    1.01  1.02  1.03  1.04  1.05  1.06  1.07  1.08  1.09  1.1   1.11\n",
      "  1.12  1.13  1.14  1.15  1.16  1.17  1.18  1.19  1.2   1.21  1.22  1.23\n",
      "  1.24  1.25  1.26  1.27  1.28  1.29  1.3   1.31  1.32  1.33  1.34  1.35\n",
      "  1.36  1.37  1.38  1.39  1.4   1.41  1.42  1.43  1.44  1.45  1.46  1.47\n",
      "  1.48  1.49  1.5   1.51  1.52  1.53  1.54  1.55  1.56  1.57  1.58  1.59\n",
      "  1.6   1.61  1.62  1.63  1.64  1.65  1.66  1.67  1.68  1.69  1.7   1.71\n",
      "  1.72  1.73  1.74  1.75  1.76  1.77  1.78  1.79  1.8   1.81  1.82  1.83\n",
      "  1.84  1.85  1.86  1.87  1.88  1.89  1.9   1.91  1.92  1.93  1.94  1.95\n",
      "  1.96  1.97  1.98  1.99  2.  ] [  4.30090000e+00   4.30460000e+00   4.30810000e+00   4.31150000e+00\n",
      "   4.31470000e+00   4.31770000e+00   4.32070000e+00   4.32350000e+00\n",
      "   4.32610000e+00   4.32860000e+00   4.33090000e+00   4.33310000e+00\n",
      "   4.33510000e+00   4.33700000e+00   4.33870000e+00   4.34020000e+00\n",
      "   4.34160000e+00   4.34290000e+00   4.34390000e+00   4.34480000e+00\n",
      "   4.34560000e+00   4.34620000e+00   4.34670000e+00   4.34690000e+00\n",
      "   4.34710000e+00   4.34700000e+00   4.34680000e+00   4.34650000e+00\n",
      "   4.34600000e+00   4.34530000e+00   4.34450000e+00   4.34340000e+00\n",
      "   4.34230000e+00   4.34100000e+00   4.33950000e+00   4.33780000e+00\n",
      "   4.33600000e+00   4.33400000e+00   4.33190000e+00   4.32960000e+00\n",
      "   4.32710000e+00   4.32440000e+00   4.32160000e+00   4.31860000e+00\n",
      "   4.31550000e+00   4.31220000e+00   4.30870000e+00   4.30510000e+00\n",
      "   4.30120000e+00   4.29720000e+00   4.29300000e+00   4.28870000e+00\n",
      "   4.28420000e+00   4.27940000e+00   4.27460000e+00   4.26950000e+00\n",
      "   4.26430000e+00   4.25890000e+00   4.25320000e+00   4.24750000e+00\n",
      "   4.24150000e+00   4.23530000e+00   4.22900000e+00   4.22250000e+00\n",
      "   4.21580000e+00   4.20890000e+00   4.20180000e+00   4.19450000e+00\n",
      "   4.18700000e+00   4.17940000e+00   4.17160000e+00   4.16350000e+00\n",
      "   4.15530000e+00   4.14680000e+00   4.13820000e+00   4.12940000e+00\n",
      "   4.12040000e+00   4.11120000e+00   4.10190000e+00   4.09230000e+00\n",
      "   4.08250000e+00   4.07250000e+00   4.06240000e+00   4.05200000e+00\n",
      "   4.04150000e+00   4.03080000e+00   4.01990000e+00   4.00880000e+00\n",
      "   3.99750000e+00   3.98600000e+00   3.97430000e+00   3.96250000e+00\n",
      "   3.95050000e+00   3.93830000e+00   3.92590000e+00   3.91330000e+00\n",
      "   3.90060000e+00   3.88770000e+00   3.87460000e+00   3.86130000e+00\n",
      "   3.84790000e+00   3.83430000e+00   3.82050000e+00   3.80660000e+00\n",
      "   3.79250000e+00   3.77820000e+00   3.76380000e+00   3.74920000e+00\n",
      "   3.73450000e+00   3.71960000e+00   3.70450000e+00   3.68930000e+00\n",
      "   3.67400000e+00   3.65850000e+00   3.64290000e+00   3.62710000e+00\n",
      "   3.61120000e+00   3.59520000e+00   3.57900000e+00   3.56260000e+00\n",
      "   3.54620000e+00   3.52960000e+00   3.51290000e+00   3.49610000e+00\n",
      "   3.47910000e+00   3.46200000e+00   3.44480000e+00   3.42750000e+00\n",
      "   3.41000000e+00   3.39240000e+00   3.37480000e+00   3.35700000e+00\n",
      "   3.33910000e+00   3.32100000e+00   3.30290000e+00   3.28470000e+00\n",
      "   3.26630000e+00   3.24790000e+00   3.22930000e+00   3.21070000e+00\n",
      "   3.19190000e+00   3.17310000e+00   3.15420000e+00   3.13510000e+00\n",
      "   3.11590000e+00   3.09670000e+00   3.07740000e+00   3.05800000e+00\n",
      "   3.03850000e+00   3.01890000e+00   2.99920000e+00   2.97940000e+00\n",
      "   2.95960000e+00   2.93970000e+00   2.91960000e+00   2.89950000e+00\n",
      "   2.87940000e+00   2.85910000e+00   2.83880000e+00   2.81830000e+00\n",
      "   2.79780000e+00   2.77730000e+00   2.75660000e+00   2.73590000e+00\n",
      "   2.71510000e+00   2.69430000e+00   2.67330000e+00   2.65230000e+00\n",
      "   2.63120000e+00   2.61010000e+00   2.58890000e+00   2.56760000e+00\n",
      "   2.54620000e+00   2.52480000e+00   2.50340000e+00   2.48180000e+00\n",
      "   2.46020000e+00   2.43850000e+00   2.41680000e+00   2.39500000e+00\n",
      "   2.37320000e+00   2.35130000e+00   2.32930000e+00   2.30730000e+00\n",
      "   2.28520000e+00   2.26300000e+00   2.24080000e+00   2.21860000e+00\n",
      "   2.19630000e+00   2.17390000e+00   2.15150000e+00   2.12900000e+00\n",
      "   2.10650000e+00   2.08390000e+00   2.06130000e+00   2.03860000e+00\n",
      "   2.01590000e+00   1.99310000e+00   1.97030000e+00   1.94740000e+00\n",
      "   1.92440000e+00   1.90150000e+00   1.87850000e+00   1.85540000e+00\n",
      "   1.83230000e+00   1.80910000e+00   1.78590000e+00   1.76260000e+00\n",
      "   1.73940000e+00   1.71600000e+00   1.69260000e+00   1.66920000e+00\n",
      "   1.64570000e+00   1.62220000e+00   1.59870000e+00   1.57510000e+00\n",
      "   1.55150000e+00   1.52780000e+00   1.50410000e+00   1.48030000e+00\n",
      "   1.45650000e+00   1.43270000e+00   1.40880000e+00   1.38490000e+00\n",
      "   1.36100000e+00   1.33700000e+00   1.31300000e+00   1.28890000e+00\n",
      "   1.26480000e+00   1.24070000e+00   1.21650000e+00   1.19230000e+00\n",
      "   1.16810000e+00   1.14380000e+00   1.11950000e+00   1.09520000e+00\n",
      "   1.07080000e+00   1.04640000e+00   1.02200000e+00   9.97500000e-01\n",
      "   9.73000000e-01   9.48500000e-01   9.24000000e-01   8.99400000e-01\n",
      "   8.74700000e-01   8.50100000e-01   8.25400000e-01   8.00700000e-01\n",
      "   7.76000000e-01   7.51200000e-01   7.26400000e-01   7.01600000e-01\n",
      "   6.76700000e-01   6.51800000e-01   6.26900000e-01   6.02000000e-01\n",
      "   5.77000000e-01   5.52000000e-01   5.27000000e-01   5.01900000e-01\n",
      "   4.76900000e-01   4.51800000e-01   4.26700000e-01   4.01500000e-01\n",
      "   3.76300000e-01   3.51100000e-01   3.25900000e-01   3.00600000e-01\n",
      "   2.75400000e-01   2.50100000e-01   2.24700000e-01   1.99400000e-01\n",
      "   1.74000000e-01   1.48600000e-01   1.23200000e-01   9.78000000e-02\n",
      "   7.23000000e-02   4.68000000e-02   2.13000000e-02  -4.20000000e-03\n",
      "  -2.97000000e-02  -5.53000000e-02  -8.09000000e-02  -1.06500000e-01\n",
      "  -1.32200000e-01  -1.57800000e-01  -1.83500000e-01  -2.09200000e-01\n",
      "  -2.34900000e-01  -2.60700000e-01  -2.86400000e-01  -3.12200000e-01\n",
      "  -3.38000000e-01  -3.63800000e-01  -3.89600000e-01  -4.15500000e-01\n",
      "  -4.41400000e-01  -4.67300000e-01  -4.93200000e-01  -5.19100000e-01\n",
      "  -5.45100000e-01  -5.71000000e-01  -5.97000000e-01  -6.23000000e-01\n",
      "  -6.49100000e-01  -6.75100000e-01  -7.01100000e-01  -7.27200000e-01\n",
      "  -7.53300000e-01  -7.79400000e-01  -8.05500000e-01  -8.31700000e-01\n",
      "  -8.57900000e-01  -8.84000000e-01  -9.10200000e-01  -9.36400000e-01\n",
      "  -9.62700000e-01  -9.88900000e-01  -1.01510000e+00  -1.04140000e+00\n",
      "  -1.06770000e+00  -1.09400000e+00  -1.12030000e+00  -1.14670000e+00\n",
      "  -1.17300000e+00  -1.19940000e+00  -1.22580000e+00  -1.25210000e+00\n",
      "  -1.27860000e+00  -1.30500000e+00  -1.33140000e+00  -1.35790000e+00\n",
      "  -1.38430000e+00  -1.41080000e+00  -1.43730000e+00  -1.46380000e+00\n",
      "  -1.49030000e+00  -1.51690000e+00  -1.54340000e+00  -1.57000000e+00\n",
      "  -1.59660000e+00  -1.62310000e+00  -1.64980000e+00  -1.67640000e+00\n",
      "  -1.70300000e+00  -1.72960000e+00  -1.75630000e+00  -1.78290000e+00\n",
      "  -1.80960000e+00  -1.83630000e+00  -1.86300000e+00  -1.88970000e+00\n",
      "  -1.91650000e+00  -1.94320000e+00  -1.97000000e+00  -1.99670000e+00\n",
      "  -2.02350000e+00  -2.05030000e+00  -2.07710000e+00  -2.10390000e+00\n",
      "  -2.13070000e+00  -2.15760000e+00  -2.18440000e+00  -2.21130000e+00\n",
      "  -2.23810000e+00  -2.26500000e+00  -2.29190000e+00  -2.31880000e+00\n",
      "  -2.34570000e+00  -2.37260000e+00  -2.39960000e+00  -2.42650000e+00\n",
      "  -2.45350000e+00  -2.48040000e+00  -2.50740000e+00  -2.53440000e+00\n",
      "  -2.56140000e+00  -2.58840000e+00  -2.61540000e+00  -2.64240000e+00\n",
      "  -2.66950000e+00  -2.69650000e+00  -2.72360000e+00  -2.75070000e+00\n",
      "  -2.77780000e+00  -2.80480000e+00  -2.83190000e+00  -2.85900000e+00\n",
      "  -2.88620000e+00  -2.91330000e+00  -2.94040000e+00  -2.96750000e+00\n",
      "  -2.99470000e+00  -3.02190000e+00  -3.04900000e+00  -3.07620000e+00\n",
      "  -3.10340000e+00  -3.13060000e+00  -3.15780000e+00  -3.18500000e+00\n",
      "  -3.21230000e+00]\n",
      "-0.5 0.5\n"
     ]
    }
   ],
   "source": [
    "x, y = np.loadtxt(\"pk2.dat\", unpack=True)\n",
    "print x, y\n",
    "\n",
    "#Alternatively:\n",
    "data = np.loadtxt('pk2.dat')\n",
    "x1 = data[:, 0]\n",
    "y1 = data[:, 1]\n",
    "\n",
    "# define a function\n",
    "def f(x):\n",
    "    return x-0.5\n",
    "\n",
    "# evaluate function\n",
    "a = f(0)\n",
    "b = f(1)\n",
    "print a, b"
   ]
  },
  {
   "cell_type": "markdown",
   "metadata": {},
   "source": [
    "Create an array and map function onto it"
   ]
  },
  {
   "cell_type": "code",
   "execution_count": 46,
   "metadata": {
    "collapsed": false
   },
   "outputs": [
    {
     "name": "stdout",
     "output_type": "stream",
     "text": [
      "[ 0.   0.1  0.2  0.3  0.4  0.5  0.6  0.7  0.8  0.9]\n",
      "[-0.5 -0.4 -0.3 -0.2 -0.1  0.   0.1  0.2  0.3  0.4]\n"
     ]
    }
   ],
   "source": [
    "r = np.arange(0, 1, 0.1)\n",
    "fr = np.array(map(f,r),float)\n",
    "print r\n",
    "print fr"
   ]
  },
  {
   "cell_type": "markdown",
   "metadata": {},
   "source": [
    "Create function with two variables"
   ]
  },
  {
   "cell_type": "code",
   "execution_count": 47,
   "metadata": {
    "collapsed": true
   },
   "outputs": [],
   "source": [
    "def f2(x,z):\n",
    "    return x-z"
   ]
  },
  {
   "cell_type": "markdown",
   "metadata": {},
   "source": [
    "Create interpolation function"
   ]
  },
  {
   "cell_type": "code",
   "execution_count": 48,
   "metadata": {
    "collapsed": false
   },
   "outputs": [
    {
     "name": "stdout",
     "output_type": "stream",
     "text": [
      "[-0.5  -0.49 -0.48 -0.47 -0.46 -0.45 -0.44 -0.43 -0.42 -0.41 -0.4  -0.39\n",
      " -0.38 -0.37 -0.36 -0.35 -0.34 -0.33 -0.32 -0.31 -0.3  -0.29 -0.28 -0.27\n",
      " -0.26 -0.25 -0.24 -0.23 -0.22 -0.21 -0.2  -0.19 -0.18 -0.17 -0.16 -0.15\n",
      " -0.14 -0.13 -0.12 -0.11 -0.1  -0.09 -0.08 -0.07 -0.06 -0.05 -0.04 -0.03\n",
      " -0.02 -0.01  0.    0.01  0.02  0.03  0.04  0.05  0.06  0.07  0.08  0.09\n",
      "  0.1   0.11  0.12  0.13  0.14  0.15  0.16  0.17  0.18  0.19  0.2   0.21\n",
      "  0.22  0.23  0.24  0.25  0.26  0.27  0.28  0.29  0.3   0.31  0.32  0.33\n",
      "  0.34  0.35  0.36  0.37  0.38  0.39]\n"
     ]
    }
   ],
   "source": [
    "f_interp = interpolate.interp1d(r, fr, kind='linear')\n",
    "x_new = np.arange(0,0.9,0.01)\n",
    "f3 = f_interp(x_new)\n",
    "print f3"
   ]
  },
  {
   "cell_type": "markdown",
   "metadata": {},
   "source": [
    "### Making Plots with Matplotlib\n",
    "\n",
    "Matplotlib package provides convenient tools to plot your data."
   ]
  },
  {
   "cell_type": "markdown",
   "metadata": {},
   "source": [
    "A simple scatter plot:"
   ]
  },
  {
   "cell_type": "code",
   "execution_count": null,
   "metadata": {
    "collapsed": false
   },
   "outputs": [],
   "source": [
    "%matplotlib inline\n",
    "import matplotlib.pyplot as plt\n",
    "from matplotlib import rcParams\n",
    "rcParams[\"savefig.dpi\"] = 100  # this makes all the plots a little bigger\n",
    "x, y = np.random.random([2, 100])\n",
    "plt.scatter(x, y)"
   ]
  },
  {
   "cell_type": "markdown",
   "metadata": {},
   "source": [
    "We can change the marker, add labels to the axes, change the ranges plotted, add a grid, and a title:"
   ]
  },
  {
   "cell_type": "code",
   "execution_count": null,
   "metadata": {
    "collapsed": false
   },
   "outputs": [],
   "source": [
    "plt.scatter(x, y, marker = '*', color = 'r', s = 35)\n",
    "plt.xlabel('Abscissa')\n",
    "plt.ylabel('Ordinate')\n",
    "plt.xlim(0.0, 1.0)\n",
    "plt.ylim(0.0, 1.0)\n",
    "plt.grid(True)\n",
    "plt.title('A simple scatter plot')"
   ]
  },
  {
   "cell_type": "markdown",
   "metadata": {},
   "source": [
    "A plot with error bars:"
   ]
  },
  {
   "cell_type": "code",
   "execution_count": null,
   "metadata": {
    "collapsed": false
   },
   "outputs": [],
   "source": [
    "xerr = np.random.normal(0., 0.05, 100)\n",
    "yerr = np.random.normal(0., 0.05, 100)\n",
    "plt.errorbar(x, y, xerr, yerr, fmt = '.k', ecolor = 'gray', lw = 1, ms = 4)\n",
    "plt.xlabel('Abscissa')\n",
    "plt.ylabel('Ordinate')\n",
    "plt.xlim(0.0, 1.0)\n",
    "plt.ylim(0.0, 1.0)\n",
    "plt.grid(True)\n",
    "plt.title('A plot with errorbars')"
   ]
  },
  {
   "cell_type": "markdown",
   "metadata": {},
   "source": [
    "OK, so what happens when instead of 100 data points, we have 100,000. In this case, we will be overwhelmed by a simple scatter plot and need to do something to make the visual more manageable. One option is to reduce the transparency (and size) of the markers which can be particularly useful if you plotting some other smaller distribution on top:"
   ]
  },
  {
   "cell_type": "code",
   "execution_count": null,
   "metadata": {
    "collapsed": false
   },
   "outputs": [],
   "source": [
    "mean, cov = [0., 0.], [(2., 0.5), (0.5, 1.)] \n",
    "data = np.random.multivariate_normal(mean, cov, 100000)\n",
    "a, b = data.T\n",
    "plt.scatter(a, b, marker = '.', color = 'b', s = 1, alpha = 0.2)\n",
    "plt.scatter(5. * x - 2.5, 5. * y - 2.5, marker = '*', color = 'k')"
   ]
  },
  {
   "cell_type": "markdown",
   "metadata": {},
   "source": [
    "Often what we're really interested in these cases is getting some idea of where the densest regions are. Matplotlib has routines such as <i>hexbin</i> and <i>contour</i> which can be used to plot binned values and contours but you have to calculate the various plotted quantities yourself. An alternate option is to use the Python package <a href=\"http://stanford.edu/~mwaskom/software/seaborn/index.html\">seaborn</a> which sits on top of matplotlib.\n",
    "\n",
    "Let's first look at a hexbin plot:"
   ]
  },
  {
   "cell_type": "code",
   "execution_count": null,
   "metadata": {
    "collapsed": false
   },
   "outputs": [],
   "source": [
    "import seaborn as sns\n",
    "sns.set(color_codes = False)\n",
    "with sns.axes_style(\"white\"):\n",
    "    sns.jointplot(x = a[:1000], y = b[:1000], kind = 'hex', color = 'k')"
   ]
  },
  {
   "cell_type": "markdown",
   "metadata": {},
   "source": [
    "Often we are interested in the distribution of a single variable which in its simplest form can be shown by a histogram - a nonparametric density estimation. Numpy provides routines for binning (multivariate) data with a specified bin width or a certain number of bins over a range of values. The results of this can then be passed to the matplotlib <i>hist</i> routine. Seaborn also provides a histogram routine  which by default will also fit a KDE: "
   ]
  },
  {
   "cell_type": "code",
   "execution_count": null,
   "metadata": {
    "collapsed": false
   },
   "outputs": [],
   "source": [
    "x = np.concatenate([np.random.normal(0., 1., 100), np.random.normal(2, 0.5, 50)])\n",
    "sns.distplot(x)"
   ]
  },
  {
   "cell_type": "markdown",
   "metadata": {},
   "source": [
    "The bin width (and so number of bins) and bin placement remain somewhat arbitrary. This can affect the interpretation of this histogram as features may be missed. There is also the question of what to do with sparsely sampled bins. There are a number of 'theoretical' recommendations for the number of bins, $k$, to use, such as Sturges's formula $k = \\log_2n + 1$, and Simon's rule, $k = 3.5\\sigma / n^{1/3}$, but they are all assume an approximately normal distribution. The Freedman-Diaconis rule attempts to generalize Simon's rule for non-Gaussian distributions: $k = 2.7 \\sigma_{IQR}\\ / n^{1/3}$.\n",
    "\n",
    "An alternate solution is to relax the idea of a fixed bin width and instead allos uneven (arbitrary) bin widths. Factoring this into the methodology behind Knuth's rule gives <i>Bayesian blocks</i>. An additional feature of Bayesian blocks is that they are an optimal binning and so statistical significance can be assigned to the bin configuration. This has signal detection applications in time domain astronomy http://adsabs.harvard.edu/abs/2012arXiv1207.5578S\n",
    "\n",
    "Fortunately, these various binning systems are available with the <i>astroML.plotting</i> package <i>hist</i>:"
   ]
  },
  {
   "cell_type": "code",
   "execution_count": null,
   "metadata": {
    "collapsed": false
   },
   "outputs": [],
   "source": [
    "from astroML.plotting import hist\n",
    "hist(x, bins = 'knuth')"
   ]
  },
  {
   "cell_type": "code",
   "execution_count": null,
   "metadata": {
    "collapsed": false
   },
   "outputs": [],
   "source": [
    "hist(x, bins = 'blocks')"
   ]
  },
  {
   "cell_type": "markdown",
   "metadata": {},
   "source": [
    "Both of the above techniques from astroML bring statistical rigor to the artform otherwise known as the <i>histogram</i> ."
   ]
  },
  {
   "cell_type": "markdown",
   "metadata": {},
   "source": [
    "<b>Exercise 3:</b> Plot the time as a function of n for the factorial exercise and using the three different functions (fn(x), fn2(x), and fn3(x)) that you used in the previous exercise."
   ]
  },
  {
   "cell_type": "markdown",
   "metadata": {},
   "source": [
    "### Interpolation of tabulated data"
   ]
  },
  {
   "cell_type": "markdown",
   "metadata": {},
   "source": [
    "<b>Reading:</b> notes below, as well as $\\S$[3.0-3.6](https://umich.instructure.com/files/2342968/download?download_frd=1) of [Numerical Recipes](http://numerical.recipes)."
   ]
  },
  {
   "cell_type": "markdown",
   "metadata": {},
   "source": [
    "All data available to us are presented in a tabulated form. Even when we look at a line on a plot of $y$ vs. $x$, it is not a continuous function but a set of discrete data points (an array of values $x_i$ and $y_i$, for $i=0, N$, in computer representation).\n",
    "\n",
    "Sometimes it is desirable to know the expected value of $y$ at a point between the tabulated $x_i$.  Such an expectation function is called interpolating function, and the process is called interpolation.\n",
    "\n",
    "Let's look at an example. Remember to execute each cell.  First, set up the necessary libraries."
   ]
  },
  {
   "cell_type": "code",
   "execution_count": null,
   "metadata": {
    "collapsed": true
   },
   "outputs": [],
   "source": [
    "%matplotlib inline\n",
    "from matplotlib import rcParams\n",
    "rcParams[\"savefig.dpi\"] = 100\n",
    "import numpy as np\n",
    "import matplotlib.pyplot as plt\n",
    "from scipy import interpolate"
   ]
  },
  {
   "cell_type": "markdown",
   "metadata": {},
   "source": [
    "Now let's create a simple dataset and plot it."
   ]
  },
  {
   "cell_type": "code",
   "execution_count": null,
   "metadata": {
    "collapsed": false
   },
   "outputs": [],
   "source": [
    "x = np.array([0, 1, 2, 3, 4, 5])\n",
    "y = np.sin(5.*x)\n",
    "\n",
    "plt.xlim(-0.4, 5.4)\n",
    "plt.ylim(-1.2, 1.2)\n",
    "plt.xlabel('x')\n",
    "plt.ylabel('y')\n",
    "plt.scatter(x, y)\n",
    "plt.show()"
   ]
  },
  {
   "cell_type": "markdown",
   "metadata": {},
   "source": [
    "Is there a unique way to connect the points? Your eye may guide you to a smooth curve going up and down, for example using straight lines.  Let's plot it below."
   ]
  },
  {
   "cell_type": "code",
   "execution_count": null,
   "metadata": {
    "collapsed": true
   },
   "outputs": [],
   "source": [
    "plt.plot(x, y, 'r-')\n",
    "plt.scatter(x, y)"
   ]
  },
  {
   "cell_type": "markdown",
   "metadata": {},
   "source": [
    "Now let's plot the real function used to generate these points."
   ]
  },
  {
   "cell_type": "code",
   "execution_count": null,
   "metadata": {
    "collapsed": false
   },
   "outputs": [],
   "source": [
    "plt.scatter(x, y)\n",
    "plt.plot(x, y, 'r-')\n",
    "\n",
    "# overplot the generating function\n",
    "xa = np.arange(0, 5, 0.01)\n",
    "plt.plot(xa, np.sin(5.*xa), 'g-')"
   ]
  },
  {
   "cell_type": "markdown",
   "metadata": {},
   "source": [
    "We can see that we missed a lot of ups and downs!  The point of this exercise is to illustrate that there is no unique way to connect discrete data points.  So, what should we do in practice?\n",
    "\n",
    "The answer depends on what we know and what we want to achieve.  If we know absolutely nothing about the origin of our data points (how they were obtained, what they represent), then we go for straight lines as in the example above.  It is called 'linear interpolation' and is the most basic, and robust, way of estimating the value of $y$ between the data points.\n",
    "\n",
    "However, if we know that the data represent measurements of some fairly predictable variable, which should vary smoothly with $x$, then we can use higher-order interpolation schemes.  The most common is 'spline interpolation'.\n",
    "\n",
    "Let's use functions [interpolate.interp1d](http://docs.scipy.org/doc/scipy/reference/generated/scipy.interpolate.interp1d.html) and [interpolate.UnivariateSpline](http://docs.scipy.org/doc/scipy/reference/generated/scipy.interpolate.UnivariateSpline.html) provided by the SciPy package."
   ]
  },
  {
   "cell_type": "code",
   "execution_count": null,
   "metadata": {
    "collapsed": false
   },
   "outputs": [],
   "source": [
    "yint = interpolate.interp1d(x, y, kind='linear')\n",
    "yspline = interpolate.UnivariateSpline(x, y, s=0)\n",
    "\n",
    "plt.scatter(x, y)\n",
    "plt.plot(xa, yspline(xa), 'b-', label='spline')\n",
    "plt.plot(xa, yint(xa), 'r-', label='cubic')"
   ]
  },
  {
   "cell_type": "markdown",
   "metadata": {},
   "source": [
    "The red line corresponds to the unique third-order (cubic) polynomial that goes through the all data points exactly.  \n",
    "\n",
    "The blue line corresponds to a spline function that guarantees a continuous second derivative of the interpolating function.  The idea behind splines is to add a cubic polynomial to a linear function, such that $y'' = d^2y/dx^2$ varies linearly between each neighbor pair of data points $x_i$ and $x_{i+1}$, and the first derivative $y' = dy/dx$ is continuous across the data points.  It turns out that there is an (almost) unique solution that satisfies these requirements.  Almost unique because $y''$ needs to be specified at the two end points; these are usually set to zero, enforcing linear interpolation beyond the range of available data.  It makes sense - we should never use non-linear extrapolation.\n",
    "\n",
    "The parameter $s$ in the UnivariateSpline function above allows a smoother fit, which passes acceptably close to the data points, but not necessarily exactly through them.  The larger $s$, the larger an acceptable deviation:\n",
    "$\\sum_i (y_i-\\mathrm{spl}(x_i))^2 <= s$.\n",
    "We will come back to this metric when we discuss fitting a model to a dataset.\n",
    "\n",
    "The UnivariateSpline routine first calculates the fixed coefficients corresponding to the values of $y''_i$ and stores them as an array.  This completely specifies a simple (third-order in $x$) analytical function that describes our data throughout the whole interval of data.  We can then evaluate this function at as many locations as we need without having to repeat the polynomial fit, as in the interp1d routine.\n",
    "\n",
    "An additional advantage of using spline interpolation is that we can integrate or differentiate the interpolating function analytically, and similarly evaluate $\\int y(d) dx$ or $dy/dx$ at any location.  Without any extra calculation!  In fact, it is one of the most convenient ways to evaluate a derivative of a function known only at discrete points.  The UnivariateSpline routine provides the functions to do it.\n",
    "\n",
    "Lets look at another data set, which we will use later next week.  The data file is located in 'Canvas/Files/Data files'.  Download it and place in the same folder as this Notebook."
   ]
  },
  {
   "cell_type": "code",
   "execution_count": null,
   "metadata": {
    "collapsed": false
   },
   "outputs": [],
   "source": [
    "logk_data, logPk_data = np.loadtxt(\"pk2.dat\", unpack=True)\n",
    "\n",
    "plt.xlim(-2, 0)\n",
    "plt.ylim(2, 4.5)\n",
    "plt.xlabel('log k')\n",
    "plt.ylabel('log P(k)')\n",
    "plt.plot(logk_data, logPk_data, ',', label='data')\n",
    "plt.legend(frameon=False)\n",
    "plt.show()"
   ]
  },
  {
   "cell_type": "markdown",
   "metadata": {},
   "source": [
    "Interpolation is also very useful for inverting functional relations, or calculating the inverse function.\n",
    "\n",
    "Look at this example:"
   ]
  },
  {
   "cell_type": "code",
   "execution_count": null,
   "metadata": {
    "collapsed": false
   },
   "outputs": [],
   "source": [
    "xs = np.arange(-np.pi/2., np.pi/2., 0.1)\n",
    "ys = np.sin(xs)\n",
    "print 'use %d points for interpolation'%( len(xs) )\n",
    "\n",
    "xint = interpolate.interp1d(ys, xs, kind='cubic')\n",
    "\n",
    "for y in [ 0., 0.5, 0.99 ]:\n",
    "    x = xint(y)\n",
    "    print 'interp = %.6f  arcsin = %.6f'%( x*180./np.pi, np.arcsin(y)*180./np.pi )"
   ]
  },
  {
   "cell_type": "markdown",
   "metadata": {},
   "source": [
    "<b>Exercise 4:</b> Create a spline interpolating function for this data set.  Evaluate $P(k)$ and $dP/dk$ it at $k = -0.47$ and $k = 0.52$.  Note that the data are provided as logarithms base-10 for both $k$ and $P(k)$.  You need to transform them accordingly."
   ]
  },
  {
   "cell_type": "markdown",
   "metadata": {},
   "source": [
    "### Homework 0 (due Tuesday, Sep 13, 9am)"
   ]
  },
  {
   "cell_type": "markdown",
   "metadata": {},
   "source": [
    "Write a brief essay entitled <i>Computing in My Life</i>.  Your essay should<br>\n",
    "$\\bullet$ include at least one graphic (picture of your computer? recent photo of yourself?),<br>\n",
    "$\\bullet$ describe computers you use or own,<br>\n",
    "$\\bullet$ describe your experience with any operating systems and software,<br>\n",
    "$\\bullet$ describe your experience with any programming languages,<br>\n",
    "$\\bullet$ list your academic concentration and relevant coursework you have had in physics, astronomy, engineering, computer science,<br>\n",
    "$\\bullet$ tell me what you hope to learn in this class,<br>\n",
    "$\\bullet$ tell me your plans after graduating from Michigan.\n",
    "<hline>"
   ]
  },
  {
   "cell_type": "markdown",
   "metadata": {},
   "source": [
    "Please submit your homework as an IPython notebook like this.  It will serve as preparation for future homeworks in IPython notebooks."
   ]
  }
 ],
 "metadata": {
  "kernelspec": {
   "display_name": "Python 2",
   "language": "python",
   "name": "python2"
  },
  "language_info": {
   "codemirror_mode": {
    "name": "ipython",
    "version": 2
   },
   "file_extension": ".py",
   "mimetype": "text/x-python",
   "name": "python",
   "nbconvert_exporter": "python",
   "pygments_lexer": "ipython2",
   "version": "2.7.11"
  }
 },
 "nbformat": 4,
 "nbformat_minor": 0
}
