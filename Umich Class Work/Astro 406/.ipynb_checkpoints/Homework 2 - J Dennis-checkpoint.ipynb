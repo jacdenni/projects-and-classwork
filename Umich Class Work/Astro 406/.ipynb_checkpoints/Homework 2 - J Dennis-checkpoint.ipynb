{
 "cells": [
  {
   "cell_type": "code",
   "execution_count": 17,
   "metadata": {
    "collapsed": false
   },
   "outputs": [],
   "source": [
    "%matplotlib inline\n",
    "import matplotlib.pyplot as plt\n",
    "import numpy as np\n",
    "from scipy import special\n",
    "\n",
    "mu = 3.\n",
    "sig2 = 1.\n",
    "'''\n",
    "Richardson's formula:\n",
    "\n",
    "I = np.zeros((p, p))\n",
    "\n",
    "for k in range(0, p):\n",
    "    I[k, 0] = integration_routine(f, a, b, 2**k)\n",
    "    for j in range(0, k):\n",
    "        I[k, j + 1] = (4.**(j + 1) * I[k, j] - I[k - 1, j]) / (4.**(j + 1) - 1.)\n",
    "        \n",
    "'''\n",
    "\n",
    "def trapezoidal(f, a, b, n):\n",
    "    h = (b - a) / n\n",
    "    xRange = np.arange(a, b, h)\n",
    "    mySum = f(a) + f(b)\n",
    "    for x in xRange[1:]:\n",
    "        mySum += f(x) * 2. * h\n",
    "    return 0.5 * mySum\n",
    "\n",
    "def Gauss(x):\n",
    "    return np.exp(-(x - mu)**(2/sig2) / 2.) * 1./np.sqrt(2. * np.pi * sig2)\n",
    "\n",
    "def RichardsonIntegration(f, a, b, tol):\n",
    "    R = [np.array([trapezoidal(f, a, b, 2**0)])]\n",
    "    error = 1.\n",
    "    k = 1\n",
    "    while (error > tol) & (k < 10):\n",
    "        R.append([trapezoidal(f, a, b, 2**k)])\n",
    "        for j in range(0, k):\n",
    "            R[k].append((4.**(j + 1) * R[k][j] - R[k - 1][j]) / (4.**(j + 1) - 1.))\n",
    "        R[k] = np.asarray(R[k])\n",
    "        error = np.abs(R[-1][-1] - R[-2][-1])\n",
    "        k += 1\n",
    "            \n",
    "    return np.asarray(R)\n",
    "\n",
    "def RichardsonIntegration2(f, a, b, tol):\n",
    "    Rold = [trapezoidal(f, a, b, 2**0)]\n",
    "    error = 1.\n",
    "    k = 1\n",
    "    while (error > tol) & (k < 15):\n",
    "        print k,\n",
    "        Rnew = [trapezoidal(f, a, b, 2**k)] #This is the super timeconsuming step\n",
    "        for j in range(0, k):\n",
    "            Rnew.append((4.**(j + 1) * Rnew[j] - Rold[j]) / (4.**(j + 1) - 1.))\n",
    "        error = np.abs(Rold[-1] - Rnew[-1])\n",
    "        Rold = Rnew\n",
    "        k += 1\n",
    "        \n",
    "    return Rnew[-1]\n",
    "\n",
    "def RichardsonIntegration3(f, a, b, tol):\n",
    "    error = 1.\n",
    "    RRowOld = [trapezoidal(f, a, b, 2**0)]\n",
    "    flag = 0\n",
    "    counter = 0\n",
    "    n = 0\n",
    "    OptimumRs = [RRowOld[0]]\n",
    "    ErrorList = []\n",
    "    while (flag == 0):\n",
    "        n += 1\n",
    "        RRowNew = []\n",
    "        Rnew = trapezoidal(f, a, b, 2**n)\n",
    "        RRowNew.append(Rnew)\n",
    "        for m in range(1, n + 1):\n",
    "            Rnew = RRowNew[m - 1] + (RRowNew[m - 1] - RRowOld[m - 1]) / (\n",
    "            ((n + 1.) / n)**(2. * (m + 1.)) - 1.) \n",
    "            RRowNew.append(Rnew)\n",
    "        \n",
    "        error = np.abs(RRowNew[-1] - RRowOld[-1])\n",
    "        ErrorList.append(error)\n",
    "        RRowOld = RRowNew\n",
    "        OptimumRs.append(RRowNew[-1]) #Keeping track of all the best values for each h\n",
    "        counter += 1\n",
    "        \n",
    "        if error <= tol: #Stop of we're hitting machine accuracy with error\n",
    "            flag = 1\n",
    "        elif counter >= 10: #Preventing an infinite loop\n",
    "            flag = 1\n",
    "        else:\n",
    "            flag = 0\n",
    "    \n",
    "    return np.asarray(OptimumRs), np.asarray(ErrorList)\n",
    "            "
   ]
  },
  {
   "cell_type": "code",
   "execution_count": 18,
   "metadata": {
    "collapsed": false
   },
   "outputs": [
    {
     "ename": "NameError",
     "evalue": "global name 'hList' is not defined",
     "output_type": "error",
     "traceback": [
      "\u001b[0;31m---------------------------------------------------------------------------\u001b[0m",
      "\u001b[0;31mNameError\u001b[0m                                 Traceback (most recent call last)",
      "\u001b[0;32m<ipython-input-18-8dc8bebfb866>\u001b[0m in \u001b[0;36m<module>\u001b[0;34m()\u001b[0m\n\u001b[1;32m     34\u001b[0m \u001b[0;34m\u001b[0m\u001b[0m\n\u001b[1;32m     35\u001b[0m \u001b[0;32mif\u001b[0m \u001b[0m__name__\u001b[0m \u001b[0;34m==\u001b[0m \u001b[0;34m'__main__'\u001b[0m\u001b[0;34m:\u001b[0m\u001b[0;34m\u001b[0m\u001b[0m\n\u001b[0;32m---> 36\u001b[0;31m     \u001b[0mmain\u001b[0m\u001b[0;34m(\u001b[0m\u001b[0;34m)\u001b[0m\u001b[0;34m\u001b[0m\u001b[0m\n\u001b[0m",
      "\u001b[0;32m<ipython-input-18-8dc8bebfb866>\u001b[0m in \u001b[0;36mmain\u001b[0;34m()\u001b[0m\n\u001b[1;32m      7\u001b[0m     \u001b[0mxRange\u001b[0m \u001b[0;34m=\u001b[0m \u001b[0mnp\u001b[0m\u001b[0;34m.\u001b[0m\u001b[0marange\u001b[0m\u001b[0;34m(\u001b[0m\u001b[0;36m0\u001b[0m\u001b[0;34m,\u001b[0m \u001b[0;36m6.\u001b[0m\u001b[0;34m,\u001b[0m \u001b[0mstepsize\u001b[0m\u001b[0;34m)\u001b[0m\u001b[0;34m\u001b[0m\u001b[0m\n\u001b[1;32m      8\u001b[0m     \u001b[0;32mfor\u001b[0m \u001b[0mx\u001b[0m \u001b[0;32min\u001b[0m \u001b[0mxRange\u001b[0m\u001b[0;34m:\u001b[0m\u001b[0;34m\u001b[0m\u001b[0m\n\u001b[0;32m----> 9\u001b[0;31m         \u001b[0mNumericalResults\u001b[0m\u001b[0;34m.\u001b[0m\u001b[0mappend\u001b[0m\u001b[0;34m(\u001b[0m\u001b[0mRichardsonIntegration3\u001b[0m\u001b[0;34m(\u001b[0m\u001b[0mGauss\u001b[0m\u001b[0;34m,\u001b[0m \u001b[0mx\u001b[0m\u001b[0;34m,\u001b[0m \u001b[0mx\u001b[0m \u001b[0;34m+\u001b[0m \u001b[0mstepsize\u001b[0m\u001b[0;34m,\u001b[0m \u001b[0mtol\u001b[0m\u001b[0;34m)\u001b[0m\u001b[0;34m[\u001b[0m\u001b[0;34m-\u001b[0m\u001b[0;36m1\u001b[0m\u001b[0;34m]\u001b[0m\u001b[0;34m[\u001b[0m\u001b[0;34m-\u001b[0m\u001b[0;36m1\u001b[0m\u001b[0;34m]\u001b[0m\u001b[0;34m)\u001b[0m\u001b[0;34m\u001b[0m\u001b[0m\n\u001b[0m\u001b[1;32m     10\u001b[0m         \u001b[0;31m#print 'Done with interval', counter\u001b[0m\u001b[0;34m\u001b[0m\u001b[0;34m\u001b[0m\u001b[0m\n\u001b[1;32m     11\u001b[0m         \u001b[0mcounter\u001b[0m \u001b[0;34m+=\u001b[0m \u001b[0;36m1\u001b[0m\u001b[0;34m\u001b[0m\u001b[0m\n",
      "\u001b[0;32m<ipython-input-17-733e6bc22699>\u001b[0m in \u001b[0;36mRichardsonIntegration3\u001b[0;34m(f, a, b, tol)\u001b[0m\n\u001b[1;32m     89\u001b[0m             \u001b[0mflag\u001b[0m \u001b[0;34m=\u001b[0m \u001b[0;36m0\u001b[0m\u001b[0;34m\u001b[0m\u001b[0m\n\u001b[1;32m     90\u001b[0m \u001b[0;34m\u001b[0m\u001b[0m\n\u001b[0;32m---> 91\u001b[0;31m     \u001b[0;32mreturn\u001b[0m \u001b[0mnp\u001b[0m\u001b[0;34m.\u001b[0m\u001b[0masarray\u001b[0m\u001b[0;34m(\u001b[0m\u001b[0mOptimumRs\u001b[0m\u001b[0;34m)\u001b[0m\u001b[0;34m,\u001b[0m \u001b[0mnp\u001b[0m\u001b[0;34m.\u001b[0m\u001b[0masarray\u001b[0m\u001b[0;34m(\u001b[0m\u001b[0mhList\u001b[0m\u001b[0;34m)\u001b[0m\u001b[0;34m,\u001b[0m \u001b[0mnp\u001b[0m\u001b[0;34m.\u001b[0m\u001b[0masarray\u001b[0m\u001b[0;34m(\u001b[0m\u001b[0mErrorList\u001b[0m\u001b[0;34m)\u001b[0m\u001b[0;34m\u001b[0m\u001b[0m\n\u001b[0m\u001b[1;32m     92\u001b[0m \u001b[0;34m\u001b[0m\u001b[0m\n",
      "\u001b[0;31mNameError\u001b[0m: global name 'hList' is not defined"
     ]
    }
   ],
   "source": [
    "def main():\n",
    "    \n",
    "    NumericalResults = []\n",
    "    stepsize = 0.1\n",
    "    tol = 1e-10\n",
    "    counter = 0\n",
    "    xRange = np.arange(0, 6., stepsize)\n",
    "    for x in xRange:\n",
    "        NumericalResults.append(RichardsonIntegration3(Gauss, x, x + stepsize, tol)[0][-1])\n",
    "        #print 'Done with interval', counter\n",
    "        counter += 1\n",
    "        \n",
    "    xRange2 = np.linspace(0, 6., 1000)\n",
    "    exactResults = (1. + special.erf((xRange2 - mu)/np.sqrt(2.*sig2)))/2.\n",
    "    \n",
    "    Errors = NumericalResults - (1. + special.erf((xRange - mu)/np.sqrt(2.*sig2)))/2.\n",
    "    \n",
    "    plt.figure(0)\n",
    "    plt.xlabel('x')\n",
    "    plt.ylabel('y')\n",
    "    plt.title('Integration of a Gaussian')\n",
    "    plt.scatter(xRange, NumericalResults, label = 'Richardson')\n",
    "    plt.plot(xRange2, exactResults, label = 'Exact Results')\n",
    "    \n",
    "    plt.figure(1)\n",
    "    plt.xlabel('x')\n",
    "    plt.ylabel('Int(numerical) - Int(exact)')\n",
    "    plt.title('Errors of Integration of a Gaussian')\n",
    "    plt.scatter(xRange, Errors)\n",
    "    \n",
    "    \n",
    "def main2():\n",
    "    print trapezoidal(Gauss, 0, 6., 1000)\n",
    "    \n",
    "if __name__ == '__main__':\n",
    "    main()"
   ]
  },
  {
   "cell_type": "code",
   "execution_count": 2,
   "metadata": {
    "collapsed": false
   },
   "outputs": [
    {
     "name": "stdout",
     "output_type": "stream",
     "text": [
      "Done\n"
     ]
    }
   ],
   "source": []
  },
  {
   "cell_type": "code",
   "execution_count": null,
   "metadata": {
    "collapsed": true
   },
   "outputs": [],
   "source": []
  }
 ],
 "metadata": {
  "anaconda-cloud": {},
  "kernelspec": {
   "display_name": "Python 2",
   "language": "python",
   "name": "python2"
  },
  "language_info": {
   "codemirror_mode": {
    "name": "ipython",
    "version": 2
   },
   "file_extension": ".py",
   "mimetype": "text/x-python",
   "name": "python",
   "nbconvert_exporter": "python",
   "pygments_lexer": "ipython2",
   "version": "2.7.12"
  }
 },
 "nbformat": 4,
 "nbformat_minor": 0
}
