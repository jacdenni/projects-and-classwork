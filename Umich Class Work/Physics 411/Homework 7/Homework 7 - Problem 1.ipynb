{
 "cells": [
  {
   "cell_type": "code",
   "execution_count": 4,
   "metadata": {
    "collapsed": false
   },
   "outputs": [
    {
     "name": "stdout",
     "output_type": "stream",
     "text": [
      "Fraction of the randomly generated distribution that lies in the range abs(x) < 1: 0.499806\n",
      "Fraction of the actual distrbution that lies in the range abs(x) < 1: 0.500000159155\n"
     ]
    }
   ],
   "source": [
    "import random\n",
    "import numpy as np\n",
    "\n",
    "def LorentzianCDF(x):\n",
    "    return 1.0 / np.pi * np.arctan(x) + 0.5\n",
    "\n",
    "def inverseLorentzian(z):\n",
    "    return np.tan(np.pi * z - np.pi / 2.0)\n",
    "\n",
    "ZRange = []\n",
    "for i in range(1000000):\n",
    "    ZRange.append(random.random())\n",
    "ZRange = np.array(ZRange)\n",
    "\n",
    "RandLorentzDist = inverseLorentzian(ZRange)\n",
    "under1ran = 0\n",
    "for i in np.arange(1000000):\n",
    "    if abs(RandLorentzDist[i]) < 1.0:\n",
    "        under1ran += 1\n",
    "\n",
    "print 'Fraction of the randomly generated distribution that lies in the range abs(x) < 1:', under1ran/1000000.0\n",
    "print 'Fraction of the actual distribution that lies in the range abs(x) < 1:', (LorentzianCDF(1.0) \n",
    "                                                                                - LorentzianCDF(-1.0)) / LorentzianCDF(1000000.0)"
   ]
  },
  {
   "cell_type": "code",
   "execution_count": 16,
   "metadata": {
    "collapsed": false
   },
   "outputs": [
    {
     "name": "stdout",
     "output_type": "stream",
     "text": [
      "-1.57079632679\n",
      "-1.57079632679\n"
     ]
    }
   ],
   "source": [
    "print np.arctan(-float('Inf'))\n",
    "print -np.pi / 2"
   ]
  },
  {
   "cell_type": "code",
   "execution_count": null,
   "metadata": {
    "collapsed": false
   },
   "outputs": [],
   "source": []
  }
 ],
 "metadata": {
  "anaconda-cloud": {},
  "kernelspec": {
   "display_name": "Python 2",
   "language": "python",
   "name": "python2"
  },
  "language_info": {
   "codemirror_mode": {
    "name": "ipython",
    "version": 2
   },
   "file_extension": ".py",
   "mimetype": "text/x-python",
   "name": "python",
   "nbconvert_exporter": "python",
   "pygments_lexer": "ipython2",
   "version": "2.7.12"
  }
 },
 "nbformat": 4,
 "nbformat_minor": 0
}
