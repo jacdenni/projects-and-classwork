{
 "metadata": {
  "name": "",
  "signature": "sha256:db6444e23d7d8903cdfec308a8b56ead496cbbc88f8b698fc8149e3fb447aa38"
 },
 "nbformat": 3,
 "nbformat_minor": 0,
 "worksheets": [
  {
   "cells": [
    {
     "cell_type": "code",
     "collapsed": false,
     "input": [
      "import random\n",
      "import numpy as np\n",
      "\n",
      "def LorentzianCDF(x):\n",
      "    return 1.0 / np.pi * np.arctan(x) + 0.5\n",
      "\n",
      "def inverseLorentzian(z):\n",
      "    return np.tan(np.pi * z - np.pi / 2.0)\n",
      "\n",
      "ZRange = []\n",
      "for i in range(1000000):\n",
      "    ZRange.append(random.random())\n",
      "ZRange = np.array(ZRange)\n",
      "\n",
      "RandLorentzDist = inverseLorentzian(ZRange)\n",
      "under1ran = 0\n",
      "for i in np.arange(1000000):\n",
      "    if abs(RandLorentzDist[i]) < 1.0:\n",
      "        under1ran += 1\n",
      "\n",
      "print 'Fraction of the randomly generated distribution that lies in the range abs(x) < 1:', under1ran/1000000.0\n",
      "print 'Fraction of the actual distribution that lies in the range abs(x) < 1:', (LorentzianCDF(1.0) \n",
      "                                                                                - LorentzianCDF(-1.0)) / LorentzianCDF(1000000.0)"
     ],
     "language": "python",
     "metadata": {},
     "outputs": [
      {
       "output_type": "stream",
       "stream": "stdout",
       "text": [
        "Fraction of the randomly generated distribution that lies in the range abs(x) < 1: 0.499806\n",
        "Fraction of the actual distrbution that lies in the range abs(x) < 1: 0.500000159155\n"
       ]
      }
     ],
     "prompt_number": 4
    },
    {
     "cell_type": "code",
     "collapsed": false,
     "input": [
      "print np.arctan(-float('Inf'))\n",
      "print -np.pi / 2"
     ],
     "language": "python",
     "metadata": {},
     "outputs": [
      {
       "output_type": "stream",
       "stream": "stdout",
       "text": [
        "-1.57079632679\n",
        "-1.57079632679\n"
       ]
      }
     ],
     "prompt_number": 16
    },
    {
     "cell_type": "code",
     "collapsed": false,
     "input": [],
     "language": "python",
     "metadata": {},
     "outputs": []
    }
   ],
   "metadata": {}
  }
 ]
}