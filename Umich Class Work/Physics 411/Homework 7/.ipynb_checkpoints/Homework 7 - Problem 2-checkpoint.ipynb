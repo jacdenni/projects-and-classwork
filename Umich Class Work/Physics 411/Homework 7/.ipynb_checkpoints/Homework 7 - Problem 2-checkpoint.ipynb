{
 "metadata": {
  "name": "",
  "signature": "sha256:ca073f01d31fdc0ac4a488dbb6eef97104c377f4abac94866eb193d0a2065b36"
 },
 "nbformat": 3,
 "nbformat_minor": 0,
 "worksheets": [
  {
   "cells": [
    {
     "cell_type": "code",
     "collapsed": false,
     "input": [
      "import numpy as np\n",
      "import random\n",
      "import matplotlib.pyplot as plt\n",
      "\n",
      "\n",
      "N = 2.0**np.arange(4.0, 21.0)\n",
      "IntegralResults = []\n",
      "Errors = []\n",
      "for n in N:\n",
      "    samplePoints = []\n",
      "    for i in range(int(n)):\n",
      "        samplePoints.append(random.uniform(1.0, 2.0))\n",
      "    tempSum = 0.0\n",
      "    for x in samplePoints:\n",
      "        tempSum += np.log2(x) / n\n",
      "    IntegralResults.append(tempSum)\n",
      "    Errors.append(1.0/n)\n",
      "\n",
      "IntegralResults = np.asarray(IntegralResults)\n",
      "Errors = np.asarray(Errors) / 2\n",
      "\n",
      "print 'Integral Estimates       Errors'\n",
      "for i in range(len(IntegralResults)):\n",
      "    print '{:f}                  {:f}'.format(IntegralResults[i], 2.0 * Errors[i])\n",
      "plt.figure(1)\n",
      "plt.clf()\n",
      "plt.errorbar(np.arange(4.0, 21.0), IntegralResults, xerr = None, yerr = Errors)\n",
      "plt.xlabel('log_2(N)')\n",
      "plt.ylabel('Integral Estimates')\n",
      "plt.title('Monte Carlo Integration')\n",
      "plt.savefig('Homework 7 - Monte-Carlo.png')\n",
      "plt.close(1)"
     ],
     "language": "python",
     "metadata": {},
     "outputs": [
      {
       "output_type": "stream",
       "stream": "stdout",
       "text": [
        "Integral Estimates         Errors\n",
        "0.464328                  0.062500\n",
        "0.662811                  0.031250\n",
        "0.597246                  0.015625\n",
        "0.553640                  0.007812\n",
        "0.570491                  0.003906\n",
        "0.563624                  0.001953\n",
        "0.550997                  0.000977\n",
        "0.571274                  0.000488\n",
        "0.559023                  0.000244\n",
        "0.552831                  0.000122\n",
        "0.556412                  0.000061\n",
        "0.556585                  0.000031\n",
        "0.557678                  0.000015\n",
        "0.556607                  0.000008\n",
        "0.557452                  0.000004\n",
        "0.557679                  0.000002\n",
        "0.557243                  0.000001\n"
       ]
      }
     ],
     "prompt_number": 8
    },
    {
     "cell_type": "code",
     "collapsed": false,
     "input": [],
     "language": "python",
     "metadata": {},
     "outputs": []
    }
   ],
   "metadata": {}
  }
 ]
}