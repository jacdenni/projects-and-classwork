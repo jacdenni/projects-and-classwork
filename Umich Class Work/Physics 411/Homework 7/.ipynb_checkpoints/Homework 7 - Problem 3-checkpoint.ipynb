{
 "metadata": {
  "name": "",
  "signature": "sha256:88359fa6133e2864a6363e523a327cf0b907151592170576a51e13eb660b38c3"
 },
 "nbformat": 3,
 "nbformat_minor": 0,
 "worksheets": [
  {
   "cells": [
    {
     "cell_type": "code",
     "collapsed": false,
     "input": [
      "import numpy as np\n",
      "import matplotlib.pyplot as plt\n",
      "\n",
      "def V(c, x):\n",
      "    return c * (x**2 - x)\n",
      "\n",
      "def FVector(r, x, c, E):\n",
      "    psi = r[0]\n",
      "    psi_prime = r[1]\n",
      "    fpsi = psi_prime\n",
      "    fpsi_prime = (V(c, x) - E) * psi\n",
      "    return np.array([fpsi, fpsi_prime])\n",
      "\n",
      "def RungeKutta(r0, x0, xf, N, f, c, E):\n",
      "    h = (xf - x0) / N\n",
      "    R = np.zeros((N + 1, 2))\n",
      "    R[0] = r0\n",
      "    X = np.arange(x0, xf, h)\n",
      "    for i in range(len(X)):\n",
      "        k1 = h * f(R[i], X[i], c, E)\n",
      "        k2 = h * f(R[i] + 0.5 * k1, X[i] + 0.5 * h, c, E)\n",
      "        k3 = h * f(R[i] + 0.5 * k2, X[i] + 0.5 * h, c, E)\n",
      "        k4 = h * f(R[i] + k3, X[i] + h, c, E)\n",
      "        R[i + 1] = R[i] + (k1 + 2 * k2 + 2 * k3 + k4) / 6.0\n",
      "    return np.flipud(np.rot90(R))\n",
      "\n",
      "def RegulaFalsi(a, b, tol, f, c):\n",
      "    if np.sign(f(c, a)) == np.sign(f(c, b)):\n",
      "        print 'No root present.'\n",
      "        return None\n",
      "    xGuesses = []\n",
      "    IterationDifference = abs(a - b)\n",
      "    while (IterationDifference >= tol):\n",
      "        xNew = (f(c, b) * a - f(c, a) * b) / (f(c, b) - f(c, a))\n",
      "        xGuesses.append(xNew)\n",
      "        if (np.sign(f(c, a)) == np.sign(f(c, xNew))):\n",
      "            IterationDifference = abs(a - xNew)\n",
      "            a = xNew\n",
      "        elif (np.sign(f(c, b)) == np.sign(f(c, xNew))):\n",
      "            IterationDifference = abs(b - xNew)\n",
      "            b = xNew\n",
      "        elif xNew == 0.0:\n",
      "            return xGuesses\n",
      "    return xGuesses[-1]\n",
      "\n",
      "def FindAValue(a, A, tol):\n",
      "    for i in range(len(A)):\n",
      "        if abs(A[i] - a) < tol:\n",
      "            return i\n",
      "    return None\n",
      "\n",
      "def FunctionofB(c, b):\n",
      "    E = V(c, b)\n",
      "    xRange = np.linspace(0.0, 1.0, 1000)\n",
      "    r0_left = np.asarray([1.0, np.sqrt(-2.0 * E)])\n",
      "    r0_right = np.asarray([1.0, np.exp(-np.sqrt(-2.0 * E))])\n",
      "    PhiL = RungeKutta(r0_left, 0.0, 1.0, 1000, FVector, c, E)\n",
      "    PhiR = RungeKutta(r0_right, 0.0, 1.0, 1000 , FVector, c, E)\n",
      "    bIndex = FindAValue(b, xRange, .001)\n",
      "    return PhiL[1][bIndex] / PhiL[0][bIndex] - PhiR[1][bIndex] / PhiR[0][bIndex]"
     ],
     "language": "python",
     "metadata": {},
     "outputs": [],
     "prompt_number": 41
    },
    {
     "cell_type": "code",
     "collapsed": false,
     "input": [
      "#Finding the ground energy for c = 1\n",
      "groundEnergyPosition = RegulaFalsi(0.0, 0.5, .005, FunctionofB, 1.0)\n",
      "print 'Ground State energy:', V(1.0, groundEnergyPosition)\n",
      "excitedEnergyPosition = RegulaFalsi(groundEnergyPosition, 0.5, .005, FunctionofB, 1.0)\n",
      "if excitedEnergyPosition == None:\n",
      "    print 'No more bound states.'"
     ],
     "language": "python",
     "metadata": {},
     "outputs": [
      {
       "output_type": "stream",
       "stream": "stdout",
       "text": [
        "Ground State energy: -0.166918538329\n",
        "No root present."
       ]
      },
      {
       "output_type": "stream",
       "stream": "stdout",
       "text": [
        "\n",
        "No more bound states.\n"
       ]
      }
     ],
     "prompt_number": 42
    },
    {
     "cell_type": "code",
     "collapsed": false,
     "input": [
      "#Finding the energy for multiple cs\n",
      "cRange = range(1, 102, 5)\n",
      "\n",
      "plt.figure(0)\n",
      "plt.clf()\n",
      "\n",
      "xRange = np.linspace(0.0, 1.0, 1000)\n",
      "\n",
      "for c in cRange:\n",
      "    print 'c:', c\n",
      "    groundEnergyPosition = RegulaFalsi(0.0, 0.5, .01, FunctionofB, c)\n",
      "    groundE = V(c, groundEnergyPosition)\n",
      "    print 'Ground State energy:', groundE\n",
      "    if (c % 20.0) == 1.0:\n",
      "        plt.plot(xRange, RungeKutta(np.asarray([1.0, np.sqrt(-2.0 * groundE)]), 0.0, 1.0, 1000, FVector, c, groundE)[0][:-1],\n",
      "             label = 'c ={}'.format(c))\n",
      "    else:\n",
      "        plt.plot(xRange, RungeKutta(np.asarray([1.0, np.sqrt(-2.0 * groundE)]), 0.0, 1.0, 1000, FVector, c, groundE)[0][:-1])\n",
      "    lastEnergyPosition = groundEnergyPosition\n",
      "    n = 1\n",
      "    while lastEnergyPosition != None:\n",
      "        nextEnergyPosition = RegulaFalsi(lastEnergyPosition, 0.5, .01, FunctionofB, c)\n",
      "        lastEnergyPosition, nextEnergyPostion = nextEnergyPosition, lastEnergyPosition\n",
      "        if lastEnergyPosition != None:\n",
      "            print 'Excited Energy {}: {}'.format(n, V(c, lastEnergyPosition))\n",
      "        n += 1\n",
      "    print 'No more bound states for this energy level'\n",
      "plt.xlabel('x')\n",
      "plt.ylabel('psi')\n",
      "plt.title('Ground State Energies as a function of c')\n",
      "plt.savefig('Homework 7 - Ground State Energies as a Function of C.png')"
     ],
     "language": "python",
     "metadata": {},
     "outputs": [
      {
       "output_type": "stream",
       "stream": "stdout",
       "text": [
        "c: 1\n",
        "Ground State energy:"
       ]
      },
      {
       "output_type": "stream",
       "stream": "stdout",
       "text": [
        " -0.17574678053\n",
        "No root present."
       ]
      },
      {
       "output_type": "stream",
       "stream": "stdout",
       "text": [
        "\n",
        "No more bound states for this energy level\n",
        "c: 6\n",
        "Ground State energy:"
       ]
      },
      {
       "output_type": "stream",
       "stream": "stdout",
       "text": [
        " -0.209717853621\n",
        "No root present."
       ]
      },
      {
       "output_type": "stream",
       "stream": "stdout",
       "text": [
        "\n",
        "No more bound states for this energy level\n",
        "c: 11\n",
        "Ground State energy:"
       ]
      },
      {
       "output_type": "stream",
       "stream": "stdout",
       "text": [
        " -0.217640732892\n",
        "No root present."
       ]
      },
      {
       "output_type": "stream",
       "stream": "stdout",
       "text": [
        "\n",
        "No more bound states for this energy level\n",
        "c: 16\n",
        "Ground State energy:"
       ]
      },
      {
       "output_type": "stream",
       "stream": "stdout",
       "text": [
        " -0.288048612574\n",
        "No root present."
       ]
      },
      {
       "output_type": "stream",
       "stream": "stdout",
       "text": [
        "\n",
        "No more bound states for this energy level\n",
        "c: 21\n",
        "Ground State energy:"
       ]
      },
      {
       "output_type": "stream",
       "stream": "stdout",
       "text": [
        " -0.305530720412\n",
        "No root present."
       ]
      },
      {
       "output_type": "stream",
       "stream": "stdout",
       "text": [
        "\n",
        "No more bound states for this energy level\n",
        "c: 26\n",
        "Ground State energy:"
       ]
      },
      {
       "output_type": "stream",
       "stream": "stdout",
       "text": [
        " -0.322969973182\n",
        "No root present."
       ]
      },
      {
       "output_type": "stream",
       "stream": "stdout",
       "text": [
        "\n",
        "No more bound states for this energy level\n",
        "c: 31\n",
        "Ground State energy:"
       ]
      },
      {
       "output_type": "stream",
       "stream": "stdout",
       "text": [
        " -0.341122127243\n",
        "No root present."
       ]
      },
      {
       "output_type": "stream",
       "stream": "stdout",
       "text": [
        "\n",
        "No more bound states for this energy level\n",
        "c: 36\n",
        "Ground State energy:"
       ]
      },
      {
       "output_type": "stream",
       "stream": "stdout",
       "text": [
        " -0.359260995802\n",
        "No root present."
       ]
      },
      {
       "output_type": "stream",
       "stream": "stdout",
       "text": [
        "\n",
        "No more bound states for this energy level\n",
        "c: 41\n",
        "Ground State energy:"
       ]
      },
      {
       "output_type": "stream",
       "stream": "stdout",
       "text": [
        " -0.37909554268\n",
        "No root present."
       ]
      },
      {
       "output_type": "stream",
       "stream": "stdout",
       "text": [
        "\n",
        "No more bound states for this energy level\n",
        "c: 46\n",
        "Ground State energy:"
       ]
      },
      {
       "output_type": "stream",
       "stream": "stdout",
       "text": [
        " -0.399403154507\n",
        "No root present."
       ]
      },
      {
       "output_type": "stream",
       "stream": "stdout",
       "text": [
        "\n",
        "No more bound states for this energy level\n",
        "c: 51\n",
        "Ground State energy:"
       ]
      },
      {
       "output_type": "stream",
       "stream": "stdout",
       "text": [
        " -0.421105738604\n",
        "No root present."
       ]
      },
      {
       "output_type": "stream",
       "stream": "stdout",
       "text": [
        "\n",
        "No more bound states for this energy level\n",
        "c: 56\n",
        "Ground State energy:"
       ]
      },
      {
       "output_type": "stream",
       "stream": "stdout",
       "text": [
        " -0.444358677789\n",
        "No root present."
       ]
      },
      {
       "output_type": "stream",
       "stream": "stdout",
       "text": [
        "\n",
        "No more bound states for this energy level\n",
        "c: 61\n",
        "Ground State energy:"
       ]
      },
      {
       "output_type": "stream",
       "stream": "stdout",
       "text": [
        " -0.469745602835\n",
        "No root present."
       ]
      },
      {
       "output_type": "stream",
       "stream": "stdout",
       "text": [
        "\n",
        "No more bound states for this energy level\n",
        "c: 66\n",
        "Ground State energy:"
       ]
      },
      {
       "output_type": "stream",
       "stream": "stdout",
       "text": [
        " -0.496946436633\n",
        "No root present."
       ]
      },
      {
       "output_type": "stream",
       "stream": "stdout",
       "text": [
        "\n",
        "No more bound states for this energy level\n",
        "c: 71\n",
        "Ground State energy:"
       ]
      },
      {
       "output_type": "stream",
       "stream": "stdout",
       "text": [
        " -0.526583397072\n",
        "No root present."
       ]
      },
      {
       "output_type": "stream",
       "stream": "stdout",
       "text": [
        "\n",
        "No more bound states for this energy level\n",
        "c: 76\n",
        "Ground State energy:"
       ]
      },
      {
       "output_type": "stream",
       "stream": "stdout",
       "text": [
        " -0.329099815509\n",
        "No root present."
       ]
      },
      {
       "output_type": "stream",
       "stream": "stdout",
       "text": [
        "\n",
        "No more bound states for this energy level\n",
        "c: 81\n",
        "Ground State energy:"
       ]
      },
      {
       "output_type": "stream",
       "stream": "stdout",
       "text": [
        " -0.340976665545\n",
        "No root present."
       ]
      },
      {
       "output_type": "stream",
       "stream": "stdout",
       "text": [
        "\n",
        "No more bound states for this energy level\n",
        "c: 86\n",
        "Ground State energy:"
       ]
      },
      {
       "output_type": "stream",
       "stream": "stdout",
       "text": [
        " -0.353568790445\n",
        "No root present."
       ]
      },
      {
       "output_type": "stream",
       "stream": "stdout",
       "text": [
        "\n",
        "No more bound states for this energy level\n",
        "c: 91\n",
        "Ground State energy:"
       ]
      },
      {
       "output_type": "stream",
       "stream": "stdout",
       "text": [
        " -0.368042078077\n",
        "No root present."
       ]
      },
      {
       "output_type": "stream",
       "stream": "stdout",
       "text": [
        "\n",
        "No more bound states for this energy level\n",
        "c: 96\n",
        "Ground State energy:"
       ]
      },
      {
       "output_type": "stream",
       "stream": "stdout",
       "text": [
        " -0.382426305688\n",
        "No root present."
       ]
      },
      {
       "output_type": "stream",
       "stream": "stdout",
       "text": [
        "\n",
        "No more bound states for this energy level\n"
       ]
      }
     ],
     "prompt_number": 51
    },
    {
     "cell_type": "code",
     "collapsed": false,
     "input": [
      "print 1.0 % 20.0"
     ],
     "language": "python",
     "metadata": {},
     "outputs": [
      {
       "output_type": "stream",
       "stream": "stdout",
       "text": [
        "1.0\n"
       ]
      }
     ],
     "prompt_number": 53
    },
    {
     "cell_type": "code",
     "collapsed": false,
     "input": [],
     "language": "python",
     "metadata": {},
     "outputs": []
    }
   ],
   "metadata": {}
  }
 ]
}