{
 "metadata": {
  "name": "",
  "signature": "sha256:aa85a0f2f5190005300a2bb4d93c11a32146a9b3c71492a985fe407b328a1abb"
 },
 "nbformat": 3,
 "nbformat_minor": 0,
 "worksheets": [
  {
   "cells": [
    {
     "cell_type": "code",
     "collapsed": false,
     "input": [
      "import numpy as np\n",
      "import matplotlib.pyplot as plt\n",
      "\n",
      "def rho(x, y):\n",
      "    return np.sin(np.pi * x) * np.sin(2.0 * np.pi * y)\n",
      "\n",
      "def del2Phi(x, y):\n",
      "    return -4.0 * np.pi * rho(x, y)\n",
      "\n",
      "def Relaxation(InitialGuess, dx, dy, poisson, tol):\n",
      "    Ny, Nx = np.shape(InitialGuess)\n",
      "    Phi = np.empty((Ny, Nx))\n",
      "    PhiPrevious = InitialGuess\n",
      "    diff = 1.0\n",
      "    k = 0\n",
      "    while (diff > tol) & (k < 10000):\n",
      "        for i in range(1, Ny - 1):\n",
      "            for j in range(1, Nx - 1):\n",
      "                Phi[i][j] = 0.25 * (PhiPrevious[i][j + 1] + PhiPrevious[i][j - 1] + \n",
      "                                PhiPrevious[i + 1][j] + PhiPrevious[i - 1][j] - poisson(j * dx, i * dy))\n",
      "        diff = np.amax(np.abs(Phi - PhiPrevious))\n",
      "        Phi, PhiPrevious = PhiPrevious, Phi\n",
      "        k += 1\n",
      "    print 'It took', k, 'iterations to converge.'\n",
      "    return Phi\n",
      "\n",
      "def Interpolation(A, iterationNum):\n",
      "    newDx = 2**iterationNum + 1\n",
      "    newDy = 2**iterationNum + 1\n",
      "    interpolatedA = np.empty((newDx, newDy))\n",
      "    for i in range(newDy):\n",
      "        #print 'Row', i\n",
      "        for j in range(newDx):\n",
      "            #print 'Column', j\n",
      "            if (i % 2 == 0):\n",
      "                if (j % 2 == 0):\n",
      "                    interpolatedA[i][j] = A[i/2][j/2]\n",
      "                elif (j % 2 == 1):\n",
      "                    interpolatedA[i][j] = 0.5 * (A[i/2][(j - 1)/2] + A[i/2][(j + 1)/2])\n",
      "            elif (i % 2 == 1):\n",
      "                if (j % 2 == 0):\n",
      "                    interpolatedA[i][j] = 0.5 * (A[(i - 1)/2][j/2] + A[(i + 1)/2][j/2])\n",
      "                elif (j % 2 == 1):\n",
      "                    interpolatedA[i][j] = 0.25 * (A[(i - 1)/2][(j - 1)/2] + A[(i - 1)/2][(j + 1)/2] + \n",
      "                                                  A[(i + 1)/2][(j - 1)/2] + A[(i + 1)/2][(j + 1)/2])\n",
      "    return interpolatedA\n",
      "\n",
      "\n",
      "\n",
      "zerosGuess = np.zeros((3, 3))\n",
      "zerosGuess[0] = np.asarray([0.0, 0.5, 1.0])\n",
      "zerosGuess[1][2] = 1.0\n",
      "zerosGuess[2] = np.asarray([0.0, 0.5, 1.0])\n",
      "\n",
      "dx, dy = (0.5, 0.5)\n",
      "iterationCounter = 1\n",
      "phiGuess = Relaxation(zerosGuess, 0.5, 0.5, del2Phi, 1.0e-5)\n",
      "dx, dy = (0.25, 0.25)\n",
      "iterationCounter += 1\n",
      "\n",
      "while (dx > 1/1024.0):\n",
      "    newPhiGuess = Interpolation(phiGuess, iterationCounter)\n",
      "    phiGuess = Relaxation(newPhiGuess, dx, dy, del2Phi, 1.0e-5)\n",
      "    dx /= 2.0\n",
      "    dy /= 2.0\n",
      "    print dx\n",
      "    iterationCounter += 1\n",
      "    \n",
      "print phiGuess"
     ],
     "language": "python",
     "metadata": {},
     "outputs": [
      {
       "output_type": "stream",
       "stream": "stdout",
       "text": [
        "It took 2 iterations to converge.\n",
        "It took 14 iterations to converge.\n",
        "0.125\n",
        "It took 62 iterations to converge.\n",
        "0.0625\n",
        "It took"
       ]
      },
      {
       "output_type": "stream",
       "stream": "stdout",
       "text": [
        " 10000 iterations to converge.\n",
        "0.03125\n"
       ]
      },
      {
       "ename": "KeyboardInterrupt",
       "evalue": "",
       "output_type": "pyerr",
       "traceback": [
        "\u001b[0;31m---------------------------------------------------------------------------\u001b[0m\n\u001b[0;31mKeyboardInterrupt\u001b[0m                         Traceback (most recent call last)",
        "\u001b[0;32m<ipython-input-14-839ca90d939a>\u001b[0m in \u001b[0;36m<module>\u001b[0;34m()\u001b[0m\n\u001b[1;32m     61\u001b[0m \u001b[0;32mwhile\u001b[0m \u001b[0;34m(\u001b[0m\u001b[0mdx\u001b[0m \u001b[0;34m>\u001b[0m \u001b[0;36m1\u001b[0m\u001b[0;34m/\u001b[0m\u001b[0;36m1024.0\u001b[0m\u001b[0;34m)\u001b[0m\u001b[0;34m:\u001b[0m\u001b[0;34m\u001b[0m\u001b[0m\n\u001b[1;32m     62\u001b[0m     \u001b[0mnewPhiGuess\u001b[0m \u001b[0;34m=\u001b[0m \u001b[0mInterpolation\u001b[0m\u001b[0;34m(\u001b[0m\u001b[0mphiGuess\u001b[0m\u001b[0;34m,\u001b[0m \u001b[0miterationCounter\u001b[0m\u001b[0;34m)\u001b[0m\u001b[0;34m\u001b[0m\u001b[0m\n\u001b[0;32m---> 63\u001b[0;31m     \u001b[0mphiGuess\u001b[0m \u001b[0;34m=\u001b[0m \u001b[0mRelaxation\u001b[0m\u001b[0;34m(\u001b[0m\u001b[0mnewPhiGuess\u001b[0m\u001b[0;34m,\u001b[0m \u001b[0mdx\u001b[0m\u001b[0;34m,\u001b[0m \u001b[0mdy\u001b[0m\u001b[0;34m,\u001b[0m \u001b[0mdel2Phi\u001b[0m\u001b[0;34m,\u001b[0m \u001b[0;36m1.0e-5\u001b[0m\u001b[0;34m)\u001b[0m\u001b[0;34m\u001b[0m\u001b[0m\n\u001b[0m\u001b[1;32m     64\u001b[0m     \u001b[0mdx\u001b[0m \u001b[0;34m/=\u001b[0m \u001b[0;36m2.0\u001b[0m\u001b[0;34m\u001b[0m\u001b[0m\n\u001b[1;32m     65\u001b[0m     \u001b[0mdy\u001b[0m \u001b[0;34m/=\u001b[0m \u001b[0;36m2.0\u001b[0m\u001b[0;34m\u001b[0m\u001b[0m\n",
        "\u001b[0;32m<ipython-input-14-839ca90d939a>\u001b[0m in \u001b[0;36mRelaxation\u001b[0;34m(InitialGuess, dx, dy, poisson, tol)\u001b[0m\n\u001b[1;32m     18\u001b[0m             \u001b[0;32mfor\u001b[0m \u001b[0mj\u001b[0m \u001b[0;32min\u001b[0m \u001b[0mrange\u001b[0m\u001b[0;34m(\u001b[0m\u001b[0;36m1\u001b[0m\u001b[0;34m,\u001b[0m \u001b[0mNx\u001b[0m \u001b[0;34m-\u001b[0m \u001b[0;36m1\u001b[0m\u001b[0;34m)\u001b[0m\u001b[0;34m:\u001b[0m\u001b[0;34m\u001b[0m\u001b[0m\n\u001b[1;32m     19\u001b[0m                 Phi[i][j] = 0.25 * (PhiPrevious[i][j + 1] + PhiPrevious[i][j - 1] + \n\u001b[0;32m---> 20\u001b[0;31m                                 PhiPrevious[i + 1][j] + PhiPrevious[i - 1][j] - poisson(j * dx, i * dy))\n\u001b[0m\u001b[1;32m     21\u001b[0m         \u001b[0mdiff\u001b[0m \u001b[0;34m=\u001b[0m \u001b[0mnp\u001b[0m\u001b[0;34m.\u001b[0m\u001b[0mamax\u001b[0m\u001b[0;34m(\u001b[0m\u001b[0mnp\u001b[0m\u001b[0;34m.\u001b[0m\u001b[0mabs\u001b[0m\u001b[0;34m(\u001b[0m\u001b[0mPhi\u001b[0m \u001b[0;34m-\u001b[0m \u001b[0mPhiPrevious\u001b[0m\u001b[0;34m)\u001b[0m\u001b[0;34m)\u001b[0m\u001b[0;34m\u001b[0m\u001b[0m\n\u001b[1;32m     22\u001b[0m         \u001b[0mPhi\u001b[0m\u001b[0;34m,\u001b[0m \u001b[0mPhiPrevious\u001b[0m \u001b[0;34m=\u001b[0m \u001b[0mPhiPrevious\u001b[0m\u001b[0;34m,\u001b[0m \u001b[0mPhi\u001b[0m\u001b[0;34m\u001b[0m\u001b[0m\n",
        "\u001b[0;32m<ipython-input-14-839ca90d939a>\u001b[0m in \u001b[0;36mdel2Phi\u001b[0;34m(x, y)\u001b[0m\n\u001b[1;32m      6\u001b[0m \u001b[0;34m\u001b[0m\u001b[0m\n\u001b[1;32m      7\u001b[0m \u001b[0;32mdef\u001b[0m \u001b[0mdel2Phi\u001b[0m\u001b[0;34m(\u001b[0m\u001b[0mx\u001b[0m\u001b[0;34m,\u001b[0m \u001b[0my\u001b[0m\u001b[0;34m)\u001b[0m\u001b[0;34m:\u001b[0m\u001b[0;34m\u001b[0m\u001b[0m\n\u001b[0;32m----> 8\u001b[0;31m     \u001b[0;32mreturn\u001b[0m \u001b[0;34m-\u001b[0m\u001b[0;36m4.0\u001b[0m \u001b[0;34m*\u001b[0m \u001b[0mnp\u001b[0m\u001b[0;34m.\u001b[0m\u001b[0mpi\u001b[0m \u001b[0;34m*\u001b[0m \u001b[0mrho\u001b[0m\u001b[0;34m(\u001b[0m\u001b[0mx\u001b[0m\u001b[0;34m,\u001b[0m \u001b[0my\u001b[0m\u001b[0;34m)\u001b[0m\u001b[0;34m\u001b[0m\u001b[0m\n\u001b[0m\u001b[1;32m      9\u001b[0m \u001b[0;34m\u001b[0m\u001b[0m\n\u001b[1;32m     10\u001b[0m \u001b[0;32mdef\u001b[0m \u001b[0mRelaxation\u001b[0m\u001b[0;34m(\u001b[0m\u001b[0mInitialGuess\u001b[0m\u001b[0;34m,\u001b[0m \u001b[0mdx\u001b[0m\u001b[0;34m,\u001b[0m \u001b[0mdy\u001b[0m\u001b[0;34m,\u001b[0m \u001b[0mpoisson\u001b[0m\u001b[0;34m,\u001b[0m \u001b[0mtol\u001b[0m\u001b[0;34m)\u001b[0m\u001b[0;34m:\u001b[0m\u001b[0;34m\u001b[0m\u001b[0m\n",
        "\u001b[0;32m<ipython-input-14-839ca90d939a>\u001b[0m in \u001b[0;36mrho\u001b[0;34m(x, y)\u001b[0m\n\u001b[1;32m      3\u001b[0m \u001b[0;34m\u001b[0m\u001b[0m\n\u001b[1;32m      4\u001b[0m \u001b[0;32mdef\u001b[0m \u001b[0mrho\u001b[0m\u001b[0;34m(\u001b[0m\u001b[0mx\u001b[0m\u001b[0;34m,\u001b[0m \u001b[0my\u001b[0m\u001b[0;34m)\u001b[0m\u001b[0;34m:\u001b[0m\u001b[0;34m\u001b[0m\u001b[0m\n\u001b[0;32m----> 5\u001b[0;31m     \u001b[0;32mreturn\u001b[0m \u001b[0mnp\u001b[0m\u001b[0;34m.\u001b[0m\u001b[0msin\u001b[0m\u001b[0;34m(\u001b[0m\u001b[0mnp\u001b[0m\u001b[0;34m.\u001b[0m\u001b[0mpi\u001b[0m \u001b[0;34m*\u001b[0m \u001b[0mx\u001b[0m\u001b[0;34m)\u001b[0m \u001b[0;34m*\u001b[0m \u001b[0mnp\u001b[0m\u001b[0;34m.\u001b[0m\u001b[0msin\u001b[0m\u001b[0;34m(\u001b[0m\u001b[0;36m2.0\u001b[0m \u001b[0;34m*\u001b[0m \u001b[0mnp\u001b[0m\u001b[0;34m.\u001b[0m\u001b[0mpi\u001b[0m \u001b[0;34m*\u001b[0m \u001b[0my\u001b[0m\u001b[0;34m)\u001b[0m\u001b[0;34m\u001b[0m\u001b[0m\n\u001b[0m\u001b[1;32m      6\u001b[0m \u001b[0;34m\u001b[0m\u001b[0m\n\u001b[1;32m      7\u001b[0m \u001b[0;32mdef\u001b[0m \u001b[0mdel2Phi\u001b[0m\u001b[0;34m(\u001b[0m\u001b[0mx\u001b[0m\u001b[0;34m,\u001b[0m \u001b[0my\u001b[0m\u001b[0;34m)\u001b[0m\u001b[0;34m:\u001b[0m\u001b[0;34m\u001b[0m\u001b[0m\n",
        "\u001b[0;31mKeyboardInterrupt\u001b[0m: "
       ]
      }
     ],
     "prompt_number": 14
    },
    {
     "cell_type": "code",
     "collapsed": false,
     "input": [],
     "language": "python",
     "metadata": {},
     "outputs": []
    }
   ],
   "metadata": {}
  }
 ]
}