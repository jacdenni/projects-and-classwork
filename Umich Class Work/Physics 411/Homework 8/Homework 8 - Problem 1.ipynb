{
 "metadata": {
  "name": "",
  "signature": "sha256:b37d4e0295ac3bd7e03f2f0226366ea9cfb6f0846f820a119a73e6b791d20045"
 },
 "nbformat": 3,
 "nbformat_minor": 0,
 "worksheets": [
  {
   "cells": [
    {
     "cell_type": "code",
     "collapsed": false,
     "input": [
      "import numpy as np\n",
      "import numpy.random as rand\n",
      "import matplotlib.pyplot as plt\n",
      "\n",
      "def R(p):\n",
      "    factors = np.array([1.0, 9.0, 36.0, 67.0, 59.0, 22.0, 3.0, 0.0, 0.0, 0.0])\n",
      "    R = 0.0\n",
      "    for i in range(9):\n",
      "        R += factors[i] * p**(9.0 - i) * (1. - p)**i\n",
      "    return R\n",
      "\n",
      "def RminusP(p):\n",
      "    return R(p) - p\n",
      "\n",
      "def Rprime(p):\n",
      "    return (1.0 - p)**2 * p**2 * (9. * p**4 - 30. * p**3 + 24. * p**2 + 34. * p + 9)\n",
      "\n",
      "def BisectionMethod(a, b, f, tol):\n",
      "    iterationnum = 0\n",
      "    while (abs(a - b) > tol) & (iterationnum < 10000):\n",
      "        xGuess = (b - a) / 2 + a\n",
      "        if f(xGuess) == 0.:\n",
      "            return xGuess\n",
      "        elif np.sign(f(xGuess)) == np.sign(f(a)):\n",
      "            a = xGuess\n",
      "        elif np.sign(f(xGuess)) == np.sign(f(b)):\n",
      "            b = xGuess\n",
      "        iterationnum += 1\n",
      "    return xGuess\n",
      "\n",
      "def main():\n",
      "    pRange = np.linspace(0.0, 1.0, 100)\n",
      "    fixed1 = BisectionMethod(-0.1, 0.1, RminusP, .001)\n",
      "    fixed2 = BisectionMethod(0.9, 1.1, RminusP, .001)\n",
      "    pc = BisectionMethod(0.1, 0.9, RminusP, .001)\n",
      "    print 'Fixed Point 1: p =', fixed1\n",
      "    print 'Fixed Point 2: p =', fixed2\n",
      "    print 'Critical probability: p =', pc\n",
      "    print 'nu = ', np.log(3.0) / np.log(Rprime(pc))\n",
      "    \n",
      "\n",
      "if __name__ == '__main__':\n",
      "    main()"
     ],
     "language": "python",
     "metadata": {},
     "outputs": [
      {
       "output_type": "stream",
       "stream": "stdout",
       "text": [
        "Fixed Point 1: p = 0.0\n",
        "Fixed Point 2: p = 1.0\n",
        "Critical probability: p = 0.61953125\n",
        "nu =  1.77109520864\n"
       ]
      }
     ],
     "prompt_number": 64
    },
    {
     "cell_type": "code",
     "collapsed": false,
     "input": [
      "import numpy as np\n",
      "import numpy.random as rand\n",
      "import matplotlib.pyplot as plt\n",
      "\n",
      "def R(p):\n",
      "    factors = np.array([1.0, 4.0, 2.0, 0.0])\n",
      "    R = 0.0\n",
      "    for i in range(4):\n",
      "        R += factors[i] * p**(4.0 - i) * (1. - p)**i\n",
      "    return R\n",
      "\n",
      "def RminusP(p):\n",
      "    return R(p) - p\n",
      "\n",
      "def BisectionMethod(a, b, f, tol):\n",
      "    iterationnum = 0\n",
      "    while (abs(a - b) > tol) & (iterationnum < 10000):\n",
      "        xGuess = (b - a) / 2 + a\n",
      "        if f(xGuess) == 0.:\n",
      "            return xGuess\n",
      "        elif np.sign(f(xGuess)) == np.sign(f(a)):\n",
      "            a = xGuess\n",
      "        elif np.sign(f(xGuess)) == np.sign(f(b)):\n",
      "            b = xGuess\n",
      "        iterationnum += 1\n",
      "    return xGuess\n",
      "\n",
      "def main():\n",
      "    pRange = np.linspace(0.0, 1.0, 100)\n",
      "    print 'Critical probability:', BisectionMethod(0.1, 0.9, RminusP, .001)\n",
      "    plt.clf()\n",
      "    plt.plot(pRange, RminusP(pRange))\n",
      "    plt.savefig('Testing for Problem 1.png')\n",
      "    \n",
      "    \n",
      "\n",
      "if __name__ == '__main__':\n",
      "    main()"
     ],
     "language": "python",
     "metadata": {},
     "outputs": [
      {
       "output_type": "stream",
       "stream": "stdout",
       "text": [
        "Critical probability: 0.38203125\n"
       ]
      }
     ],
     "prompt_number": 1
    },
    {
     "cell_type": "code",
     "collapsed": false,
     "input": [
      "import numpy as np\n",
      "import itertools\n",
      "\n",
      "def CalculateNumberofFilledSpots(seq):\n",
      "    num = 0\n",
      "    for i in seq:\n",
      "        if i == 1:\n",
      "            num += 1\n",
      "    return num\n",
      "\n",
      "def GetCoefficients(numFilled):\n",
      "    SetOfGrids = []\n",
      "    for seq in itertools.product(range(2), repeat = 9):\n",
      "        SetOfGrids.append(np.array(seq))\n",
      "\n",
      "    numPercolated = 0\n",
      "\n",
      "    for seq in SetOfGrids:\n",
      "        if CalculateNumberofFilledSpots(seq) == numFilled:\n",
      "            if np.all(seq[::3]):\n",
      "                numPercolated += 1\n",
      "            elif np.all(seq[1::3]):\n",
      "                numPercolated += 1\n",
      "            elif np.all(seq[2::3]):\n",
      "                numPercolated += 1\n",
      "            elif np.all(seq[2:7]):\n",
      "                numPercolated += 1\n",
      "            elif np.all(np.concatenate((np.array([seq[0]]), seq[3:6], np.array([seq[8]])))): #3 - length Tetris shape 1:\n",
      "                                                                                             # x00\n",
      "                                                                                             # xxx\n",
      "                                                                                             # 00x\n",
      "                numPercolated += 1\n",
      "            elif np.all(np.concatenate((np.array([seq[2]]), seq[3:6], np.array([seq[6]])))): #3 - length Tetris shape 1:\n",
      "                                                                                             # 00x\n",
      "                                                                                             # xxx\n",
      "                                                                                             # x00\n",
      "                numPercolated += 1\n",
      "            elif np.all(np.concatenate((np.array([seq[1]]), seq[3:5], np.array([seq[6]])))): #2 - length Tetris shape 1:\n",
      "                                                                                             # 0x0\n",
      "                                                                                             # xx0\n",
      "                                                                                             # x00\n",
      "                numPercolated += 1\n",
      "            elif np.all(np.concatenate((np.array([seq[0]]), seq[3:5], np.array([seq[7]])))): #2 - length Tetris shape 1:\n",
      "                                                                                             # x00\n",
      "                                                                                             # xx0\n",
      "                                                                                             # 0x0\n",
      "                numPercolated += 1\n",
      "            elif np.all(np.concatenate((np.array([seq[2]]), seq[4:6], np.array([seq[7]])))): #2 - length Tetris shape 1:\n",
      "                                                                                             # 00x\n",
      "                                                                                             # 0xx\n",
      "                                                                                             # 0x0\n",
      "                numPercolated += 1\n",
      "            elif np.all(np.concatenate((np.array([seq[1]]), seq[4:6], np.array([seq[8]])))): #2 - length Tetris shape 1:\n",
      "                                                                                             # 0x0\n",
      "                                                                                             # 0xx\n",
      "                                                                                             # 00x\n",
      "                numPercolated += 1\n",
      "    print 'Number of Percolated Clusters:', numPercolated\n",
      "    return None\n",
      "\n",
      "def main():\n",
      "    GetCoefficients(9)\n",
      "    GetCoefficients(8)\n",
      "    GetCoefficients(7)\n",
      "    GetCoefficients(6)\n",
      "    GetCoefficients(5)\n",
      "    GetCoefficients(4)\n",
      "    GetCoefficients(3)\n",
      "\n",
      "if __name__ == '__main__':\n",
      "    main()"
     ],
     "language": "python",
     "metadata": {},
     "outputs": [
      {
       "output_type": "stream",
       "stream": "stdout",
       "text": [
        "Number of Percolated Clusters: 1\n",
        "Number of Percolated Clusters: 9\n",
        "Number of Percolated Clusters: 36\n",
        "Number of Percolated Clusters: 67\n",
        "Number of Percolated Clusters: 59\n",
        "Number of Percolated Clusters: 22\n",
        "Number of Percolated Clusters:"
       ]
      },
      {
       "output_type": "stream",
       "stream": "stdout",
       "text": [
        " 3\n"
       ]
      }
     ],
     "prompt_number": 63
    },
    {
     "cell_type": "code",
     "collapsed": false,
     "input": [
      "myArray = np.array([0, 1, 1, 0, 1, 0, 1, 0, 0])\n",
      "print (myArray[::3] == np.array([1, 1, 1])) == np.array([False, False, True])\n",
      "print myArray[1::3]\n",
      "print myArray[2::3]"
     ],
     "language": "python",
     "metadata": {},
     "outputs": [
      {
       "output_type": "stream",
       "stream": "stdout",
       "text": [
        "[ True  True  True]\n",
        "[1 1 0]\n",
        "[1 0 0]\n"
       ]
      }
     ],
     "prompt_number": 23
    },
    {
     "cell_type": "code",
     "collapsed": false,
     "input": [
      "SetOfGrids = []\n",
      "for seq in itertools.product(range(2), repeat = 4):\n",
      "    SetOfGrids.append(seq)\n",
      "print np.array(SetOfGrids)"
     ],
     "language": "python",
     "metadata": {},
     "outputs": [
      {
       "output_type": "stream",
       "stream": "stdout",
       "text": [
        "[[0 0 0 0]\n",
        " [0 0 0 1]\n",
        " [0 0 1 0]\n",
        " [0 0 1 1]\n",
        " [0 1 0 0]\n",
        " [0 1 0 1]\n",
        " [0 1 1 0]\n",
        " [0 1 1 1]\n",
        " [1 0 0 0]\n",
        " [1 0 0 1]\n",
        " [1 0 1 0]\n",
        " [1 0 1 1]\n",
        " [1 1 0 0]\n",
        " [1 1 0 1]\n",
        " [1 1 1 0]\n",
        " [1 1 1 1]]\n"
       ]
      }
     ],
     "prompt_number": 19
    },
    {
     "cell_type": "code",
     "collapsed": false,
     "input": [],
     "language": "python",
     "metadata": {},
     "outputs": []
    }
   ],
   "metadata": {}
  }
 ]
}