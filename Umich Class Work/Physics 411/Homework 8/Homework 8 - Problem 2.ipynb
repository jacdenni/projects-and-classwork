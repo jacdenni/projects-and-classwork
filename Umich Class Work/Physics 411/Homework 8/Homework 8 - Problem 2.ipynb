{
 "metadata": {
  "name": "",
  "signature": "sha256:0772e447b039b44b59903d06d585fa8f3644c9f990024d8a22f2d1aa6a6a03e4"
 },
 "nbformat": 3,
 "nbformat_minor": 0,
 "worksheets": [
  {
   "cells": [
    {
     "cell_type": "code",
     "collapsed": false,
     "input": [
      "import sympy as sym\n",
      "\n",
      "x1, x2, x3, x4, x5, x6, x7, x8, x9, x10 = sym.symbols('x1 x2 x3 x4 x5 x6 x7 x8 x9 x10')\n",
      "integrand = (x1 + x2 + x3 + x4 + x5 + x6 + x7 + x8 + x9 + x10)**2\n",
      "print sym.integrate(integrand, (x1, 0, 1), (x2, 0, 1), (x3, 0, 1), (x4, 0, 1), (x5, 0, 1), \n",
      "                    (x6, 0, 1), (x7, 0, 1), (x8, 0, 1), (x9, 0, 1), (x10, 0, 1))"
     ],
     "language": "python",
     "metadata": {},
     "outputs": [
      {
       "output_type": "stream",
       "stream": "stdout",
       "text": [
        "x1**2 + 2*x1*x10 + 2*x1*x2 + 2*x1*x3 + 2*x1*x4 + 2*x1*x5 + 2*x1*x6 + 2*x1*x7 + 2*x1*x8 + 2*x1*x9 + x10**2 + 2*x10*x2 + 2*x10*x3 + 2*x10*x4 + 2*x10*x5 + 2*x10*x6 + 2*x10*x7 + 2*x10*x8 + 2*x10*x9 + x2**2 + 2*x2*x3 + 2*x2*x4 + 2*x2*x5 + 2*x2*x6 + 2*x2*x7 + 2*x2*x8 + 2*x2*x9 + x3**2 + 2*x3*x4 + 2*x3*x5 + 2*x3*x6 + 2*x3*x7 + 2*x3*x8 + 2*x3*x9 + x4**2 + 2*x4*x5 + 2*x4*x6 + 2*x4*x7 + 2*x4*x8 + 2*x4*x9 + x5**2 + 2*x5*x6 + 2*x5*x7 + 2*x5*x8 + 2*x5*x9 + x6**2 + 2*x6*x7 + 2*x6*x8 + 2*x6*x9 + x7**2 + 2*x7*x8 + 2*x7*x9 + x8**2 + 2*x8*x9 + x9**2\n",
        "155/6"
       ]
      },
      {
       "output_type": "stream",
       "stream": "stdout",
       "text": [
        "\n"
       ]
      }
     ],
     "prompt_number": 5
    },
    {
     "cell_type": "code",
     "collapsed": false,
     "input": [
      "import numpy as np\n",
      "import numpy.random as rand\n",
      "import sympy as sym\n",
      "\n",
      "def GenerateRandomPoints(numPoints, sizePoints):\n",
      "    Points = rand.random((numPoints, sizePoints))\n",
      "    return Points\n",
      "\n",
      "def f(size10array):\n",
      "    return (np.sum(size10array) ** 2)\n",
      "\n",
      "def MonteCarloError(f, N):\n",
      "    return np.var(f) / np.sqrt(N)\n",
      "\n",
      "def main():\n",
      "    x1, x2, x3, x4, x5, x6, x7, x8, x9, x10 = sym.symbols('x1 x2 x3 x4 x5 x6 x7 x8 x9 x10')\n",
      "    integrand = (x1 + x2 + x3 + x4 + x5 + x6 + x7 + x8 + x9 + x10)**2\n",
      "    print 'int((x1 + x2 + ... + x10)**2), d(x1, x2, ..., x10), 0, 1) is exactly', sym.integrate(\n",
      "                    integrand, (x1, 0, 1), (x2, 0, 1), (x3, 0, 1), (x4, 0, 1), (x5, 0, 1), \n",
      "                    (x6, 0, 1), (x7, 0, 1), (x8, 0, 1), (x9, 0, 1), (x10, 0, 1))\n",
      "    randomPoints = GenerateRandomPoints(1000, 10)\n",
      "    I = 0.0\n",
      "    fAtPoints = []\n",
      "    for point in randomPoints:\n",
      "        I += 1.0 / 1000 * f(point)\n",
      "        fAtPoints.append(1.0 / 1000 * f(point))\n",
      "    print 'Monte Carlo Integration Results:', I, '+/-', MonteCarloError(fAtPoints, 1000)\n",
      "    print 'Expected Results:', 155.0/6.0\n",
      "    \n",
      "    \n",
      "if __name__ == '__main__':\n",
      "    main()\n"
     ],
     "language": "python",
     "metadata": {},
     "outputs": [
      {
       "output_type": "stream",
       "stream": "stdout",
       "text": [
        "int((x1 + x2 + ... + x10)**2), d(x1, x2, ..., x10), 0, 1) is exactly "
       ]
      },
      {
       "output_type": "stream",
       "stream": "stdout",
       "text": [
        "155/6\n",
        "Monte Carlo Integration Results: 26.300402099 +/- 2.65065005672e-06\n",
        "Expected Results: 25.8333333333\n"
       ]
      }
     ],
     "prompt_number": 8
    },
    {
     "cell_type": "code",
     "collapsed": false,
     "input": [],
     "language": "python",
     "metadata": {},
     "outputs": [
      {
       "output_type": "stream",
       "stream": "stdout",
       "text": [
        "36.0\n",
        "84.0\n",
        "126.0\n"
       ]
      }
     ],
     "prompt_number": 9
    },
    {
     "cell_type": "code",
     "collapsed": false,
     "input": [],
     "language": "python",
     "metadata": {},
     "outputs": []
    }
   ],
   "metadata": {}
  }
 ]
}