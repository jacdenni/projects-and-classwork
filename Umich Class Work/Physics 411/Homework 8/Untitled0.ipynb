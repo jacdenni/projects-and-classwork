{
 "metadata": {
  "name": "",
  "signature": "sha256:9a4657e2e1b6b8a889599e21ff5adda554e89a169a91effd53f43c0851936f9c"
 },
 "nbformat": 3,
 "nbformat_minor": 0,
 "worksheets": [
  {
   "cells": [
    {
     "cell_type": "code",
     "collapsed": false,
     "input": [
      "import sympy\n",
      "\n",
      "x, y = sympy.symbols('x y')\n",
      "expression = (x + y)**2\n",
      "exp_expression = sympy.expand(expression)\n",
      "print expression\n",
      "print exp_expression"
     ],
     "language": "python",
     "metadata": {},
     "outputs": [
      {
       "output_type": "stream",
       "stream": "stdout",
       "text": [
        "(x + y)**2\n",
        "x**2 + 2*x*y + y**2\n"
       ]
      }
     ],
     "prompt_number": 4
    },
    {
     "cell_type": "code",
     "collapsed": false,
     "input": [],
     "language": "python",
     "metadata": {},
     "outputs": []
    }
   ],
   "metadata": {}
  }
 ]
}