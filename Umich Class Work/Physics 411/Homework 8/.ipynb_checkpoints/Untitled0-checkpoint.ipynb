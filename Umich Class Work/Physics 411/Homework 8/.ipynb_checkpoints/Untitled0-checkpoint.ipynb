{
 "metadata": {
  "name": "",
  "signature": "sha256:d9d3b07757257a6172053f8ecad39518df2ca698d1f829891179e1ce13dc6a85"
 },
 "nbformat": 3,
 "nbformat_minor": 0,
 "worksheets": []
}