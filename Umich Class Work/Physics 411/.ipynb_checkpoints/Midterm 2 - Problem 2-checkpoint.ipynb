{
 "metadata": {
  "name": "",
  "signature": "sha256:444f0395507b0b7b0bedc47ecf666288785992175733ce526e1b161b02071be5"
 },
 "nbformat": 3,
 "nbformat_minor": 0,
 "worksheets": [
  {
   "cells": [
    {
     "cell_type": "code",
     "collapsed": false,
     "input": [
      "import numpy as np\n",
      "import matplotlib.pyplot as plt\n",
      "import matplotlib.cm as cm\n",
      "\n",
      "def rho(x, y):\n",
      "    return np.sin(np.pi * x) * np.sin(2.0 * np.pi * y)\n",
      "\n",
      "def poissonPhi(x, y):\n",
      "    return -4.0 * np.pi * rho(x, y)\n",
      "\n",
      "\n",
      "x = np.linspace(0.0, 1.0, 100)\n",
      "y = np.linspace(0.0, 1.0, 100)\n",
      "X, Y = np.meshgrid(x, y)\n",
      "\n",
      "plt.figure(1)\n",
      "ChargeDistribution = plt.contour(X, Y, rho(X, Y), 20)\n",
      "plt.clabel(ChargeDistribution, inline = 1, fontsize = 10)\n",
      "plt.xlabel('X')\n",
      "plt.ylabel('Y')\n",
      "plt.title('Initial Charge Distribution')\n",
      "plt.savefig('Midterm 2 - Poisson - Charge Distribution.png')\n",
      "plt.close(1)"
     ],
     "language": "python",
     "metadata": {},
     "outputs": [],
     "prompt_number": 8
    },
    {
     "cell_type": "code",
     "collapsed": false,
     "input": [],
     "language": "python",
     "metadata": {},
     "outputs": []
    }
   ],
   "metadata": {}
  }
 ]
}