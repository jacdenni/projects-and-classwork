{
 "cells": [
  {
   "cell_type": "code",
   "execution_count": 5,
   "metadata": {
    "collapsed": false
   },
   "outputs": [
    {
     "name": "stdout",
     "output_type": "stream",
     "text": [
      "Planet: Earth\n",
      "Please enter the desired period in seconds: 3600*24\n",
      "Altitude: 35855910.1762 meters\n",
      "Next planet? (y/n): n\n",
      "\n",
      "\n",
      "Planet: Earth\n",
      "Please enter the desired period in seconds: 60*90\n",
      "Altitude: 279321.625373 meters\n",
      "Next planet? (y/n): n\n",
      "\n",
      "\n",
      "Planet: Earth\n",
      "Please enter the desired period in seconds: 60*45\n",
      "Altitude: -2181559.89781 meters\n",
      "Next planet? (y/n): y\n",
      "\n",
      "\n",
      "Planet: Mars\n",
      "Please enter the desired period in seconds: 3600*24\n",
      "Altitude: 16657054.1586 meters\n",
      "Next planet? (y/n): n\n",
      "\n",
      "\n",
      "Planet: Mars\n",
      "Please enter the desired period in seconds: 60*90\n",
      "Altitude: -232786.809642 meters\n",
      "Next planet? (y/n): n\n",
      "\n",
      "\n",
      "Planet: Mars\n",
      "Please enter the desired period in seconds: 60*45\n",
      "Altitude: -1401080.32123 meters\n",
      "Next planet? (y/n): y\n",
      "\n",
      "\n",
      "Planet: Jupiter\n",
      "Please enter the desired period in seconds: 3600*24\n",
      "Altitude: 218253582.64 meters\n",
      "Quit? (y/n): n\n",
      "Planet: Jupiter\n",
      "Please enter the desired period in seconds: 60*90\n",
      "Altitude: -24527922.0622 meters\n",
      "Quit? (y/n): n\n",
      "Planet: Jupiter\n",
      "Please enter the desired period in seconds: 60*45\n",
      "Altitude: -41321452.3986 meters\n",
      "Quit? (y/n): y\n"
     ]
    }
   ],
   "source": [
    "import math\n",
    "\n",
    "G = 6.67e-11 # m^3 / (kg * s^2)\n",
    "M_earth = 5.97e24 # kg\n",
    "R_earth = 6371.0 # km\n",
    "M_mars = 0.107 * M_earth\n",
    "R_mars = 3390.0 # km\n",
    "M_jupiter = 317.8 * M_earth\n",
    "R_jupiter = 69911.0 # km\n",
    "Radii = [R_earth, R_mars, R_jupiter]\n",
    "Masses = [M_earth, M_mars, M_jupiter]\n",
    "planets = ['Earth', 'Mars', 'Jupiter']\n",
    "def height(R, M, T):\n",
    "    return (G * M * T**2 / (4.0 * math.pi**2))**(1.0/3.0) - (R * 1000.0)\n",
    "for i in range(len(planets)):\n",
    "    nextPlanet = 'n'\n",
    "    while (nextPlanet != 'y') & (nextPlanet != 'Y'):\n",
    "        print 'Planet:', planets[i]\n",
    "        T = float(input('Please enter the desired period in seconds: '))\n",
    "        print 'Altitude:', height(Radii[i], Masses[i], T), 'meters'\n",
    "        if planets[i] != 'Jupiter':\n",
    "            nextPlanet = raw_input('Next planet? (y/n): ')\n",
    "            print '\\n'\n",
    "        else:\n",
    "            nextPlanet = raw_input('Quit? (y/n): ')\n",
    "            print '\\n'"
   ]
  },
  {
   "cell_type": "code",
   "execution_count": 9,
   "metadata": {
    "collapsed": false
   },
   "outputs": [
    {
     "name": "stdout",
     "output_type": "stream",
     "text": [
      "Distance to destination, in light-years: 12\n",
      "12.0 light-years equals 1.13528765671e+17 meters.\n",
      "Velocity, as a fraction of the speed of light c: .99\n",
      "382516363.636\n",
      "An observer on the Earth will see the ship take 382516363.636 seconds (or 12.1295143213 years) to reach its destination.\n",
      "An observer in the spaceship will see the ship take 53960573.4972 seconds (or 1.71107856092 years)to reach its destination.\n"
     ]
    }
   ],
   "source": [
    "import math\n",
    "\n",
    "c = 299792458 # m/s\n",
    "ly_to_m = c * (3600.0 * 24.0 * 365.25)\n",
    "x = float(raw_input('Distance to destination, in light-years: '))\n",
    "print x, 'light-years equals', x * ly_to_m, 'meters.'\n",
    "v = float(raw_input('Velocity, as a fraction of the speed of light c: '))\n",
    "t = x * ly_to_m / (v * c)\n",
    "t_prime = (t - (v * c) * x / (c**2)) * math.sqrt(1.0 - (v * c)**2 / c**2)\n",
    "print 'An observer on the Earth will see the ship take', t, 'seconds (or', t / (3600.0 * 24.0 * 365), 'years) to reach its destination.'\n",
    "print 'An observer in the spaceship will see the ship take', t_prime, 'seconds (or', t_prime / (3600.0 * 24.0 * 365), 'years)to reach its destination.'"
   ]
  },
  {
   "cell_type": "code",
   "execution_count": 55,
   "metadata": {
    "collapsed": false
   },
   "outputs": [
    {
     "name": "stdout",
     "output_type": "stream",
     "text": [
      "-464.852266805\n"
     ]
    }
   ],
   "source": [
    "import math\n",
    "\n",
    "def V(i,j,k):\n",
    "    if (i + j + k) == 0.0:\n",
    "        return 0.0\n",
    "    else:\n",
    "        return (-1.0)**(i + j + k) / (math.sqrt(i**2.0 + j**2.0 + k**2.0))\n",
    "    \n",
    "length = range(-100,100)\n",
    "M = 0.0\n",
    "for i in length:\n",
    "    for j in length:\n",
    "        for k in length:\n",
    "            M += V(i,j,k)\n",
    "print M\n"
   ]
  },
  {
   "cell_type": "code",
   "execution_count": 13,
   "metadata": {
    "collapsed": false
   },
   "outputs": [
    {
     "name": "stdout",
     "output_type": "stream",
     "text": [
      "[9931.0, 9941.0, 9949.0, 9967.0, 9973.0]\n"
     ]
    }
   ],
   "source": [
    "import math\n",
    "import numpy as np\n",
    "\n",
    "Nums = np.arange(3.0, 10000.0)\n",
    "\n",
    "Primes = [2.0]\n",
    "\n",
    "for i in Nums:\n",
    "    prime = False\n",
    "    notprime = False\n",
    "    while (prime == False) & (notprime == False):\n",
    "        for j in Primes:\n",
    "            if i%j == 0:\n",
    "                notprime = True\n",
    "            elif j >= math.sqrt(i):\n",
    "                prime = True\n",
    "\n",
    "    if (prime == True) & (notprime == False):\n",
    "        Primes.append(i)\n",
    "        \n",
    "print Primes[-5:]"
   ]
  },
  {
   "cell_type": "code",
   "execution_count": 10,
   "metadata": {
    "collapsed": false
   },
   "outputs": [
    {
     "name": "stdout",
     "output_type": "stream",
     "text": [
      "Most stable Z: 24.0 \n",
      "Most stable A: 50.0 \n",
      "Largest binding energy: 8.53262275137\n"
     ]
    }
   ],
   "source": [
    "import math\n",
    "import numpy as np\n",
    "\n",
    "a1 = 15.67 # MeV\n",
    "a2 = 17.23 # MeV\n",
    "a3 = 0.75 # MeV\n",
    "a4 = 93.2 # MeV\n",
    "\n",
    "def Even(num):\n",
    "    if (num % 2) == 0:\n",
    "        return True\n",
    "    else:\n",
    "        return False\n",
    "\n",
    "def a5(A, Z):\n",
    "    if Even(A) == False:\n",
    "        return 0.0\n",
    "    elif Even(Z) == True:\n",
    "        return 12.0\n",
    "    else:\n",
    "        return -12.0\n",
    "\n",
    "def BperA(A, Z):\n",
    "    num1 = A\n",
    "    num2 = A**(2.0 / 3.0)\n",
    "    num3 = Z**2.0 / (A**(1.0/3.0))\n",
    "    num4 = (A - 2.0 * Z)**2.0 / A\n",
    "    num5 = A**(-1.0 / 2.0)\n",
    "    B = (a1 * num1 - a2 * num2 - a3 * num3 - a4 * num4 + a5(A, Z) * num5)\n",
    "    return B/A\n",
    "\n",
    "def MostStable(Z):\n",
    "    A = np.arange(Z, 3.0 * Z)\n",
    "    largestBperA= 0.0\n",
    "    mostStableA = 0.0\n",
    "    for a in A:\n",
    "        if BperA(a, Z) > largestBperA:\n",
    "            largestBperA = BperA(a, Z)\n",
    "            mostStableA = a\n",
    "    return [mostStableA, largestBperA]\n",
    "\n",
    "Z = np.arange(1.0, 100.0)\n",
    "\n",
    "largestBperA = 0.0\n",
    "mostStableA = 0.0\n",
    "mostStableZ = 0.0\n",
    "\n",
    "for z in Z:\n",
    "    resultList = MostStable(z)\n",
    "    if resultList[1] > largestBperA:\n",
    "        largestBperA = resultList[1]\n",
    "        mostStableA = resultList[0]\n",
    "        mostStableZ = z\n",
    "\n",
    "print 'Most stable Z:', mostStableZ, '\\nMost stable A:', mostStableA, '\\nLargest binding energy:', largestBperA"
   ]
  },
  {
   "cell_type": "code",
   "execution_count": null,
   "metadata": {
    "collapsed": false
   },
   "outputs": [],
   "source": []
  }
 ],
 "metadata": {
  "anaconda-cloud": {},
  "kernelspec": {
   "display_name": "Python 2",
   "language": "python",
   "name": "python2"
  },
  "language_info": {
   "codemirror_mode": {
    "name": "ipython",
    "version": 2
   },
   "file_extension": ".py",
   "mimetype": "text/x-python",
   "name": "python",
   "nbconvert_exporter": "python",
   "pygments_lexer": "ipython2",
   "version": "2.7.12"
  }
 },
 "nbformat": 4,
 "nbformat_minor": 0
}
