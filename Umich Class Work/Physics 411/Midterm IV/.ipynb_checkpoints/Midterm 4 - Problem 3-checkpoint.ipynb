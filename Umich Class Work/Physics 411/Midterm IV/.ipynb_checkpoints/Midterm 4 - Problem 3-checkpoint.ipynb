{
 "metadata": {
  "name": "",
  "signature": "sha256:2858a3bc4d1a9f50b870acdbe883e3dde2e2f175bf8386545e4e995acac1f8aa"
 },
 "nbformat": 3,
 "nbformat_minor": 0,
 "worksheets": [
  {
   "cells": [
    {
     "cell_type": "code",
     "collapsed": false,
     "input": [
      "import numpy as np\n",
      "import numpy.random as rand\n",
      "from HoshenKopelman import HoshenKopelman #.py file containing all the programs of Problem 2\n",
      "from HoshenKopelman import OccupyALattice\n",
      "import matplotlib.pyplot as plt\n",
      "\n",
      "def CheckIfArrayContains(array, n):\n",
      "    for i in array:\n",
      "        if i == n:\n",
      "            return True\n",
      "    return False\n",
      "\n",
      "def CheckPercolation(A):\n",
      "    L = A.shape[0]\n",
      "    clustersInTop = []\n",
      "    clustersInBottom = []\n",
      "    for i in range(L):\n",
      "        if A[0][i] != 0:\n",
      "            clustersInTop.append(A[0][i])\n",
      "        if A[L - 1][i] != 0:\n",
      "            clustersInBottom.append(A[L - 1][i])\n",
      "    for cluster in clustersInTop:\n",
      "        if CheckIfArrayContains(clustersInBottom, cluster):\n",
      "            return True\n",
      "    return False\n",
      "\n",
      "def P(p, d):\n",
      "    numPercolating = 0.\n",
      "    numTries = 5000\n",
      "    for n in range(numTries):\n",
      "        A = OccupyALattice(d, p)\n",
      "        LabeledA = HoshenKopelman(A)\n",
      "        if CheckPercolation(LabeledA):\n",
      "            numPercolating += 1\n",
      "    return numPercolating / numTries\n",
      "\n",
      "def main():\n",
      "    pRange = np.linspace(0.0, 1.0, 50)\n",
      "    PRange_2 = []\n",
      "    PRange_3 = []\n",
      "    PRange_4 = []\n",
      "    for p in pRange:\n",
      "        PRange_2.append(P(p, 2))\n",
      "        PRange_3.append(P(p, 3))\n",
      "        PRange_4.append(P(p, 4))\n",
      "        counter += 1\n",
      "    \n",
      "    plt.figure(0)\n",
      "    plt.clf()\n",
      "    plt.plot(pRange, PRange_2, label = '2x2')\n",
      "    plt.plot(pRange, PRange_3, label = '3x3')\n",
      "    plt.plot(pRange, PRange_4, label = '4x4')\n",
      "    plt.legend(loc = 0)\n",
      "    plt.title('P(p)')\n",
      "    plt.xlabel('p')\n",
      "    plt.ylabel('P')\n",
      "    plt.savefig('Midterm 4 - Percolation.png')\n",
      "    \n",
      "    plt.figure(1)\n",
      "    plt.clf()\n",
      "    plt.plot(pRange, np.array(PRange_2) - pRange, label = '2x2')\n",
      "    plt.plot(pRange, np.array(PRange_3) - pRange, label = '3x3')\n",
      "    plt.plot(pRange, np.array(PRange_4) - pRange, label = '4x4')\n",
      "    plt.legend(loc = 0)\n",
      "    plt.title('P(p) - p')\n",
      "    plt.xlabel('p')\n",
      "    plt.ylabel('P')\n",
      "    plt.savefig('Midterm 4 - Percolation 2.png')\n",
      "    \n",
      "if __name__ == '__main__':\n",
      "    main()"
     ],
     "language": "python",
     "metadata": {},
     "outputs": [
      {
       "output_type": "stream",
       "stream": "stdout",
       "text": [
        "0\n",
        "5"
       ]
      },
      {
       "output_type": "stream",
       "stream": "stdout",
       "text": [
        "\n",
        "10"
       ]
      },
      {
       "output_type": "stream",
       "stream": "stdout",
       "text": [
        "\n",
        "15"
       ]
      },
      {
       "output_type": "stream",
       "stream": "stdout",
       "text": [
        "\n",
        "20"
       ]
      },
      {
       "output_type": "stream",
       "stream": "stdout",
       "text": [
        "\n",
        "25"
       ]
      },
      {
       "output_type": "stream",
       "stream": "stdout",
       "text": [
        "\n",
        "30"
       ]
      },
      {
       "output_type": "stream",
       "stream": "stdout",
       "text": [
        "\n",
        "35"
       ]
      },
      {
       "output_type": "stream",
       "stream": "stdout",
       "text": [
        "\n",
        "40"
       ]
      },
      {
       "output_type": "stream",
       "stream": "stdout",
       "text": [
        "\n",
        "45"
       ]
      },
      {
       "output_type": "stream",
       "stream": "stdout",
       "text": [
        "\n"
       ]
      }
     ],
     "prompt_number": 32
    },
    {
     "cell_type": "code",
     "collapsed": false,
     "input": [],
     "language": "python",
     "metadata": {},
     "outputs": [
      {
       "ename": "NameError",
       "evalue": "name 's' is not defined",
       "output_type": "pyerr",
       "traceback": [
        "\u001b[0;31m---------------------------------------------------------------------------\u001b[0m\n\u001b[0;31mNameError\u001b[0m                                 Traceback (most recent call last)",
        "\u001b[0;32m<ipython-input-6-f4d5d0c0671b>\u001b[0m in \u001b[0;36m<module>\u001b[0;34m()\u001b[0m\n\u001b[0;32m----> 1\u001b[0;31m \u001b[0ms\u001b[0m\u001b[0;34m\u001b[0m\u001b[0m\n\u001b[0m",
        "\u001b[0;31mNameError\u001b[0m: name 's' is not defined"
       ]
      }
     ],
     "prompt_number": 6
    },
    {
     "cell_type": "code",
     "collapsed": false,
     "input": [],
     "language": "python",
     "metadata": {},
     "outputs": []
    }
   ],
   "metadata": {}
  }
 ]
}