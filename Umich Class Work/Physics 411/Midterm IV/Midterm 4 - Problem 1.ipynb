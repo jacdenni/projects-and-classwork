{
 "metadata": {
  "name": "",
  "signature": "sha256:1c005e8deb8242cc13aadb2c1b54b0d1628793ae55ff0c639eea6021f1488402"
 },
 "nbformat": 3,
 "nbformat_minor": 0,
 "worksheets": [
  {
   "cells": [
    {
     "cell_type": "code",
     "collapsed": false,
     "input": [
      "import numpy as np\n",
      "import numpy.random as rand\n",
      "import matplotlib.pyplot as plt\n",
      "\n",
      "def MakeLattice(L):\n",
      "    A = np.ones([L, L]) \n",
      "    return A\n",
      "\n",
      "def Hamiltonian(A): \n",
      "    L = A.shape[0]\n",
      "    E = 0.\n",
      "    for i in range(L):\n",
      "        for j in range(L):\n",
      "            E += -A[i][j] * A[(i + 1) % L][j]\n",
      "            E += - A[i][j] * A[i][(j + 1) % L] \n",
      "    return E\n",
      "    \n",
      "def step(A, inverse_T):\n",
      "    L = A.shape[0]\n",
      "    x = rand.random_integers(0, int(L) - 1)\n",
      "    y = rand.random_integers(0, int(L) - 1)\n",
      "    \n",
      "    dE = EnergyDifference(A, x, y)\n",
      "    \n",
      "    if (min(1, np.exp(-dE * inverse_T)) > rand.random()):\n",
      "        A[x][y] *= -1\n",
      "    return None\n",
      "    \n",
      "def EnergyDifference(A, x, y):\n",
      "    E_old = Hamiltonian(A)\n",
      "    A[x][y] *= -1.\n",
      "    E_new = Hamiltonian(A)\n",
      "    A[x][y] *= -1. \n",
      "    return E_new - E_old\n",
      "\n",
      "def Magnetization(A):\n",
      "    L = A.shape[0]\n",
      "    return np.sum(A) / (L**2)\n",
      "\n",
      "def AverageMagnetizations(A, T, nsteps):\n",
      "    abs_m_average = 0.0\n",
      "    m2_average = 0.0\n",
      "    for i in range(nsteps):\n",
      "        step(A, 1. / T)\n",
      "        abs_m_average += np.abs(Magnetization(A))\n",
      "        m2_average += (Magnetization(A)**2)\n",
      "    print '< |m| >:', abs_m_average / nsteps, '\\n< m^2 >:', m2_average / nsteps\n",
      "    return None\n",
      "\n",
      "def PlotALattice(A, filename, plotttitle):\n",
      "    L = A.shape[0]\n",
      "    x, y = np.mgrid[slice(0, L + 1, 1), slice(0, L + 1, 1)]\n",
      "    plt.figure(0)\n",
      "    plt.clf()\n",
      "    plt.pcolor(x, y, A, cmap = 'RdBu', vmin = -1., vmax= 1.)\n",
      "    plt.axis([x.min(), x.max(), y.min(), y.max()])\n",
      "    plt.xlabel('x')\n",
      "    plt.ylabel('y')\n",
      "    plt.title(plotttitle)\n",
      "    plt.colorbar()\n",
      "    plt.savefig(filename)\n",
      "    return None\n",
      "\n",
      "def main():\n",
      "    A = MakeLattice(10)\n",
      "    print 'Ground State Energy:', Hamiltonian(A), '\\n'\n",
      "    #Part 1 - T >> Tc\n",
      "    print 'T = 10000'\n",
      "    AverageMagnetizations(A, 10000., 1000)\n",
      "    print 'Energy:', Hamiltonian(A), '\\n'\n",
      "    PlotALattice(A, 'Midterm 4 - High Temperature Lattice.png', 'High Temperature Spin States')\n",
      "    \n",
      "    #Part 2 - T << Tc\n",
      "    A = MakeLattice(10)\n",
      "    print 'T = 1'\n",
      "    AverageMagnetizations(A, 1., 1000)\n",
      "    print 'New Energy:', Hamiltonian(A), '\\n'\n",
      "    PlotALattice(A, 'Midterm 4 - Low Temperature Lattice.png', 'Low Temperature Lattice')\n",
      "    \n",
      "    #Part 4 - m(T) and E(T)\n",
      "    #6x6\n",
      "    dimensionsRange = [6, 8, 10]\n",
      "    plt.figure(1)\n",
      "    plt.clf()\n",
      "    plt.figure(2)\n",
      "    plt.clf()\n",
      "    for d in dimensionsRange:\n",
      "        \n",
      "        TRange = np.arange(.1, 100.)\n",
      "        mRange = []\n",
      "        ERange = []\n",
      "        URange = []\n",
      "        for T in TRange:\n",
      "            A = MakeLattice(d)\n",
      "            for i in range(1000):\n",
      "                step(A, 1. / T)\n",
      "            ERange.append(Hamiltonian(A) / (d**2))\n",
      "            m = Magnetization(A)\n",
      "            mRange.append( m / (d**2))\n",
      "        plt.figure(1)\n",
      "        plt.plot(TRange, ERange, label = str(d) + 'x' + str(d))\n",
      "        plt.figure(2)\n",
      "        plt.plot(TRange, mRange, label = str(d) + 'x' + str(d))\n",
      "    plt.figure(1)\n",
      "    plt.xlabel('T')\n",
      "    plt.ylabel('Energy')\n",
      "    plt.legend(loc = 0)\n",
      "    plt.title('Energy per site')\n",
      "    plt.savefig('Midterm 4 - Energies')\n",
      "    plt.figure(2)\n",
      "    plt.xlabel('T')\n",
      "    plt.ylabel('Magnetization')\n",
      "    plt.title('Magnetization per site')\n",
      "    plt.legend(loc = 0)\n",
      "    plt.savefig('Midterm 4 - Magnetizations')\n",
      "    \n",
      "if __name__ == '__main__':\n",
      "    main()"
     ],
     "language": "python",
     "metadata": {},
     "outputs": [
      {
       "output_type": "stream",
       "stream": "stdout",
       "text": [
        "Ground State Energy: -200.0 \n",
        "\n",
        "T = 10000\n",
        "< |m| >:"
       ]
      },
      {
       "output_type": "stream",
       "stream": "stdout",
       "text": [
        " 0.13392 \n",
        "< m^2 >: 0.0425792\n",
        "Energy: 12.0 \n",
        "\n",
        "T = 1"
       ]
      },
      {
       "output_type": "stream",
       "stream": "stdout",
       "text": [
        "\n",
        "< |m| >:"
       ]
      },
      {
       "output_type": "stream",
       "stream": "stdout",
       "text": [
        " 0.99808 \n",
        "< m^2 >: 0.9961984\n",
        "New Energy: -200.0 \n",
        "\n"
       ]
      }
     ],
     "prompt_number": 1
    },
    {
     "cell_type": "code",
     "collapsed": false,
     "input": [],
     "language": "python",
     "metadata": {},
     "outputs": [
      {
       "output_type": "stream",
       "stream": "stdout",
       "text": [
        "[ 0.86778312  0.01353137  0.93069015  0.06143527  0.46394505  0.01882493\n",
        "  0.29622088  0.26177077  0.74822563  0.14975207]\n",
        "0\n",
        "1\n",
        "0\n",
        "1\n",
        "1\n",
        "1\n",
        "1\n",
        "1\n",
        "0\n",
        "1\n"
       ]
      }
     ],
     "prompt_number": 9
    },
    {
     "cell_type": "code",
     "collapsed": false,
     "input": [],
     "language": "python",
     "metadata": {},
     "outputs": [],
     "prompt_number": 6
    },
    {
     "cell_type": "code",
     "collapsed": false,
     "input": [],
     "language": "python",
     "metadata": {},
     "outputs": []
    }
   ],
   "metadata": {}
  }
 ]
}