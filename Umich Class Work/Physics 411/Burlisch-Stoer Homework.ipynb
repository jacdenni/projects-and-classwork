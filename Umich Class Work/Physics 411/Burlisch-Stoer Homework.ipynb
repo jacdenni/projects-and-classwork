{
 "cells": [
  {
   "cell_type": "code",
   "execution_count": 7,
   "metadata": {
    "collapsed": false
   },
   "outputs": [
    {
     "name": "stdout",
     "output_type": "stream",
     "text": [
      "Forward Euler Results:\n",
      "[[ 2.]\n",
      " [ 0.]]\n",
      "\n",
      "Backward Euler Results:\n",
      "[[ 2.]\n",
      " [ 0.]]\n"
     ]
    }
   ],
   "source": [
    "import numpy as np\n",
    "import matplotlib.pyplot as plt\n",
    "\n",
    "def yprime(y):\n",
    "    A = np.matrix([[-7.0, 3.0], [3.0, -7.0]])\n",
    "    return np.dot(A, y)\n",
    "\n",
    "y0 = np.matrix([[2.0], [0.0]])\n",
    "\n",
    "#Forward Euler Method\n",
    "Y1 = [y0]\n",
    "A = np.matrix([[-6.0, 3.0], [3.0, -6.0]])\n",
    "for i in range(5):\n",
    "    Y1.append(np.dot(A, Y1[i]))\n",
    "Y1 = np.asarray(Y1)\n",
    "xRange1 = np.rot90(np.rot90(Y1)[1])\n",
    "yRange1 = np.rot90(np.rot90(Y1)[0])\n",
    "\n",
    "#Backward Euler Method\n",
    "Y2 = [y0]\n",
    "for i in range(5):\n",
    "    B = np.matrix([[8.0/55.0, 3.0/55.0], [3.0/55.0, 8.0/55.0]])\n",
    "    Y2.append(np.dot(B, Y2[i]))\n",
    "Y2 = np.asarray(Y2)\n",
    "\n",
    "xRange2 = np.rot90(np.rot90(Y2)[1])\n",
    "yRange2 = np.rot90(np.rot90(Y2)[0])\n",
    "\n",
    "\n",
    "print 'Forward Euler Results:\\n', Y1\n",
    "print '\\nBackward Euler Results:\\n', Y2\n",
    "\n",
    "plt.clf()\n",
    "plt.plot(xRange1[0], yRange1[0], label = 'Forwards Euler Method')\n",
    "plt.plot(xRange2[0], yRange2[0], label = 'Backwards Euler Method')\n",
    "plt.legend()\n",
    "plt.title('Forwards and Backwards Euler Approximations')\n",
    "plt.xlabel('y[0]')\n",
    "plt.ylabel('y[1]')\n",
    "plt.savefig('Homework 5 Problem 1.png')"
   ]
  },
  {
   "cell_type": "code",
   "execution_count": 2,
   "metadata": {
    "collapsed": false
   },
   "outputs": [
    {
     "name": "stdout",
     "output_type": "stream",
     "text": [
      "Approximations:\n",
      "\n",
      "[ 3.14869866]\n",
      "[ 3.1668799   3.16809198]\n",
      "[ 3.16481557  3.16430743  3.1639432 ]\n",
      "[ 3.16352043  3.16292097  3.16262078  3.16247366]\n",
      "[ 3.16280437  3.16230759  3.16208967  3.16198259  3.16192352]\n",
      "[ 3.16238207  3.16198873  3.16182817  3.16174893  3.16170392  3.16167618]\n",
      "\n",
      "Errors:\n",
      "\n",
      "[]\n",
      "[ 0.00606042]\n",
      "[-0.00165146 -0.00093158]\n",
      "[-0.00166518 -0.00064173 -0.00028632]\n",
      "[ -1.27300475e-03  -4.25545000e-04  -1.88694434e-04  -9.89963617e-05]\n",
      "[ -9.59763862e-04  -2.97000374e-04  -1.31669243e-04  -7.08122776e-05\n",
      "  -4.22988465e-05]\n"
     ]
    }
   ],
   "source": [
    "import numpy as np\n",
    "\n",
    "def yprime(y, t):\n",
    "    return 2.0 * np.sin(t) + np.tan(t) * y\n",
    "\n",
    "y0 = 1.0\n",
    "\n",
    "def ModifiedMidpoint(y0, t0, f, H, n):\n",
    "    h = H / n\n",
    "    X = [y0]\n",
    "    Y = [0.0, X[0] + h / 2.0 * f(X[0], t0)]\n",
    "    X.append(X[0] + h * f(Y[1], t0 + h * 1.0/2.0))\n",
    "    \n",
    "    for m in range(1, n):\n",
    "        Y.append(Y[m] + h * f(X[m], t0 + m * h))\n",
    "        X.append(X[m] + h * f(Y[m + 1], t0 + (m + 0.5) * h))\n",
    "    \n",
    "    return 0.5 * (X[n] + Y[n] + h / 2.0 * f(X[n], t0 + H))\n",
    "\n",
    "def BulirschStoer(y0, t0, f, H, N):\n",
    "    R = []\n",
    "    errors = []\n",
    "    for n in range(N):\n",
    "        Rrow = [ModifiedMidpoint(y0, t0, f, H, n + 1)]\n",
    "        errorRow= []\n",
    "        for m in range(1, n + 1):\n",
    "            Rnew = Rrow[m - 1] + (Rrow[m - 1] - R[n - 1][m - 1]) / (((n + 1.0) / n)**(2.0 * (m + 1)) - 1.0)\n",
    "            Rrow.append(Rnew)\n",
    "            errorRow.append((Rrow[m - 1] - R[n - 1][m - 1]) / (((n + 1.0) / n)**(2.0 * m) - 1.0))\n",
    "        errors.append(np.array(errorRow))\n",
    "        R.append(np.asarray(Rrow))\n",
    "    return np.array([np.asarray(R), np.asarray(errors)])\n",
    "\n",
    "results = BulirschStoer(y0, 0.0, yprime, 1.0, 6)\n",
    "print 'Approximations:\\n'\n",
    "for i in results[0]:\n",
    "    print i\n",
    "print '\\nErrors:\\n\\n', \n",
    "for i in results[1]:\n",
    "    print i"
   ]
  },
  {
   "cell_type": "code",
   "execution_count": 50,
   "metadata": {
    "collapsed": false
   },
   "outputs": [
    {
     "name": "stdout",
     "output_type": "stream",
     "text": [
      "[[0.0, 3.0], [0.0, 1.25, 4.0625], [0.0, 0.7777777777777777, 2.160493827160493, 4.618655692729765], [0.0, 0.5625, 1.44140625, 2.814697265625, 4.9604644775390625], [0.0, 0.43999999999999995, 1.0735999999999999, 1.9859839999999993, 3.2998169599999985, 5.191736422399997]]\n"
     ]
    }
   ],
   "source": [
    "expectedDs = []\n",
    "\n",
    "for n in range(2, 7):\n",
    "    Drow = []\n",
    "    for m in range(n):\n",
    "        Drow.append((n/(n - 1.0))**(2.0 * m) - 1.0)\n",
    "    expectedDs.append(Drow)\n",
    "print expectedDs"
   ]
  },
  {
   "cell_type": "code",
   "execution_count": null,
   "metadata": {
    "collapsed": false
   },
   "outputs": [],
   "source": []
  }
 ],
 "metadata": {
  "anaconda-cloud": {},
  "kernelspec": {
   "display_name": "Python 2",
   "language": "python",
   "name": "python2"
  },
  "language_info": {
   "codemirror_mode": {
    "name": "ipython",
    "version": 2
   },
   "file_extension": ".py",
   "mimetype": "text/x-python",
   "name": "python",
   "nbconvert_exporter": "python",
   "pygments_lexer": "ipython2",
   "version": "2.7.12"
  }
 },
 "nbformat": 4,
 "nbformat_minor": 0
}
