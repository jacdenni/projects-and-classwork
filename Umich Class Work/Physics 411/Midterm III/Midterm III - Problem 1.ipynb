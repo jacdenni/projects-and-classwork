{
 "metadata": {
  "name": "",
  "signature": "sha256:61606084e8889d99e8ac2db16e3a391872793e3417dfddabd090cc741d97b9a0"
 },
 "nbformat": 3,
 "nbformat_minor": 0,
 "worksheets": [
  {
   "cells": [
    {
     "cell_type": "code",
     "collapsed": false,
     "input": [
      "import numpy as np\n",
      "\n",
      "def LCG(a, c, m, x0, iterations):\n",
      "    X = np.zeros(iterations)\n",
      "    X[0] = x0\n",
      "    for n in range(iterations - 1):\n",
      "        X[n + 1] = (a * X[n] + c) % m\n",
      "    return X\n",
      "\n",
      "def FibonacciRandom(A, B, m, iterations):\n",
      "    a, b = min(A, B), max(A, B)\n",
      "    seedList = LCG(16807.0, 0.0, 2.0**31 - 1, 66779.0, b)\n",
      "    X = seedList.tolist()\n",
      "    for n in range(b, iterations + b):\n",
      "        X.append((X[n - a] + X[n - b]) % m)\n",
      "    norm = max(X)\n",
      "    X = np.array(X) / norm\n",
      "    return X[b:]\n",
      "    \n",
      "def Expectance(valuesArray):\n",
      "    p = 1.0 / np.size(valuesArray) #Assuming equal probability for all the various results\n",
      "    return np.sum(valuesArray * p)\n",
      "\n",
      "def Covariance(valuesArray):\n",
      "    return (Expectance(valuesArray**2) - Expectance(valuesArray)**2)\n",
      "    \n",
      "\n",
      "def main():\n",
      "    \n",
      "    #LCG \n",
      "    xLCG = LCG(16807.0, 0.0, 2.0**31 - 1, 66779.0, 607)\n",
      "    print 'Linear Congruential Generator:\\n', xLCG[-10:]\n",
      "    \n",
      "    #Lagged Fibonacci Generator\n",
      "    print 'Lagged Fibonacci Generator:\\n', FibonacciRandom(273, 607, 2.0**31 - 1, 10)\n",
      "    \n",
      "    #Mean, Variance, and Error on the Mean\n",
      "    myRandomSequence = FibonacciRandom(273, 607, 2.0**31 - 1, 100000)\n",
      "    mean = np.sum(myRandomSequence) / np.size(myRandomSequence)\n",
      "    meanArray = np.ones(np.size(myRandomSequence)) * mean\n",
      "    print 'Mean:', mean\n",
      "    print 'Variance:', Covariance(myRandomSequence)\n",
      "    print 'Error on the Mean:', abs(mean - 0.5)\n",
      "    \n",
      "if __name__ == '__main__':\n",
      "    main()\n",
      "        \n",
      "        "
     ],
     "language": "python",
     "metadata": {},
     "outputs": [
      {
       "output_type": "stream",
       "stream": "stdout",
       "text": [
        "Linear Congruential Generator:\n",
        "[  3.10909473e+08   6.27799560e+08   8.40047209e+08   1.11594628e+09\n",
        "   1.73452274e+09   3.32503830e+07   4.93438861e+08   1.79257576e+09\n",
        "   7.72714557e+08   1.17994609e+09]\n",
        "Lagged Fibonacci Generator:\n",
        "[ 0.26084745  0.39661785  0.94305276  0.47835772  0.5360287   0.66497594\n",
        "  0.5516199   0.66639108  0.3323461   0.89182325]\n",
        "Mean: 0.499570110049\n",
        "Variance: 0.0830759342556\n",
        "Error on the Mean: 0.000429889950649\n"
       ]
      }
     ],
     "prompt_number": 21
    },
    {
     "cell_type": "code",
     "collapsed": false,
     "input": [],
     "language": "python",
     "metadata": {},
     "outputs": [
      {
       "output_type": "stream",
       "stream": "stdout",
       "text": [
        "[ 1.  0.  1.  4.]\n",
        "[  1.   4.   9.  16.]\n"
       ]
      }
     ],
     "prompt_number": 16
    },
    {
     "cell_type": "code",
     "collapsed": false,
     "input": [],
     "language": "python",
     "metadata": {},
     "outputs": []
    }
   ],
   "metadata": {}
  }
 ]
}