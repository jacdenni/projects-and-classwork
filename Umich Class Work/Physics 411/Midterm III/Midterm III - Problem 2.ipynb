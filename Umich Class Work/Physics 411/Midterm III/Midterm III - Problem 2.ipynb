{
 "metadata": {
  "name": "",
  "signature": "sha256:2c6d9ffaa414abdd4fa7c7002470e634b782ad209f39a25a5ae27bdc1dd5948e"
 },
 "nbformat": 3,
 "nbformat_minor": 0,
 "worksheets": [
  {
   "cells": [
    {
     "cell_type": "code",
     "collapsed": false,
     "input": [
      "import numpy as np\n",
      "import numpy.random as rand\n",
      "import matplotlib.pyplot as plt\n",
      "\n",
      "def HitOrMiss(x0, xf, y0, yf, f, sampleSize):\n",
      "    pointsArray = np.zeros((sampleSize, 2))\n",
      "    insideArea = 0.0\n",
      "    for point in pointsArray:\n",
      "        point[0] = x0 + rand.random() * (xf - x0) #random x between x0 and xf\n",
      "        point[1] = y0 + rand.random() * (yf - y0) #random y between y0 and yf\n",
      "        if point[1] <= (f(point[0]) - y0):\n",
      "            insideArea += 1.0\n",
      "    return (insideArea / sampleSize) * ((xf - x0) * (yf - y0))\n",
      "        \n",
      "def ExpDistRandomNums(sampleSize, mu):\n",
      "    randomArray = np.zeros(sampleSize)\n",
      "    for i in range(sampleSize):\n",
      "        z = rand.random()\n",
      "        randomArray[i] = -1.0 / mu * np.log(1.0 - z)\n",
      "    return randomArray\n",
      "\n",
      "def F(x):\n",
      "    return np.exp(-x**2 / 2.0)\n",
      "\n",
      "def Expectance(valuesArray):\n",
      "    p = 1.0 / np.size(valuesArray) #Assuming equal probability for all the various results\n",
      "    return np.sum(valuesArray * p)\n",
      "\n",
      "def Covariance(valuesArray):\n",
      "    return (Expectance(valuesArray**2) - Expectance(valuesArray)**2)\n",
      "\n",
      "def ImportanceSampling(f, N):\n",
      "    randomRange = ExpDistRandomNums(N, 1.0)\n",
      "    randomRange = -np.sort(-randomRange) / max(randomRange)\n",
      "    I = 0.0\n",
      "    for x in randomRange:\n",
      "        I += 1.0 / N * f(x) / np.exp(-x)\n",
      "    \n",
      "    return I\n",
      "def main():\n",
      "    xRange = np.linspace(0.0, 1.0, 100000)\n",
      "    I1 = HitOrMiss(0.0, np.pi, 0.0, 1.0, np.sin, 100000)\n",
      "    print 'Integral with the Hit or Miss Method:', I1\n",
      "    print 'Approximate Error:', np.sqrt(I1 * abs(2.0  - I1)) / np.sqrt(100000)\n",
      "    print 'Importance Sampling integral:', ImportanceSampling(F, 100000)\n",
      "    print 'Approximate Error:', np.sqrt(Covariance(np.exp(-xRange**2 / 2) / np.exp(-xRange))) / np.sqrt(100000)\n",
      "    \n",
      "\n",
      "if __name__ == '__main__':\n",
      "    main()\n"
     ],
     "language": "python",
     "metadata": {},
     "outputs": [
      {
       "output_type": "stream",
       "stream": "stdout",
       "text": [
        "Integral with the Hit or Miss Method: 2.00015779476\n",
        "Approximate Error: 5.61795711281e-05\n",
        "Importance Sampling integral: "
       ]
      },
      {
       "output_type": "stream",
       "stream": "stdout",
       "text": [
        "1.07440836942\n",
        "Approximate Error: 0.000632801904236\n"
       ]
      }
     ],
     "prompt_number": 2
    },
    {
     "cell_type": "code",
     "collapsed": false,
     "input": [],
     "language": "python",
     "metadata": {},
     "outputs": [],
     "prompt_number": 42
    },
    {
     "cell_type": "code",
     "collapsed": false,
     "input": [],
     "language": "python",
     "metadata": {},
     "outputs": []
    }
   ],
   "metadata": {}
  }
 ]
}