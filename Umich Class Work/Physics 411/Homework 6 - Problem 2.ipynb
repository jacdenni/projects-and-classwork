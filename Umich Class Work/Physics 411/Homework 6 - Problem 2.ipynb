{
 "cells": [
  {
   "cell_type": "code",
   "execution_count": 29,
   "metadata": {
    "collapsed": false
   },
   "outputs": [],
   "source": [
    "import numpy as np\n",
    "import matplotlib.pyplot as plt\n",
    "\n",
    "#Constants\n",
    "hbar = 1.054571628e-34 #J * s\n",
    "m_e  = 9.1094e-31\n",
    "e = 1.6022e-19\n",
    "\n",
    "def V(x, c):\n",
    "    return c * (x**2 - x)\n",
    "\n",
    "def fVector(R, E, x, c): #R = [phi, psi = dphi/dx]\n",
    "    return np.array([R[1], (2.0 * m_e / (hbar**2)) * (V(x, c) - E) * R[0]])\n",
    "\n",
    "def RungeKutta(r0, x0, xf, f, N):\n",
    "    h = (xf - x0) / N\n",
    "    X = np.arange(x0, xf, h)\n",
    "    R = np.zeros([N + 1, len(r0)])\n",
    "    R[0] = r0\n",
    "    X[0] = x0\n",
    "    for i in range(N):\n",
    "        k1 = h * f(R[i], X[i])\n",
    "        k2 = h * f(R[i] + 0.5 * k1, X[i] + 0.5 * h)\n",
    "        k3 = h * f(R[i] + 0.5 * k2, X[i] + 0.5 * h)\n",
    "        k4 = h * f(R[i] + k3, X[i] + h)\n",
    "        R[i + 1] = R[i] + 1/6.0 * (k1 + 2 * k2 + 2 * k3 + k4)\n",
    "\n",
    "    return np.flipud(np.rot90(R, k = 1))[0] #returns positions only\n",
    "\n",
    "def RKforSpecificE(E):\n",
    "    r0 = np.asarray([0.0, 1.0])\n",
    "    def tempFVector(R, x):\n",
    "        return fVector(R, E, x, 1.0)\n",
    "    return RungeKutta(r0, 0.0, 1.0, tempFVector, 1000)\n",
    "\n",
    "def RegulaFalsi(a, b, tol, f):\n",
    "    IterationDifference = abs(a - b)\n",
    "    while (IterationDifference >= tol):\n",
    "        xNew = (f(b) * a - f(a) * b) / (f(b) - f(a))\n",
    "        if (np.sign(f(a)) == np.sign(f(xNew))):\n",
    "            IterationDifference = abs(a - xNew)\n",
    "            a = xNew\n",
    "        elif (np.sign(f(b)) == np.sign(f(xNew))):\n",
    "            IterationDifference = abs(b - xNew)\n",
    "            b = xNew\n",
    "        elif f(xNew) == 0.0:\n",
    "            return xNew\n",
    "    return xNew\n",
    "\n",
    "\n",
    "\n",
    "E1 = 0.0\n",
    "E2 = 200000 * e\n",
    "\n",
    "results = RKforSpecificE(E2)\n",
    "plt.clf()\n",
    "plt.plot(results)\n",
    "plt.xlabel('X')\n",
    "plt.ylabel('psi')\n",
    "plt.savefig('Testing Stuff Out.png')\n",
    "\n"
   ]
  },
  {
   "cell_type": "code",
   "execution_count": 1,
   "metadata": {
    "collapsed": false
   },
   "outputs": [],
   "source": [
    "import numpy as np\n",
    "import matplotlib.pyplot as plt\n",
    "\n",
    "def testF(r, t):\n",
    "    return np.asarray([-r[1], r[0]])\n",
    "\n",
    "def actualR(t):\n",
    "    return np.asarray([np.cos(t), np.sin(t)])\n",
    "\n",
    "def RungeKutta(x0, t0, f, a, b, N):\n",
    "    h = (b - a) / N\n",
    "    T = np.arange(a, b, h)\n",
    "    X = np.zeros([N + 1, len(x0)])\n",
    "    X[0] = x0\n",
    "    for i in range(N):\n",
    "        k1 = h * f(X[i], T[i])\n",
    "        k2 = h * f(X[i] + 0.5 * k1, T[i] + 0.5 * h)\n",
    "        k3 = h * f(X[i] + 0.5 * k2, T[i] + 0.5 * h)\n",
    "        k4 = h * f(X[i] + k3, T[i] + h)\n",
    "        X[i + 1] = X[i] + 1/6.0 * (k1 + 2 * k2 + 2 * k3 + k4)\n",
    "\n",
    "    return X[:-1]\n",
    "\n",
    "R0 = np.asarray([1.0, 0.0])\n",
    "T0 = 0.0\n",
    "results = RungeKutta(R0, T0, testF, 0, 2 * np.pi, 100)\n",
    "plt.clf()\n",
    "plt.plot(np.rot90(results)[1], np.rot90(results)[0])\n",
    "plt.savefig('Homework 6 plot 2.png')"
   ]
  },
  {
   "cell_type": "code",
   "execution_count": 42,
   "metadata": {
    "collapsed": false
   },
   "outputs": [
    {
     "name": "stdout",
     "output_type": "stream",
     "text": [
      "[0.5, 0.50000000000000011, 0.50000000000000011]\n"
     ]
    }
   ],
   "source": [
    "import numpy as np\n",
    "import matplotlib.pyplot as plt\n",
    "\n",
    "def myTestFunction(x):\n",
    "    return 3 * np.cos(np.pi * x)\n",
    "\n",
    "def RegulaFalsi(a, b, tol, f):\n",
    "    xGuesses = []\n",
    "    IterationDifference = abs(a - b)\n",
    "    while (IterationDifference >= tol):\n",
    "        xNew = (f(b) * a - f(a) * b) / (f(b) - f(a))\n",
    "        xGuesses.append(xNew)\n",
    "        if (np.sign(f(a)) == np.sign(f(xNew))):\n",
    "            IterationDifference = abs(a - xNew)\n",
    "            a = xNew\n",
    "        elif (np.sign(f(b)) == np.sign(f(xNew))):\n",
    "            IterationDifference = abs(b - xNew)\n",
    "            b = xNew\n",
    "        elif xNew == 0.0:\n",
    "            return xGuesses\n",
    "    return xGuesses\n",
    "\n",
    "print RegulaFalsi(0.0, 1.0, .001, myTestFunction)"
   ]
  },
  {
   "cell_type": "code",
   "execution_count": 22,
   "metadata": {
    "collapsed": false
   },
   "outputs": [
    {
     "name": "stdout",
     "output_type": "stream",
     "text": [
      "[[ 0.  0.  0.  0.  0.  0.  0.  0.  0.  0.  0.  0.  0.  0.  0.  0.  0.  0.\n",
      "   0.  0.  0.  0.  0.  0.  0.  0.  0.  0.  0.  0.]\n",
      " [ 0.  0.  0.  0.  0.  0.  0.  0.  0.  0.  0.  0.  0.  0.  0.  0.  0.  0.\n",
      "   0.  0.  0.  0.  0.  0.  0.  0.  0.  0.  0.  0.]]\n"
     ]
    }
   ],
   "source": []
  },
  {
   "cell_type": "code",
   "execution_count": null,
   "metadata": {
    "collapsed": false
   },
   "outputs": [],
   "source": []
  }
 ],
 "metadata": {
  "anaconda-cloud": {},
  "kernelspec": {
   "display_name": "Python 2",
   "language": "python",
   "name": "python2"
  },
  "language_info": {
   "codemirror_mode": {
    "name": "ipython",
    "version": 2
   },
   "file_extension": ".py",
   "mimetype": "text/x-python",
   "name": "python",
   "nbconvert_exporter": "python",
   "pygments_lexer": "ipython2",
   "version": "2.7.12"
  }
 },
 "nbformat": 4,
 "nbformat_minor": 0
}
