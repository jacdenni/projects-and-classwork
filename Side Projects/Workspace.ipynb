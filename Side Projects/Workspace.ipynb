{
 "cells": [
  {
   "cell_type": "code",
   "execution_count": 7,
   "metadata": {
    "collapsed": false
   },
   "outputs": [
    {
     "name": "stdout",
     "output_type": "stream",
     "text": [
      "Imported regular expressions\n",
      "['C', '3.141', '5.323', '2.345']\n",
      "<filter object at 0x10919e9e8>\n"
     ]
    },
    {
     "data": {
      "text/plain": [
       "\"\\nregex = re.compile('[\\\\s]')\\n\\nprint(re.sub(regex, ',', testString))\\n\""
      ]
     },
     "execution_count": 7,
     "metadata": {},
     "output_type": "execute_result"
    }
   ],
   "source": [
    "import re\n",
    "print('Imported regular expressions')\n",
    "\n",
    "testString = 'C     3.141   5.323 2.345'.split()\n",
    "print(testString)\n",
    "print(filter(None, testString))\n",
    "'''\n",
    "regex = re.compile('[\\s]')\n",
    "\n",
    "print(re.sub(regex, ',', testString))\n",
    "'''"
   ]
  },
  {
   "cell_type": "code",
   "execution_count": null,
   "metadata": {
    "collapsed": true
   },
   "outputs": [],
   "source": []
  }
 ],
 "metadata": {
  "kernelspec": {
   "display_name": "Python 3",
   "language": "python",
   "name": "python3"
  },
  "language_info": {
   "codemirror_mode": {
    "name": "ipython",
    "version": 3
   },
   "file_extension": ".py",
   "mimetype": "text/x-python",
   "name": "python",
   "nbconvert_exporter": "python",
   "pygments_lexer": "ipython3",
   "version": "3.6.0"
  }
 },
 "nbformat": 4,
 "nbformat_minor": 2
}
