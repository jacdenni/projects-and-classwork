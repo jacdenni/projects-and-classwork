{
 "cells": [
  {
   "cell_type": "code",
   "execution_count": 128,
   "metadata": {
    "collapsed": false
   },
   "outputs": [],
   "source": [
    "import enchant\n",
    "import math as m\n",
    "dictionary = enchant.Dict(\"en_US\")\n",
    "\n",
    "\n",
    "def AffineCode(word, a, b):\n",
    "    new_word = ''\n",
    "    for P in word:\n",
    "        #print(ord(P))\n",
    "        if ((ord(P) < 123) & (ord(P) >= 97)):\n",
    "            p = ord(P) - 97\n",
    "            c = (a * p + b) % 26\n",
    "            new_word = new_word + chr(c + 97)\n",
    "        elif ((ord(P) < 90) & (ord(P) >= 65)):\n",
    "            p = ord(P) - 65\n",
    "            c = (a * p + b) % 26\n",
    "            new_word = new_word + chr(c + 65)\n",
    "        else:\n",
    "            new_word = new_word + P\n",
    "    return new_word\n",
    "    \n",
    "def EncodePhrase(phrase, a, b):\n",
    "    phrase_list = phrase.split(' ')\n",
    "    encoded_phrase = []\n",
    "    for word in phrase_list:\n",
    "        encoded_phrase.append(AffineCode(word, a, b))\n",
    "    return ' '.join(encoded_phrase)\n",
    "    \n",
    "def DecodeCipher(input_string):\n",
    "    input_words = input_string.split(' ')\n",
    "    phrase_length = len(input_words)\n",
    "    cipher_found = False\n",
    "    a = [3, 5, 7, 11, 15, 17, 19, 21, 23, 25]\n",
    "    b = 0\n",
    "    a_i = 0\n",
    "    while (not cipher_found) & (a_i < 10):\n",
    "        #print ('\\na = {}\\n'.format(a[a_i]))\n",
    "        while (not cipher_found) & (b < 26):\n",
    "            test = AffineCode(input_words[0], a[a_i], b)\n",
    "            cipher_found = dictionary.check(test)\n",
    "            if cipher_found:\n",
    "                i = 0\n",
    "                while (i < phrase_length) & (cipher_found):\n",
    "                    decoded_word = AffineCode(input_words[i], a[a_i], b)\n",
    "                    cipher_found = dictionary.check(decoded_word)\n",
    "                    i += 1\n",
    "            if not cipher_found:\n",
    "                b += 1\n",
    "        if not cipher_found:\n",
    "            b = 0\n",
    "            a_i += 1\n",
    "    \n",
    "    if cipher_found:\n",
    "        print(\"Found the cipher! a = {}, b = {}\".format(a[a_i], b))\n",
    "        print(' '.join(AffineCode(word, a[a_i], b) for word in input_words))\n",
    "    else:\n",
    "        print(\"Failed to find the cipher\")\n",
    "    "
   ]
  },
  {
   "cell_type": "code",
   "execution_count": 130,
   "metadata": {
    "collapsed": false
   },
   "outputs": [
    {
     "name": "stdout",
     "output_type": "stream",
     "text": [
      "Yqvt vt h ybty\n",
      "Found the cipher! a = 21, b = 9\n",
      "This is a test\n",
      "Found the cipher! a = 7, b = 12\n",
      "You lead the race of the world's unluckiest\n",
      "Failed to find the cipher\n"
     ]
    }
   ],
   "source": [
    "def main():\n",
    "    result = EncodePhrase(\"This is a test\", 5, 7)\n",
    "    print(result)\n",
    "    DecodeCipher(result)\n",
    "    result2 = 'Yeq lkcv bdk xcgk ez bdk uexlv\\'m qplqgwskmb'\n",
    "    DecodeCipher(result2)\n",
    "    result3 = 'NH WRTEQ TFWRX TGY T YEZVXH GJNMGRXX STPGX NH XRGXR TX QWZJDW ZK WRNUZFB P WTY YEJGB ZE RNSQPRY XZNR YJUU ZSPTQR QZ QWR YETPGX ZGR NPGJQR STXQ TGY URQWR VTEYX WTY XJGB'\n",
    "    DecodeCipher(result3)\n",
    "    \n",
    "if __name__ == '__main__':\n",
    "    main()\n"
   ]
  },
  {
   "cell_type": "code",
   "execution_count": 118,
   "metadata": {
    "collapsed": false
   },
   "outputs": [
    {
     "name": "stdout",
     "output_type": "stream",
     "text": [
      "65\n",
      "90\n"
     ]
    }
   ],
   "source": [
    "print(ord('A'))\n",
    "print(ord('Z'))"
   ]
  },
  {
   "cell_type": "code",
   "execution_count": null,
   "metadata": {
    "collapsed": true
   },
   "outputs": [],
   "source": []
  }
 ],
 "metadata": {
  "kernelspec": {
   "display_name": "Python 3",
   "language": "python",
   "name": "python3"
  },
  "language_info": {
   "codemirror_mode": {
    "name": "ipython",
    "version": 3
   },
   "file_extension": ".py",
   "mimetype": "text/x-python",
   "name": "python",
   "nbconvert_exporter": "python",
   "pygments_lexer": "ipython3",
   "version": "3.6.0"
  }
 },
 "nbformat": 4,
 "nbformat_minor": 2
}
